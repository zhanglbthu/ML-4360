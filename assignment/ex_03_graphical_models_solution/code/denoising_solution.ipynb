{
 "cells": [
  {
   "cell_type": "markdown",
   "id": "6756da5f",
   "metadata": {},
   "source": [
    "# Image Denoising\n",
    "\n",
    "You are given a noisy binary image ($10 \\times 10$ pixels) which you want to denoise.\n",
    "<table><tr>\n",
    "<td> <img src=\"gfx/camera_lego.jpg\" width=\"250\"/> </td>\n",
    "<td> <img src=\"gfx/image_noisy_large.png\" width=\"200\"/> </td>\n",
    "</tr></table>\n",
    "\n",
    "Make use of the Ising model for that purpose where neighboring pixels are encouraged to take the same value:\n",
    "$$p(x_1,\\dots,x_{100}) \\propto \\exp \\left\\{\\sum_{i=1}^{100} \\psi_i(x_i) + \\sum_{i\\sim j} \\psi_{ij} (x_i,x_j) \\right\\}$$\n",
    "   \t\n",
    "Here, $i$ is the pixel index and $i\\sim j$ are neighboring pixels on a 4-connected grid. The unary term $\\psi_i(x_i) = [x_i = o_i]$ models the observation at pixel $i$, and the pairwise term is the Ising prior $\\psi_{ij}(x_i,x_j) = \\alpha \\cdot [x_i = x_j]$, where $\\alpha$ controls the strength of the interaction/smoothing. Because we have large number of variables in this exercise, we use logarithm factors to avoid potential numerical underflow issues.\n",
    "   \t\n",
    "The code already contains the implementation of the Max-Product Belief Propagation Algorithm for general structured Markov Random Fields. \n",
    "Carefully study the code, understand all the data structures. The pseudocode for this algorithm is specified in the following. \n",
    "\n",
    "**Inputs:**\n",
    "* `num_vars`, `num_states`, `factors`, `msg_fv`, `msg_vf`, `ne_var`\n",
    "\n",
    "**Outputs:**\n",
    "* `max_marginals`: `num_vars` x `num_states` array of estimated max-marginals\n",
    "* `map_est`: array comprising the estimated MAP state of each variable\n",
    "\n",
    "**Algorithm Pseudocode:**\n",
    "* For `N=30` iterations do:\n",
    " * Update all unary factor-to-variable messages: $\\lambda_{f\\rightarrow x}(x) = f(x)$\n",
    " * Update all pairwise factor-to-variable messages: $\\lambda_{f\\rightarrow x}(x) = \\max_y \\left[f(x,y)+\\lambda_{y\\rightarrow f}(y)\\right]$\n",
    " * Update all variable-to-factor messages: $\\lambda_{x\\rightarrow f}(x) = \\sum_{g\\in\\{ ne(x)\\setminus f\\}}\\lambda_{g\\rightarrow x}(x)$\n",
    "            \n",
    "* Calculate Max-Marginals: $\\gamma_x(x) = \\sum_{g\\in\\{ ne(x)\\}}\\lambda_{g\\rightarrow x}(x)$\n",
    "* Calculate MAP Solution: $x^* = \\underset{x}{\\mathrm{argmax}} ~ \\gamma_x(x)$"
   ]
  },
  {
   "cell_type": "code",
   "execution_count": 1,
   "id": "8374c644",
   "metadata": {},
   "outputs": [
    {
     "data": {
      "image/png": "[encoded data removed]",
      "text/plain": [
       "<Figure size 432x288 with 1 Axes>"
      ]
     },
     "metadata": {
      "needs_background": "light"
     },
     "output_type": "display_data"
    }
   ],
   "source": [
    "# import modules\n",
    "import numpy as np\n",
    "import matplotlib.pyplot as plt\n",
    "import imageio\n",
    "\n",
    "# load and plot input image\n",
    "img = imageio.imread('gfx/image.png')/255\n",
    "plt.imshow(img,interpolation='nearest');\n",
    "plt.gray()\n",
    "plt.show()"
   ]
  },
  {
   "cell_type": "markdown",
   "id": "63d880ec",
   "metadata": {},
   "source": [
    "Set Model Parameters & Create Factors\n",
    " * `num_vars`: number of variables in MRF\n",
    " * `num_states`: number of states for each variable (binary -> num_states=2)\n",
    " * `factors`: list of dictionaries where each entry of the list comprises two variables: (`vars` = array of variables involved, `vals` = vector/matrix specifying the vector)\n",
    " \n",
    "### Task 1\n",
    " \n",
    "Add the unary and pairwise factors according to the formula given in the beginning. "
   ]
  },
  {
   "cell_type": "code",
   "execution_count": 60,
   "id": "5009f397",
   "metadata": {},
   "outputs": [],
   "source": [
    "# model parameters\n",
    "[h,w] = img.shape # get width & height of image\n",
    "num_vars = w*h    # number of variables = width * height\n",
    "num_states = 2    # binary segmentation -> two states\n",
    "\n",
    "# initialize factors (list of dictionaries), each factor comprises:\n",
    "#   vars: array of variables involved\n",
    "#   vals: vector/matrix of factor values\n",
    "factors = []\n",
    "\n",
    "# add unary factors\n",
    "for u in range(w):\n",
    "  for v in range(h):\n",
    "    factors.append({'vars':np.array([v*w+u]), 'vals':np.array([1-img[v,u],img[v,u]])})\n",
    "\n",
    "# add pairwise factors\n",
    "alpha = 0.4 # smoothness weight\n",
    "E = alpha*np.array([[1,0],[0,1]]) # energy matrix for pairwise factor\n",
    "for u in range(w):\n",
    "  for v in range(h):\n",
    "    if v<h-1:\n",
    "      factors.append({'vars':np.array([v*w+u,(v+1)*w+u]), 'vals':E})\n",
    "    if u<w-1:\n",
    "      factors.append({'vars':np.array([v*w+u,v*w+u+1]), 'vals':E})"
   ]
  },
  {
   "cell_type": "markdown",
   "id": "cfc1976c",
   "metadata": {},
   "source": [
    "Initialize Messages\n",
    " * `msg_fv`: dictionary of all messages from factors to variables\n",
    " * `msg_vf`: dictionary of all messages from variables to factors\n",
    " * `ne_var`: list which comprises the neighboring factors of each variable"
   ]
  },
  {
   "cell_type": "code",
   "execution_count": 61,
   "id": "ac9a07d1",
   "metadata": {},
   "outputs": [
    {
     "name": "stdout",
     "output_type": "stream",
     "text": [
      "Messages initialized!\n"
     ]
    }
   ],
   "source": [
    "# initialize all messages\n",
    "msg_fv = {} # f->v messages (dictionary)\n",
    "msg_vf = {} # v->f messages (dictionary)\n",
    "ne_var = [[] for i in range(num_vars)] # neighboring factors of variables (list of list)\n",
    "\n",
    "# set messages to zero; determine factors neighboring each variable\n",
    "for [f_idx,f] in enumerate(factors):\n",
    "    for v_idx in f['vars']:\n",
    "        msg_fv[(f_idx,v_idx)] = np.zeros(num_states) # factor->variable message\n",
    "        msg_vf[(v_idx,f_idx)] = np.zeros(num_states) # variable->factor message\n",
    "        ne_var[v_idx].append(f_idx) # factors neighboring variable v_idx\n",
    "\n",
    "# status message\n",
    "print(\"Messages initialized!\")"
   ]
  },
  {
   "cell_type": "markdown",
   "id": "a2306e33",
   "metadata": {},
   "source": [
    "Inference: Implementation of the Max-Product Belief Propagation Algorithm as outlined in the Pseudocode in the beginning."
   ]
  },
  {
   "cell_type": "code",
   "execution_count": 62,
   "id": "7f73c440",
   "metadata": {
    "scrolled": true
   },
   "outputs": [],
   "source": [
    "# run inference\n",
    "for it in range(30):\n",
    "  \n",
    "    # for all factor-to-variable messages do\n",
    "    for [key,msg] in msg_fv.items():\n",
    "        \n",
    "        # shortcuts to variables\n",
    "        f_idx = key[0] # factor (source)\n",
    "        v_idx = key[1] # variable (target)\n",
    "        f_vars = factors[f_idx]['vars'] # variables connected to factor\n",
    "        f_vals = factors[f_idx]['vals'] # vector/matrix of factor values \n",
    "\n",
    "        # unary factor-to-variable message\n",
    "        if np.size(f_vars)==1:\n",
    "            msg_fv[(f_idx,v_idx)] = f_vals\n",
    "\n",
    "        # pairwise factor-to-variable-message\n",
    "        else:\n",
    "\n",
    "            # if target variable is first variable of factor\n",
    "            if v_idx==f_vars[0]:\n",
    "                msg_in = np.tile(msg_vf[(f_vars[1],f_idx)],(num_states,1))\n",
    "                msg_fv[(f_idx,v_idx)] = (f_vals+msg_in).max(1) # max over columns\n",
    "\n",
    "            # if target variable is second variable of factor\n",
    "            else:\n",
    "                msg_in = np.tile(msg_vf[(f_vars[0],f_idx)],(num_states,1))\n",
    "                msg_fv[(f_idx,v_idx)] = (f_vals+msg_in.transpose()).max(0) # max over rows\n",
    "                \n",
    "        # normalize\n",
    "        msg_fv[(f_idx,v_idx)] = msg_fv[(f_idx,v_idx)] - np.mean(msg_fv[(f_idx,v_idx)])\n",
    "\n",
    "    # for all variable-to-factor messages do\n",
    "    for [key,msg] in msg_vf.items():\n",
    "        \n",
    "        # shortcuts to variables\n",
    "        v_idx = key[0] # variable (source)\n",
    "        f_idx = key[1] # factor (target)\n",
    "\n",
    "        # add messages from all factors send to this variable (except target factor)\n",
    "        # and send the result to the target factor\n",
    "        msg_vf[(v_idx,f_idx)] = np.zeros(num_states)\n",
    "        for f_idx2 in ne_var[v_idx]:\n",
    "            if f_idx2 != f_idx:\n",
    "                msg_vf[(v_idx,f_idx)] += msg_fv[(f_idx2,v_idx)]\n",
    "                \n",
    "        # normalize\n",
    "        msg_vf[(v_idx,f_idx)] = msg_vf[(v_idx,f_idx)] - np.mean(msg_vf[(v_idx,f_idx)])\n",
    "        \n",
    "# calculate max-marginals (num_vars x num_states matrix)\n",
    "max_marginals = np.zeros([num_vars,num_states])\n",
    "for v_idx in range(num_vars):\n",
    "    \n",
    "    # add messages from all factors sent to this variable\n",
    "    max_marginals[v_idx] = np.zeros(num_states)\n",
    "    for f_idx in ne_var[v_idx]:\n",
    "        max_marginals[v_idx] += msg_fv[(f_idx,v_idx)]\n",
    "    #print max_marginals[v_idx]\n",
    "\n",
    "# get MAP solution\n",
    "map_est = np.argmax(max_marginals,axis=1)"
   ]
  },
  {
   "cell_type": "markdown",
   "id": "277ce21b",
   "metadata": {},
   "source": [
    "Show Inference Results"
   ]
  },
  {
   "cell_type": "code",
   "execution_count": 63,
   "id": "cb3d2560",
   "metadata": {},
   "outputs": [
    {
     "data": {
      "image/png": "[encoded data removed]",
      "text/plain": [
       "<Figure size 432x288 with 1 Axes>"
      ]
     },
     "metadata": {
      "needs_background": "light"
     },
     "output_type": "display_data"
    }
   ],
   "source": [
    "# plot MAP estimate\n",
    "plt.imshow(map_est.reshape(h,w),interpolation='nearest');\n",
    "plt.gray()\n",
    "plt.show()"
   ]
  },
  {
   "cell_type": "markdown",
   "id": "1ae8d7ff",
   "metadata": {},
   "source": [
    "### Task 2: Smoothness Prior\n",
    "   \t\n",
    "Using the code developed above, answer the following questions:\n",
    "* Can you recover a noise-free image?\n",
    "* With which parameter $\\alpha$ is this possible?\n",
    "* What happens when you increase or decrease $\\alpha$?\n",
    "* Show all distinct MAP estimates for $\\alpha\\in[0,1]$"
   ]
  },
  {
   "cell_type": "code",
   "execution_count": null,
   "id": "61e13095",
   "metadata": {},
   "outputs": [],
   "source": []
  }
 ],
 "metadata": {
  "kernelspec": {
   "display_name": "Python [conda env:lecturecv-ex02] *",
   "language": "python",
   "name": "conda-env-lecturecv-ex02-py"
  },
  "language_info": {
   "codemirror_mode": {
    "name": "ipython",
    "version": 3
   },
   "file_extension": ".py",
   "mimetype": "text/x-python",
   "name": "python",
   "nbconvert_exporter": "python",
   "pygments_lexer": "ipython3",
   "version": "3.8.8"
  }
 },
 "nbformat": 4,
 "nbformat_minor": 5
}
