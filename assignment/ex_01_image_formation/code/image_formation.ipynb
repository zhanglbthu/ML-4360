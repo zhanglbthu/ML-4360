{
 "cells": [
  {
   "cell_type": "markdown",
   "metadata": {
    "id": "nh4_HRosFOG0"
   },
   "source": [
    "# Computer Vision Lecture - Exercise 1 - Image Formation\n",
    "\n",
    "In this exercise, you will gain hands-on experience regarding the image formation process and geometric transformations. More specifically, we will develop our own simple renderer and play around with focal lengths, BRDF-based shading, rotations, translations, and much more! In the second part of the notebook, we will have a look at homographies and how they can be used to stitch together images to form panoramas.\n",
    "\n",
    "This notebook guides you through the relevant steps. When you see helper functions, you don't need to do anything - they are already implemented. The functions you need to implement are indicated as Exercise Function. Sometimes, you can find Hints - these are written upside-down so you can first try to find the solution without reading them.\n",
    "\n",
    "Good luck and lot's of fun!"
   ]
  },
  {
   "cell_type": "markdown",
   "metadata": {
    "id": "l2cAIYOQISHk"
   },
   "source": [
    "## Preliminaries\n",
    "\n",
    "Let's first import relevant libaries and define hyperparameters. For the latter, we set the image height H and width W to 128 pixels."
   ]
  },
  {
   "cell_type": "code",
   "execution_count": 1,
   "metadata": {
    "id": "GDBkWiYfiISM"
   },
   "outputs": [],
   "source": [
    "import numpy as np\n",
    "import itertools\n",
    "%matplotlib inline\n",
    "import matplotlib.pyplot as plt\n",
    "from scipy.spatial.transform import Rotation as R\n",
    "from IPython.display import HTML\n",
    "from matplotlib import animation\n",
    "from matplotlib.patches import Polygon\n",
    "import cv2\n",
    "\n",
    "# Let's first define hyperparameters. In our case, we set the image height H and width H to 128 pixels\n",
    "H, W = 128, 128"
   ]
  },
  {
   "cell_type": "markdown",
   "metadata": {
    "id": "J_v1ONsPIiww"
   },
   "source": [
    "We need an object in our scene in order to render more than an empty image! For this, we define a helper function which returns the faces (and optionally the face normals) of a cube. "
   ]
  },
  {
   "cell_type": "code",
   "execution_count": 2,
   "metadata": {
    "id": "dxtMOGgIiLwp"
   },
   "outputs": [],
   "source": [
    "###########################\n",
    "##### Helper Function #####\n",
    "###########################\n",
    "def get_cube(center=(0, 0, 2), rotation_angles=[0., 0., 0.], with_normals=False, scale=1.):\n",
    "    ''' Returns an array containing the faces of a cube.\n",
    "\n",
    "    Args:\n",
    "    center (tuple): center of the cube\n",
    "    rotation_angles (tuple): Euler angles describing the rotation of the cube\n",
    "    with_normals (bool): whether to return the normal vectors of the faces\n",
    "    scale (float): scale of cube\n",
    "\n",
    "    '''\n",
    "    # A cube consists of 6 faces and 8 corners:\n",
    "    #   +----+\n",
    "    #  /    /|\n",
    "    # +----+ |\n",
    "    # |    | +\n",
    "    # |    |/\n",
    "    # +----+\n",
    "    # Let's first consider the unit cube. The corners are:\n",
    "    corners = np.array([(0, 0, 0), (0, 0, 1), (0, 1, 0), (0, 1, 1), (1, 0, 0), (1, 0, 1), (1, 1, 0), (1, 1, 1)])\n",
    "    # Let's now center the cube at (0, 0, 0)\n",
    "    corners = corners - np.array([0.5, 0.5, 0.5], dtype=np.float32).reshape(1, 3)\n",
    "    # Let's scale the cube\n",
    "    corners = corners * scale\n",
    "    # And we rotate the cube wrt. the input rotation angles\n",
    "    rot_mat = R.from_euler('xyz', rotation_angles, degrees=True).as_matrix()\n",
    "    corners = np.matmul(corners, rot_mat.T)\n",
    "    # Finally, we shift the cube according to the input center tuple\n",
    "    corners = corners + np.array(center, dtype=np.float32).reshape(1, 3)\n",
    "\n",
    "    # The 6 faces of the cube are then given as:\n",
    "    faces = np.array([\n",
    "    # all faces containing (0, 0, 0)\n",
    "    [corners[0], corners[1], corners[3], corners[2]],\n",
    "    [corners[0], corners[1], corners[5], corners[4]],\n",
    "    [corners[0], corners[2], corners[6], corners[4]],\n",
    "    # all faces containing (1, 1, 1)\n",
    "    [corners[-1], corners[-2], corners[-4], corners[-3]],\n",
    "    [corners[-1], corners[-2], corners[-6], corners[-5]],\n",
    "    [corners[-1], corners[-3], corners[-7], corners[-5]],\n",
    "    ])\n",
    "\n",
    "    if with_normals:\n",
    "        normals = np.array([(-1, 0, 0), (0, -1, 0), (0, 0, -1), (1, 0, 0), (0, 1, 0), (0, 0, 1)])\n",
    "        normals = np.matmul(normals, rot_mat.T)\n",
    "        return faces, normals\n",
    "    else:\n",
    "        return faces"
   ]
  },
  {
   "attachments": {},
   "cell_type": "markdown",
   "metadata": {
    "id": "AmFoc5OhI5-q"
   },
   "source": [
    "## 2.1 Perspective Projection\n",
    "\n",
    "In the first part of the exercise, we will use the pinhole camera model which performs a perspective projection. After developing the projection and shading functions, we will play around with geometric transformations and analyze the effect of the focal lengths!\n",
    "\n",
    "### a)\n",
    "We arrive at our first exercise function. Your task is complete the function get_camera_intrinsics which returns a 3x3 camera matrix for provided focal lengths fx, fy and the principal point (cx, cy)."
   ]
  },
  {
   "cell_type": "code",
   "execution_count": 17,
   "metadata": {
    "id": "1ineb50epN8E"
   },
   "outputs": [],
   "source": [
    "###########################\n",
    "#### Exercise Function ####\n",
    "###########################\n",
    "def get_camera_intrinsics(fx=70, fy=70, cx=W/2., cy=H/2.):\n",
    "    ''' Returns the camera intrinsics matrix.\n",
    "\n",
    "    Hint: The array should be of size 3x3 and of dtype float32 (see the assertion below)\n",
    "\n",
    "    Args:\n",
    "    fx (float): focal length in x-direction f_x\n",
    "    fy (float): focal length in y-direction f_y\n",
    "    cx (float): x component of the principal point\n",
    "    cy (float): y compontent of th principal point\n",
    "    '''\n",
    "    \n",
    "    # Insert your code here\n",
    "    K = np.array([[fx, 0, cx], [0, fy, cy], [0, 0, 1]], dtype=np.float32)\n",
    "    \n",
    "    assert(K.shape == (3, 3) and K.dtype == np.float32)\n",
    "    return K"
   ]
  },
  {
   "attachments": {},
   "cell_type": "markdown",
   "metadata": {
    "id": "XHQClVxTLFmm"
   },
   "source": [
    "### b)\n",
    "\n",
    "We now develop the function `get_perspective_projection`. It takes in a 3D point in camera space `x_c` and the camera matrix `K` and it returns the point in screen space (i.e. the pixel coordinates) `x_s`. Note that we return a 2D vector for `x_s` as we drop the final value (which is always 1)."
   ]
  },
  {
   "cell_type": "code",
   "execution_count": 18,
   "metadata": {},
   "outputs": [],
   "source": [
    "def get_perspective_projection(x_c, K):\n",
    "    ''' Projects the 3D point x_c to screen space and returns the 2D pixel coordinates.\n",
    "    \n",
    "    Args:\n",
    "        x_c (array): 3D point in camera space\n",
    "        K (array): camera intrinsics matrix (3x3)\n",
    "    '''\n",
    "    assert(x_c.shape == (3,) and K.shape == (3, 3))\n",
    "\n",
    "    # Insert your code here\n",
    "    x_s = np.matmul(K, x_c)\n",
    "    # nomalize and drop z\n",
    "    x_s = x_s[:2] / x_s[2]\n",
    "\n",
    "    return x_s"
   ]
  },
  {
   "cell_type": "markdown",
   "metadata": {},
   "source": [
    "Here, we provide a helper function to project the entire cube using the camera matrix K."
   ]
  },
  {
   "cell_type": "code",
   "execution_count": 19,
   "metadata": {},
   "outputs": [],
   "source": [
    "###########################\n",
    "##### Helper Function #####\n",
    "###########################\n",
    "def project_cube(cube, K):\n",
    "    ''' Projects the cube.\n",
    "    \n",
    "    Args:\n",
    "        cube (array): cube\n",
    "        K (array): camera intrinsics matrix\n",
    "    '''\n",
    "    s = cube.shape\n",
    "    assert(s[-1] == 3)\n",
    "    cube = cube.reshape(-1, 3)\n",
    "    projected_cube = np.stack([get_perspective_projection(p, K) for p in cube])\n",
    "    projected_cube = projected_cube.reshape(*s[:-1], 2)\n",
    "    return projected_cube"
   ]
  },
  {
   "cell_type": "markdown",
   "metadata": {
    "id": "NP1Mr5PLNCvA"
   },
   "source": [
    "To see if our developed functions make sense, let's have a look at a projection! But first, we need to write a function which plots the projected cube - this is provided here."
   ]
  },
  {
   "cell_type": "code",
   "execution_count": 20,
   "metadata": {
    "id": "wQkRJQrncZtI"
   },
   "outputs": [],
   "source": [
    "###########################\n",
    "##### Helper Function #####\n",
    "###########################\n",
    "def plot_projected_cube(projected_cube, figsize=(5, 5), figtitle=None, colors=None, face_mask=None):\n",
    "    ''' Plots the projected cube.\n",
    "\n",
    "    Args:\n",
    "    projected_cube (array): projected cube (size 6x4x2)\n",
    "    figsize (tuple): size of the figure\n",
    "    colors (list): list of colors for polygons. If None, 'blue' is used for all faces\n",
    "    face_mask (array): mask for individual faces of the cube. If None, all faces are drawn.\n",
    "    '''\n",
    "    assert(projected_cube.shape == (6, 4, 2))\n",
    "    fig, ax = plt.subplots(figsize=figsize)\n",
    "    if figtitle is not None:\n",
    "        fig.suptitle(figtitle)\n",
    "    if colors is None:\n",
    "        colors = ['C0' for i in range(len(projected_cube))]\n",
    "    if face_mask is None:\n",
    "        face_mask = [True for i in range(len(projected_cube))]\n",
    "    ax.set_xlim(0, W), ax.set_ylim(0, H)\n",
    "    ax.set_xlabel('Width'), ax.set_ylabel(\"Height\")\n",
    "    for (cube_face, c, mask) in zip(projected_cube, colors, face_mask):\n",
    "        if mask:\n",
    "            ax.add_patch(Polygon(cube_face, color=c))\n",
    "    plt.show()"
   ]
  },
  {
   "cell_type": "markdown",
   "metadata": {
    "id": "7xll7NovNVtO"
   },
   "source": [
    "Let's have a look at our first rendering of a cube! We get our camera matrix `K` and the cube `cube`, then we project it using the `project_cube` function, and finally we can visualize the projection using the `plot_projected_cube function`."
   ]
  },
  {
   "cell_type": "code",
   "execution_count": 21,
   "metadata": {
    "colab": {
     "base_uri": "https://localhost:8080/",
     "height": 370
    },
    "id": "5LSrqBQVcF4d",
    "outputId": "5cbb4a15-9e21-42f4-99bb-d8d61b2498b9"
   },
   "outputs": [
    {
     "data": {
      "image/png": "[encoded data removed]",
      "text/plain": [
       "<Figure size 500x500 with 1 Axes>"
      ]
     },
     "metadata": {},
     "output_type": "display_data"
    }
   ],
   "source": [
    "K = get_camera_intrinsics()\n",
    "cube = get_cube(rotation_angles=[30, 50, 0])\n",
    "projected_cube = project_cube(cube, K)\n",
    "plot_projected_cube(projected_cube, figtitle='Projected Cube')"
   ]
  },
  {
   "cell_type": "markdown",
   "metadata": {
    "id": "DUSidMUgOj55"
   },
   "source": [
    "Doesn't look to bad! However, all faces have the same color, so we cannot really see which face of the cube is in front. For this, let's develop a simple shading function next!"
   ]
  },
  {
   "attachments": {},
   "cell_type": "markdown",
   "metadata": {
    "id": "8eyiK1ulOxIj"
   },
   "source": [
    "### c)\n",
    "\n",
    "We now develop the function `get_face_color`. For the input `normal` of a cube face and the `point_light direction` vector for a point light source, we calculate the color intensity using the rendering equation. We then stack the color intensity three times to obtain a RGB color value (scaled between 0.1 and 0.9 to avoid pure white/black). For calculating the light intensity, have a closer look at the rendering equation discussed in the lecture. You can assume that the surface does not emit light and that the BRDF term is always 1. The incoming light is exactly 1 for the direction of the point light source."
   ]
  },
  {
   "cell_type": "code",
   "execution_count": 22,
   "metadata": {},
   "outputs": [],
   "source": [
    "###########################\n",
    "#### Exercise Function ####\n",
    "###########################\n",
    "def get_face_color(normal, point_light_direction=(0, 0, 1)):\n",
    "    ''' Returns the face color for input normal.\n",
    "    \n",
    "    Args:\n",
    "        normal (array): 3D normal vector\n",
    "        point_light_direction (tuple): 3D point light direction vector\n",
    "    '''\n",
    "    assert(normal.shape == (3,))\n",
    "    point_light_direction = np.array(point_light_direction, dtype=np.float32)\n",
    "\n",
    "    # Insert your code here\n",
    "    light_intensity = np.dot(normal, point_light_direction)\n",
    "    \n",
    "    color_intensity = 0.1 + (light_intensity * 0.5 + 0.5) * 0.8\n",
    "    color = np.stack([color_intensity for i in range(3)])\n",
    "    return color"
   ]
  },
  {
   "cell_type": "markdown",
   "metadata": {},
   "source": [
    "We provide a helper function which returns the face colors for multiple normals by looping over them and returning stacking the output of the `get_face_color` function."
   ]
  },
  {
   "cell_type": "code",
   "execution_count": 23,
   "metadata": {
    "id": "COt1UAG8DJbu"
   },
   "outputs": [],
   "source": [
    "###########################\n",
    "##### Helper Function #####\n",
    "###########################\n",
    "def get_face_colors(normals, light_direction=(0, 0, 1)):\n",
    "    ''' Returns the face colors for given normals and viewing direction.\n",
    "\n",
    "    Args:\n",
    "    normals (array): face normals (last dimension is 3)\n",
    "    light_direction (tuple): light direction vector\n",
    "    '''\n",
    "    colors = np.stack([get_face_color(normal, light_direction) for normal in normals])\n",
    "    return colors"
   ]
  },
  {
   "cell_type": "markdown",
   "metadata": {
    "id": "-UUksJBmPhS_"
   },
   "source": [
    "When using different colors for the cube faces, we now also need to reason about which face is visible in the image. This function is provided in the following. We use a very simple heuristic here based on the face normals and the viewing direction which works for our examples."
   ]
  },
  {
   "cell_type": "code",
   "execution_count": 24,
   "metadata": {
    "id": "1PSaX1NMDNAB"
   },
   "outputs": [],
   "source": [
    "###########################\n",
    "##### Helper Function #####\n",
    "###########################\n",
    "def get_face_mask(cube, normals, camera_location=(0, 0, 0)):\n",
    "    ''' Returns a mask for each face of the cube whether it is visible when projected.\n",
    "    \n",
    "    Args:\n",
    "    cube (array): cube faces\n",
    "    normals (array): face normals (last dimension is 3)\n",
    "    camera_location (tuple): viewing camera location vector\n",
    "    '''\n",
    "    assert(cube.shape == (6, 4, 3) and normals.shape[-1] == 3)\n",
    "    camera_location = np.array(camera_location).reshape(1, 3) \n",
    "\n",
    "    face_center = np.mean(cube, axis=1)\n",
    "    viewing_direction = camera_location - face_center\n",
    "    dot_product = np.sum(normals * viewing_direction, axis=-1)\n",
    "    mask = dot_product > 0.0\n",
    "    return mask"
   ]
  },
  {
   "cell_type": "markdown",
   "metadata": {
    "id": "vQBNNTjTP0FH"
   },
   "source": [
    "Great, let's have a look at our projected cube with shading!"
   ]
  },
  {
   "cell_type": "code",
   "execution_count": 25,
   "metadata": {
    "colab": {
     "base_uri": "https://localhost:8080/",
     "height": 370
    },
    "id": "Zj_mt6-KDbyL",
    "outputId": "ab494f4c-45d5-41b9-dffa-6c726f457db4"
   },
   "outputs": [
    {
     "data": {
      "image/png": "[encoded data removed]",
      "text/plain": [
       "<Figure size 500x500 with 1 Axes>"
      ]
     },
     "metadata": {},
     "output_type": "display_data"
    }
   ],
   "source": [
    "cube, normals = get_cube(rotation_angles=[30, 50, 0], with_normals=True)\n",
    "colors = get_face_colors(normals)\n",
    "mask = get_face_mask(cube, normals)\n",
    "projected_cube = project_cube(cube, get_camera_intrinsics())\n",
    "plot_projected_cube(projected_cube, figtitle=\"Projected Cuboid with Shading\", colors=colors, face_mask=mask)"
   ]
  },
  {
   "cell_type": "markdown",
   "metadata": {
    "id": "Z12lTdRjQAgG"
   },
   "source": [
    "Looks much better, right? We can see that **shading is a strong cue for reasoning about 3D geometry**. In the following, we will create animations where we rotate the cube or change the focal lengths."
   ]
  },
  {
   "cell_type": "markdown",
   "metadata": {
    "id": "k5OEjevLQ1qK"
   },
   "source": [
    "The next function `get_animation` returns a matplotlib animation for given lists of camera matrices and cubes."
   ]
  },
  {
   "cell_type": "code",
   "execution_count": 26,
   "metadata": {
    "id": "GfOWImBuf1z4"
   },
   "outputs": [],
   "source": [
    "###########################\n",
    "##### Helper Function #####\n",
    "###########################\n",
    "def get_animation(K_list, cube_list, figsize=(5, 5), title=None):\n",
    "    ''' Create a matplotlib animation for the list of camera matrices and cubes with face normals.\n",
    "\n",
    "    Args:\n",
    "    K_list (list): list of camera matrices\n",
    "    cube_list (list): list of cubes\n",
    "    figsize (tuple): matplotlib figsize\n",
    "    title (str): if not None, the title of the figure\n",
    "    '''\n",
    "    assert(len(K_list) == len(cube_list))\n",
    "\n",
    "    # split cube_list into cubes and normals\n",
    "    cubes = [i[0] for i in cube_list]\n",
    "    normals = [i[1] for i in cube_list]\n",
    "\n",
    "    # get face colors and masks\n",
    "    colors = [get_face_colors(normals_i) for normals_i in normals]\n",
    "    masks = [get_face_mask(cube_i, normals_i) for (cube_i, normals_i) in zip(cubes, normals)]\n",
    "\n",
    "    # get projected cubes\n",
    "    projected_cubes = [project_cube(cube, Ki) for (cube, Ki) in zip(cubes, K_list)]\n",
    "\n",
    "    # initialize plot\n",
    "    uv = projected_cubes[0]\n",
    "    patches = [Polygon(uv_i, closed=True, color='white') for uv_i in uv]\n",
    "\n",
    "    # Define animation function\n",
    "    def animate(n):\n",
    "        ''' Animation function for matplotlib visualizations.\n",
    "        '''\n",
    "        uv = projected_cubes[n]\n",
    "        color = colors[n]\n",
    "        mask = masks[n]\n",
    "        for patch, uv_i, color_i, mask_i in zip(patches, uv, color, mask):\n",
    "            if mask_i:\n",
    "                patch.set_xy(uv_i)\n",
    "                patch.set_color(color_i)\n",
    "            else:\n",
    "                uv_i[:] = -80\n",
    "                patch.set_color(color_i)\n",
    "                patch.set_xy(uv_i)\n",
    "        return patches\n",
    "\n",
    "    fig, ax = plt.subplots(figsize=figsize)\n",
    "    if title is not None:\n",
    "        fig.suptitle(title)\n",
    "    plt.close()\n",
    "    ax.set_xlim(0, W)\n",
    "    ax.set_ylim(0, H)\n",
    "    for patch in patches:\n",
    "        ax.add_patch(patch)\n",
    "    anim = animation.FuncAnimation(fig, animate, frames=len(K_list), interval=100, blit=True)\n",
    "    return anim"
   ]
  },
  {
   "cell_type": "markdown",
   "metadata": {
    "id": "5aILzXxiaqVh"
   },
   "source": [
    "With this helper function, we can now create cool animations! Let's start off with creating a list of camera matrices and a list of cubes with normals where we rotate the cube along the y-axis."
   ]
  },
  {
   "cell_type": "code",
   "execution_count": 27,
   "metadata": {
    "colab": {
     "base_uri": "https://localhost:8080/",
     "height": 380
    },
    "id": "ONYwook5hCH6",
    "outputId": "30e932a1-029b-4e40-df72-0e7f553f53a0"
   },
   "outputs": [
    {
     "data": {
      "text/html": [
       "<video width=\"500\" height=\"500\" controls autoplay loop>\n",
       "  <source type=\"video/mp4\" src=\"data:video/mp4;base64,AAAAHGZ0eXBNNFYgAAACAGlzb21pc28yYXZjMQAAAAhmcmVlAABMBG1kYXQAAAKvBgX//6vcRem9\n",
       "5tlIt5Ys2CDZI+7veDI2NCAtIGNvcmUgMTUyIHIyODU0IGU5YTU5MDMgLSBILjI2NC9NUEVHLTQg\n",
       "QVZDIGNvZGVjIC0gQ29weWxlZnQgMjAwMy0yMDE3IC0gaHR0cDovL3d3dy52aWRlb2xhbi5vcmcv\n",
       "eDI2NC5odG1sIC0gb3B0aW9uczogY2FiYWM9MSByZWY9MyBkZWJsb2NrPTE6MDowIGFuYWx5c2U9\n",
       "MHgzOjB4MTEzIG1lPWhleCBzdWJtZT03IHBzeT0xIHBzeV9yZD0xLjAwOjAuMDAgbWl4ZWRfcmVm\n",
       "PTEgbWVfcmFuZ2U9MTYgY2hyb21hX21lPTEgdHJlbGxpcz0xIDh4OGRjdD0xIGNxbT0wIGRlYWR6\n",
       "b25lPTIxLDExIGZhc3RfcHNraXA9MSBjaHJvbWFfcXBfb2Zmc2V0PS0yIHRocmVhZHM9MTYgbG9v\n",
       "a2FoZWFkX3RocmVhZHM9MiBzbGljZWRfdGhyZWFkcz0wIG5yPTAgZGVjaW1hdGU9MSBpbnRlcmxh\n",
       "Y2VkPTAgYmx1cmF5X2NvbXBhdD0wIGNvbnN0cmFpbmVkX2ludHJhPTAgYmZyYW1lcz0zIGJfcHly\n",
       "YW1pZD0yIGJfYWRhcHQ9MSBiX2JpYXM9MCBkaXJlY3Q9MSB3ZWlnaHRiPTEgb3Blbl9nb3A9MCB3\n",
       "ZWlnaHRwPTIga2V5aW50PTI1MCBrZXlpbnRfbWluPTEwIHNjZW5lY3V0PTQwIGludHJhX3JlZnJl\n",
       "c2g9MCByY19sb29rYWhlYWQ9NDAgcmM9Y3JmIG1idHJlZT0xIGNyZj0yMy4wIHFjb21wPTAuNjAg\n",
       "cXBtaW49MCBxcG1heD02OSBxcHN0ZXA9NCBpcF9yYXRpbz0xLjQwIGFxPTE6MS4wMACAAAAP5mWI\n",
       "hAA///73aJ8Cm1pDeoDklcUl20+B/6tncqT9GY/3RAAzoY0EYwxDMLA7SON9MKzpobEiNi8x912+\n",
       "ch/oWrSrr09ktbGQpp4IYctGec7I46GFfcW8rEG3N4QgFjGBQBSKkWTnaUvsPxFBOCJLSo/AvtLC\n",
       "KdYy7NXvGhkav1MNynUS3/LB5AYR/H6dFoIcR1xDbNlKwYqJzPO0w3vdXC5qUcrJx4AE/R7V04N5\n",
       "qCtFZeZMqixzEc53Dp+P5ivgQuNH/euV60gcfWoY0snK3UDIj9IH5eV8E721HtTIlevcyzEUIMJz\n",
       "WFvs9LHKiQaVqvzR61CzBUtf5IMarcYNW/VlOoVRmvxQLVZoXaOkcrPlFIXS9DlLBN1VqPZBn1bX\n",
       "kGdYmFBs5LOqOtkDLqk3HzQXe5NJ4BOmCtgBVTyYt9uau6vaRfvJHftz21M2DWedNZz9SRiwYn/Y\n",
       "ecH9jI461zpu806s/5C40RzJYo7AW+pMW+ewPMa28kVsYELoK4UyMARfjY6zWF+orZ++oz7uBmW8\n",
       "RrYdrX2qQrV2l93wNLyjGx7c6KwzS4xbppbahbc+/3kxMk+Q+PCUuR+UcXXshlROAqDE/MWLOkT0\n",
       "Hoja4Zd+a4Rk6AtkhvohRYNs/g1RfeDIfGnkgOTIdP3MWOv4PwLLYao55BR9b4K3VWFWXgbCoxsZ\n",
       "amUjB+HXSf/0ZiOYPBWGtEBaOqw14QMT7lhh9knYYK9l5VSV9wklq0ftkQfIkM9THK7lgkAABE3n\n",
       "qeWnIvOaPV0XlMr2Lz0kq/bZY65cnstswkREd7/KFeqEPf7mFGCmFc8aPEh+mn5rd2D8D8YWLYt3\n",
       "kGcKm4UwML4aMM2OtqlfKQ5pPL7jT3Ml0D/s1BJYNtvu3OkHRgIqNJE2EZ+wpDFBqo6Eycvn9Zcw\n",
       "ik6otJ4kEjG77IO0+r/jZlFMDHbom2X7GDw67he0nCmJgEbo/76mNo0e8bGOBrKudjyxW859pd35\n",
       "PAJUKMdCvvalDfHS4Qz58gVLvL0yQ7qTfQG3MCM/Bxbs2Tp8Lwl7Z6ZdsvfAJe1+7rE1ugWSx1KL\n",
       "8dD+ALs2AN1+8qhPGa7B3cSWPx1EuPZ2KkpINWacr5qJ3ZC8T8y/GOUDrQx2AwHbbEeMArqnsYAe\n",
       "Qi/XhfzuwM/HPK94DaWOmah6DGUmbjiT0OHvfRzrbq0FPKStyiXsffjuXr1JaEdL63XMnrIPTxqD\n",
       "MrSN5zMbQ9m8supA0WnrRHjF58FhQwcyqEDczETf5IelkINvhwu7N8bihLQD9I7vo6UsUGTeSJH7\n",
       "gIu5PjqzTwZPVShYBn8KZTVffdjnMKxmXVMwmI8zK8nUnmyn/7xgbAl4G8szsK+Te1ooRh1runLu\n",
       "cOUsg6lxujo6wUOjjOHBRKhRZFi1B0GmeyQ8/Ur6McO1mRZCv6HbKNHBZE9LB8R2XHBV/3Jrb9F8\n",
       "AaEJgVKntr3JzxWYwKOGzPEhlJxAgTGFI8fdLQ+ulE858esZoF7DBgJR2XUXKZRjDVEfxVQxGYzI\n",
       "kkEDciTKTXHoYrcBm8FQWqayWrwxQ4W9G8X6Zzmw4Dl2bqgBA0AAbq07Dlw+7pKU8EeZ6uQloyD+\n",
       "L/61t0zV+HN6a90qDp/XoY52GT6R4bvvA+HpCAAAf/l7DWx//0XWnVHNAihI98VUNu4wyNRfvwbQ\n",
       "F7ft6RVLRJ9owAACAWIfgr+EQuIJkxoj2GLy2j47Nwl5mnwIGzMSpfw0/M1gSetkZ8ztlnvJbB2T\n",
       "wVEz4sXuBl00+2E71nezCAA2A5lvt0Wb1B13+4z+Iv1cw05ZnpLAABQ5eQo1zUUKjLoqCdoFooh+\n",
       "k/1fCZarbmUldccZbvkkfThFh3fJrhZtRzbihKzwBKouusL3t85OnFE9FD2MwdSxEAK+59CjpeNm\n",
       "AP15BIch05WspLSesfxECw6slSDR69p1bp8uivbKVVxJLcta/PECFOuvPbrgIt5MW/faEMZaK5AN\n",
       "sUlzqynb6rBNo8fq2wrVdQB494AGgULdofnfyw1N3KLGppMdjlDzGtAouJDXnderMctJxDu+0nl2\n",
       "oH2SVjAS2PSz5N8gw4y2Rk19ZrgTHThSu3h+EJCLNrcu0rVGQ5Ap+x4NQxslwG9FC4ku+CKnMYQO\n",
       "SxSXzsABcUCmbDHLFq77s6L6ChzhrMpXns41D50mD9/r1jeXlZIY9v8tTGy+pVtVrgWDNTzhbXYn\n",
       "j/7iEJP7qG7Ogo91acy++QrKLhlwoUGv9mFaL5So/zdL32aXrjQB+ohLR/XoWKIlmrmNE5FZTJxb\n",
       "ErI8D1a1SPFqOKqCBOIDhg3ZFrWO3EarNQ/ct4E5CABd0XRSTXQtJx6eFM/bCo1qifXFtX/1eMuJ\n",
       "SxeRZSFqCnF19dMAs31OQ/w2XIsTS57phB3osMsiNztY4fkJTjFCqkXY3OGuEdJJBfu8dLgcEdp8\n",
       "giRB3g6/k8wfNxmTL/ylW1tV8pLYVDH8I6RD39YFB7kZdckZ0z36D1k/7fyW/5iP5NJEY4x1qOVu\n",
       "Z7w/dO2w+D5daS9NZ63Y9VvY6EEvA567MBx9FLh62oOe1jiiMhlQgfAYrX6KszGGKnbHh7k6olAV\n",
       "8TgN69nUYIe73+p2NG34m8Lz14Z1akwyXL8wXOSYWN1SiuJcpu/EsARThRDZ3aKBkK3wrqs/xySA\n",
       "Qo2T4lUdTW+PfGMZgj5cFHK6dOk+RPZUD4AWzvuUGH6o6Xy8dGwpMhrLTEhkxT1MsV+d4Pb8aMvS\n",
       "Iv0vXQHb4pB7Jh4Nl1ePsZioPH6J8yOGtjr32KXgVHBKBYFmdLGVLt38PvCXcm15uHsZch6Nwud0\n",
       "ruKNLBc2K/2+ESdFplvla+qqN03hv7pZO5Op0doRsLlv79znJWmS17/mPT7S0bOA/WTKG8DrzCOm\n",
       "jAn8Ir4k2thYePDsYWfXBqCzgWNMV1q3RAdyPf+bG9A59PItIb925ZjTtoNPjdWHfIfQomyr9HIo\n",
       "AcVU1nmoYXQ2tR2etdRkHs9Jd48ZERJNm+2t5JM0ZV6PQxn63fB3Y+X5hJX2WGvGvWhLcQc7SPwu\n",
       "WkaPNe36ZjNQ1IasIHEp/DqHUCdSB+Ka8/dBzKOHAa/F3xjMQnCsxObe7xCFjDV2LcN+03CUL6MU\n",
       "rNtXaJlIKEg/UfHoRCCvniTIInft//Ez/LDEzILdukUcKjxAFcFkjjp6GuaHRRGoIn0343aDIiSi\n",
       "4WPJY0VxjpqWabO1MS6jU/dmLUFioDSJLokgQ5tHtEWMyZ5Dbx+P7An5aPay8r7lfHi/IZySwBEh\n",
       "suDe0ot7C/Xh8Vl/l3RuzJdUNFbO85RPb47Olb55Iz/QGZfWiaP7o4PqbqGbWoyb6WVgw/KXL/ov\n",
       "OdBmfJzUimis46u3iv+4OglvrLOK0fwxH++O4KrMD44fOZU0QFAG9PgE7zJE/iITA2dp4nUxCdmn\n",
       "+X6U7iaBoIfoAhSacI1PzSm/DAHTSbZ2TKqQOqa8NQ85xgVk6y0f551/BpuAsBW+wsGGAkIt7jUw\n",
       "itv8lOHCab7qkRiidfpdrKZHuJSc61mH81JKldSFneoAlyZCFuY857iL2lQSjDgWegJwNdYqRCso\n",
       "EpILYdsbBaRUB9bdyusP5Ix1QvWUslPjlh9mLhvDcoopK+mWccl62CdrLY05jveZz1qr7DWBzjIw\n",
       "SmnSNG/6/ESH1ccJ+oWIgoK05Dyds6gb0aP5aFV8TzAbI7d/UoyIuvfYdJ+t+cFXwAbN2PcueNMK\n",
       "Rkawc4ejfkQLF/o/UR170xQ5MRkoLGs1VdYr5xtKkWjf0k83s9hmMzzz3KksasRUpglvq8blgk1O\n",
       "9xP2G7OsB5HOEcV0thaKzv1AUANYyL3tSHCd+hUda/NIxJ2x0u/KShtRHsBXPA+J97czXau+OufO\n",
       "n8sT4WzwxFaQowH834+NRzp136qD8QSHHSVZosikJs3mHUGU+UR9XmKW1DBQvKafGQa1dszrFvzc\n",
       "1l/F2aodNadJY709akbVd9uBUnokU5v6sCTxwONob1Xn6L4QtL01BOQwqcp2+17zAr8eiqONPvJY\n",
       "hibQWvRd8g63vtydg/DOMaOrdmi+/WOcS/7xthlor6Ox/n7GpZM1MNBf9zgGyjU4ra0Mpr7LLtpr\n",
       "3IQNgz9pMvMBAiPwZB0jsY3gcIfOcRkrG1sGSasVPLIO5TRqlVxrrbKTUUHfQRz4JdlMHJWtHLuT\n",
       "xXegW6Tr1PdmjM4RnRCX45d6gBGic4aUPaOdJGEZu8em578aXztWsOADdbprSvEresAvM422cAm3\n",
       "PLGufZrgYCo9fCbOxNkUnzBO1KYZIXyFRHFNnKXhDVpu3RRQ+dEEKT2Nm+U8NgVK5XUWaPHqUgW6\n",
       "MdIUfzGNT3WlgkxjQcUpbOh5SEsgmbASCjC2fz8e4NLyBGliu7ix/RMws/6sjLSbcgZl7TujvHkz\n",
       "nn9hp8VE7V0tTYHnXH+yxmW8T4mh5zYOcBrcbG/rv3Ly1aZVOZVCBYzPwgM5WbM3sALaKmLg5jpb\n",
       "57/eqoyf+mM4l8bXvCea6IGHdi1k6rqGa6ZdAdTeq9RJBv3WNyb/pueACEwWCtjkROfJm+hrZ38o\n",
       "bEr3rNE1fWJue3Rt0XyM4b5qcqsAJVJYmGHC+zhvxFlR6EaI92DBHGEcQAp9MAD1ygmjCARWgtFk\n",
       "81ilvxtahnT72WEs7XgIW2aqnSn49vQWyP4dLHnfiMYJ3N++7TVc/IcL+tKkokCZpddWyAfWwJ8r\n",
       "yeUu/EH/9T2WJfxGDEekYNvUHWQ+0WFDuzE8Rg8oN/4Py5JP11ygZIODfzpNFk/4KkWVCYCxIRl1\n",
       "4Yx2jBJTzoGz5VUgde9liFIhan2qOV8nnqa9jgg3YB8g1gO8fHxOt4dGW3rjZ3dQxzcERpsZeLt5\n",
       "ZCKrRW683FMwTd5sL1aCoqTDcIVjYaXKNz6eUBfHHCZ8wkw0rWb37v2rClE4F4IE4VnB6CNqVKEX\n",
       "xH1Y1YH6UEbDO9Ju0S5wV4V0BOgKpLR4OZjLlIeqb58QGdDKrYqFUbNgWPeRCBlOePw993a5LaX7\n",
       "RIkGWFeKi8fwMnaA6urvafTvoo1hT7cuKa/ki6fTHPqeA2pfMGXuWBA8MmaO7NS32k5qYOoEfDAu\n",
       "XZJ9RRF7z6Ogv38b5clAGHtP0lGaVkVo1bJ3y7LKYks3BfVU7hGxkDjATnMTSXCoeUFU1vst847b\n",
       "sdOauxdblopCBWJxoIbglMxNeDOhDi94b7rYmVmb6jaOKUH7uCqZeo/k85mo/3T1pPDD0+0396Qs\n",
       "h2riPUBOsW4a5tjYy2q6NVHCoPG+98wW+8GAlwQbyDnL5Zh0InXuloyC6BeyRNbAUZS66ecD095P\n",
       "YUY0nT6bjBM06X6mzC9qcyF4bf/h6NwqkuU1jRbb/7j02DWMMSg6x+Q+rqHj+gIZbrSzzOlbhZrJ\n",
       "mj+lDyVw0U9KLWoFdO0CmkkAAArJAAABz0GaIWxD//6ptAczwBrC3PK+sEcGjOTRUa0KhvJ9U3kv\n",
       "C+IFtte4S/bh551OKkB53UBRGnLzhVGfIBDDkf+dtuDzVReSwhqVjc9HsMsMotkw/ER9j50V1Amn\n",
       "VD9BUlUy2Q93O9iA9gl96Irxl/jVQSuqmX9h9fnl1s5n66TKVLuRlZzdcIvXU77UzjQqzVQOMvN+\n",
       "atuvkRsCjZFZvoiyUHr3oLcmLWSIOb1PmJ3nVRiK2rIgxl0WPR6zapYfRqvo1CR7h1c5AaLykoDS\n",
       "iQ9sIRVUvFDzM1UHwHFBs3+dnnVOgpT++jXIAb4Qlnh42nOKB8SxoqGW6SV7lPe8JCBJrNv8AZZM\n",
       "BL+NKADOsEgOpOAzAFezoFwBzcJxUhMlWzuXFYdpUa1F3UO7fRxkDRlUfegFiGqMDMPXX8x8C/r2\n",
       "IyNkeYqaA8Ox1vW4LNa2oXl/ZT5lddbsOTjN4cgflY2dKeeYT3uBE9PJ5qEbTQqBDWofMnpizzTb\n",
       "PVZexmYUQ529idCMIuIXNNdCsmpC8oDwNvA4O24rOPkILectcaDR2XpZA/M1J3xDBU+3KNVOWmnm\n",
       "L9U6l1ByIafhEqHukQXXZkQuCaTUcdM6AxssWZ5CtSAAAAJcQZpCPCGTKYQ///6plgAAMF7rf7hH\n",
       "0OjgDgP8ABgl0GDE2WtiFV7U8tAChccyCsKmBSaW7giAvMyVrxRhsUHseCc0AyOoi67AlOR7oNeb\n",
       "j051hS8+12tQ9wjPVIo3EiCaPh1Tg3ORX8lzuKoSgOt7otPefgs5rNuwEjMQ7JL0s4tGvZ3R9TSl\n",
       "LUzoEI7JYLs+MjiqrTHs8q9C5GJXpNvIb70JERBB22YaPYl8EfMXh4KnCkIQSgAHVc2+wB6jXWRT\n",
       "ZevpVSsvf/Vz91qZjWvi37SilnVwtde5DBLvKf4Chg7JvYFV3bTJFrzpfXaFQJN0LI2QERxe65wn\n",
       "ITuc3KOGVeAFkKlud9AFLH7TLfL8xIc9a0UPAUTA2dMDAtnhOEZA6zkWTg23Mgw4TX3ucHGkJiMT\n",
       "FK9pvjeL/C4sYAgyZB1m7V4ABbTU9oq1+gBcgtPFfeABR4G/KmQwcWzjgsjg+b1obLMzlR10Nb0K\n",
       "LQ63tfPlpPOrb3lOU6C9Gf+jwQDNkovlzv0O/u5h39QGx+jZVgMOj9dSjlm++D5Lx4fMOi/ww3Mo\n",
       "LGABbp+6dPLYXDDmiJxdtt//+ElWYllb4oWxzKgAUalPdQ7HtBuogJcYseLI+JmmE1pPTY4eDkCD\n",
       "kknLXHGiUEAEaSK3bSgvf81bt32wH8W0LlkeswhDQnsZwW36XHG5RFHC5OIPCljb8sSww25iTuEQ\n",
       "W+MYywybe+58Q5K3w9eA2Lsc/M7XfXtfa4wSuviYnu8Gti66QpDpi0aay6XXSD0jOrQ9ScHShyz5\n",
       "9Dsn2KYQBTh9KQC2gQAAAmNBmmNJ4Q8mUwIf//6plgAgCaVwPAAmrmoYKNsit3ToLeVEk2wBmjrg\n",
       "mbG5d86sPWNNhqshwEfgM1Bi5C1J8rnREepVKoSTd/PUXBhD57DTcljl5BcbFvV7WukSyzHLp/NH\n",
       "E5CfX1zvpL0SZ96Wn/IY6bKyGiNJ3qOuW5dk3d6yvRULE6ozH/p9AlPD0QVsOrYYHs30eXdx65vg\n",
       "iKIAAAMBD9ggDbRhkdjqUXnxpuenLEj+HQ07bJ0RJWDeKY11rd3xJZpMT/hBuxz7EodpzHr8wJJu\n",
       "mppWDDReZj9uDGc9mZ5sHwmb1hXO9za5RkuyHjU1bABA6KV7tqaxCZ9tT0bvarYUM8l4KzctVT5M\n",
       "p4nHrd4ZErIZvvFAPN1rVWOHJlvw75E8G+UgLd695wSJzcd3fe0IKbv0zJ82l3IUUL5AOfQeOZei\n",
       "G/zFok7SZRlHlDKr5/kYtdtK2zeT7X57fXCwvgPcxub/4axVgPytTH23Gfsdx6+Azk+uwJTTpArK\n",
       "AAPoWFtbxBlRNNjXFs80UAIihPB6SUuyS6PpvZCvyr0f87IGfDXIEC6iXXsQU2zvSrOFp5jOFswQ\n",
       "mSd8d2OLkg82PyLGDuAQ0qY6X7UM0tC7Y9hhn7olxYIAh35ADGddEOMcJyS3OHx18CCS9yQDlaG2\n",
       "UnlVbNKFqTTmeKmvTrMzqZSRgLITR40TpnTg03Kp7TFwAAUotMT1v1uMBu5lOtWT4gQ+HcZDaepk\n",
       "uFwahXc7LMGlKw57QOXgtlzttX1iqkeCbn205rKRD2KuLLO0FUSsLO6KuZq4DjxjFbv7FuYS2/+V\n",
       "MAAAAmtBmoRJ4Q8mUwIf//6plgAgLxbgYSQp7T83JtQAW0VF/asDslt7qQX5kD5ORF18A0DeMCk0\n",
       "bLfEBcb2fo8uU6CCHyPN9ms9Q4SEDDWl5gPXyE9k8vhJqTtQ+5L5qsCWtwyuioY6QrYlhqEL8DY/\n",
       "0Koe9grdNDHpgDd2MCkgHf1N1KxUi8QXZRCCWHKqTt0VIxVXfSwwpBEF5tj2WNaZpOdW6hQb7ZbC\n",
       "nzv8zXNWEKbACmjP+ihPUuB49SG0tZOZyKhXSjo+Z1M9sXp6radRk6hesGYNgf6YyhXrP9SFEgbU\n",
       "xFSd2sxd/Y1W1BjYyosenEE5wwsNWWsgWfJEY0MjiXwy5lPuvz9H+txhcY4AmIaNwx//vjoo784l\n",
       "6rMUd5DSbMu9cq9/CndDgFf+XvGP7Cq/CgY1f6Ne+yRv3OPzLx1ebQ99oGAad72RWVyIfdZm3rsi\n",
       "/vYmZkOmQ8IHQDnqqg6c1FEhYEihaDj7atW/UuLFQ8QNRMR6UTDaY0tniitvrrnC/ozdoa71pA2F\n",
       "u/DBUQf2lsnJhlwDWqPY3BWrU+lKuW9mpJ1COUTW1e+tsalX4HASPZzcB7rgbmV9vM8ET/m6nE3C\n",
       "O5CVZaDGVsVYvMUxGD1MyRGaIRYWmQt1F/Sf3UV0P+hjIzx0hy3VIzPYuPr9bdT1wlOGZ6hIhI6V\n",
       "65hqgew6l0HOmCdJAM4uMucgHJ9s1Zi/+y7aVi4hnIndQnVXLFUUgviBR0PkS8O/StJWkl0nCbfF\n",
       "TR37a9zeoBcZDWzLjil/RNflBrS9SvN/xc/L7P3jA6QXccSxIFqBtBmQm/IpgcIuq7pstCYHAAAC\n",
       "c0GapUnhDyZTAgh//qpVAAhDLL2TlRTs7eVA97boAAvr5ox9IJWCivIRUBlMk6yCbcpGjyV9RVJS\n",
       "QWSrLixiOYv4oA1LB3Hahh9XvLsan4JrMxqpPlbdG+VSRbqRdBzTGIHMLbMHObGN54aOePoPN8Qo\n",
       "z45UY+TmWdU1VmPJi4+/2WXplHSVcb/zcVKd59/vYGgrLAGUCMc/JdOp+mxWAtI6L0rp5y7HxYBV\n",
       "7jv2sYFfmC6O7DvLkeAk23eZtn57O8ECYYew+Zw+XCSCqQIsv7NVhh7hK8/mR4qum/7SmPILhWI4\n",
       "hU/uRIj+w9NOlNu00s/4U42q85HXAsR7VXA6TUjKat2YCm2p2cb4adkmModxy2onfj6AoEFosqIO\n",
       "Q9dqhvzubcj/wuHywJTVwzagUSxAg21SUOs1Mty7BP5V7qg8SZ+LJKrPlsOSZfMrfR+8AnExo5ZY\n",
       "AJacY5YFgAkUWigsNRQkIE7xxwcNo/rFYz98Hrc6sVaQcsiHYboL2RWTneaQfS/PtQUvSfnZeOoJ\n",
       "WajwRVBD426KvDoOxUrfO+7PlgZP9Lr7mWgzlGCMmECsP6V5AoltLod2P4NxUCvWhfYDs2cc4gj+\n",
       "/rX1Mth2AJA9oU5nyNkbUAsr/s2Be1k42PrB3LJpO0IL8h4YNg/S3NojBG2yRUAKMPmP4QpN4wTh\n",
       "tycfDHHo5Vv98gh405FjUjNChrY5Y4QaAzxw72W0LXl+yow4kJ9cFl5IKPAlS6WyKa9AA7H1CL2H\n",
       "cAXbSuLGxJsa0AFcnh6bBIswxGpuSFrYqMV+hSnYC0BuOLRb9S1AI62r/01SkYHuUtcbYBPYEiVc\n",
       "QQAAAQZBmsdJ4Q8mUwURPD///qmWAAAwXut/uEbzZ3E27f2+kNQABQ1ER/9GpRk1R4BK6zy6+eDg\n",
       "J14+QvjTzgwP0BbkAEBwdBUHGQccE/blrTr5lEmd7XMLz3QgHossR1GCg4f6R+Kg1nT6Uhsl/QRU\n",
       "Ayx7VQWLCcP6uQrWJ3SxK03458ROxjhhv1VjuTVFo26knM/yyoex5jgAAme0isF2femcwTATfThL\n",
       "t/K2/DVh6TQilbMhfIwE/+Tbdfp0mB+vEQAmjJ1/zDiNlnmBqoxcjdktwJ8Pn48ziKuaoCRtIDIQ\n",
       "YcbedfgK7frLy1GlZRTV08QLzeP/ZND9x0NOr+F4Lzc8y3yawG9BAAABcwGe5mpDfwAAIsfZAUI/\n",
       "8tzSO7XRQGE8ogp603wA9mqfa1K2kIgT8tvGJAkmRrCy6YrgvAp+KCq4BryTtUls/xlFZM+RzNyM\n",
       "kRGnkxWFRWJCQsciulrMcMFlGHp5+l6AaBFlQ49OlkTwqEWphN3vne3MSq9+aQyUhUka54V3aQjI\n",
       "ZFO4ODNy7oN1rvIxm/oRpXUo4F0nzVN6MZk2lu0zDu3WTYPVxazYiYJRI5YqLV4+aGr9RFeWFKl1\n",
       "P4MssbhwADP4vGGlp3yN4H3kUQ1troZd/GpySh05Jw7U0tJ+Ji8/IbdoJ7ojm7n48c2H45/2kV+5\n",
       "1jDZwSeiUM1scw2I9wW7uYF3LKxhE9t6DB8GSwVTsyAYS+nTOisH8KQpFZgY6D50Fukt0B9HvXUk\n",
       "HxpXEb5xfJ9nK4oQ0mgfdVLXT9sWXuxIkolmIjbr/d38NmoWEAb4UTnPsVL32G5nYTQGMA9rOnRo\n",
       "/Jk/V7/fFr/+VSc2wKCBAAABoUGa6EnhDyZTAh///qmWAAAWTdILC2jsAF2YTniyT1fUJNJurs2N\n",
       "yMeMdr5Q4VJangX/mYeVtuf+34PwwD1jE3SXEMApXvovL2/Mm4/qVbc2pbNRlDJ8B5PrZCmUqFlj\n",
       "kvJZOVilQNalKqnQBzTaKEB1xjsMzohcp7ckqeVSnoGnLvQBogyz1cqS+LXx8mzIaoV5gR4bPJxF\n",
       "XQ5J0a5MucsMsVXbYzGYdV8GFc+mpyfF/7RB0BQF+3S1/HCH678MC9lGT1P4IieAIVgLTSIuTe0u\n",
       "3OV6AAb/Z3440p7TJnp8AW7dNxAdD/dgWizGEDIZFyoQI7l0/e0J26RVVnofxvzP+kQ+OkJGWraW\n",
       "lzEUHHqDC47kginNvCWGnXcJC9/sBcUQt0kBQ8FJFpIokbaihquuk+GnsBNnd5DgHrglKvWBh+Me\n",
       "jXmfl9rJ3dNs9k0TsNEbHj6Lrj/rN4YOObABc0ambA4lXeOH2ndiM6I5jtcJJ5S9cw1FqOazhaoj\n",
       "eMa445okkzd852zp0btkFITihH9nSbZIzac2G9pxhFVegrWZ8AAAAj9BmwlJ4Q8mUwIIf/6qVQAA\n",
       "CyePgADpXeRUuHqtGz+5F/6P2hOIGOFKi3l9bfMn5Ic634jm7nIbuQUVxxi/4vKBDzgdet34BWAN\n",
       "qfyV+guNnJ2lE5o53IyC0cosanu+pBJu5nVz/GqMem1/oWZuJvC0pPin/QN0b035Mm2oJXSCY8Ed\n",
       "mVLGGmhafQ7DIyCkUWFqONaxavUi99txOouNkNTZ/vi1RurJuBLu7SWj5SabgxV14vQWfpbU6lpX\n",
       "WetWklQUE+AJH/czdWjFX7CdtRET4A5j+UAASvGSKJzm+wvbNfQ36MeBynzrA2at3HUhrvWLlV0U\n",
       "/322MZeivkkktTHzSsCiUbeNI/m+Rk9dAKqTTKEE2UkxbQdgmDMUNTtCwQO41PFESEQCAVxDTnSE\n",
       "IAKydPj72y9dmB8+fje1qgBo77lIAf+QmAS2NwChOaDVLO6oSWP3cXXsWo5TrLEhe2uto8WCcyu9\n",
       "FmRkHFbJiAAA0rSIpWnPxdufpLFz90PZpHb2uzqcAF7D5FrlUTMZffd7iCQQDgAAihRy1DuPL/b/\n",
       "LgjDAU4HsSckzaAKI4ufuNMZkqBQGqlveCoPjL0te5pD6dqbStieAVF7Nbg7SdmlUfmHt7NnC9JK\n",
       "+65Pd7UOvidZ0vHXHiaOjD8Y1CUPhCKIXPzvmN53K7g9NEq/AEkaDyeE6oqehpGVJ7xmS0+ClV1t\n",
       "9A2EhbUtVSNE/UwzNyR28F6bBJ88V+CDK5M0lZqmz/CyhY+CZCBRbedDJNBvwAAAAmNBmytJ4Q8m\n",
       "UwURPD///qmWAAAvHUkQMVuI//dnVZ/wMshijd24T/1iFoVxx4y8rbXhzWQtr+TlY8fxjV3Jhh+N\n",
       "9Q5ZBDiWWIbmMK7oikPke1JRfQLRit3tysWmCL2652eRCuH0g6SYD8vye8bRuZcoHL8SpACN2KJM\n",
       "Hjlb5LNZraoEZTePnlNk2OUq2g8oMxPuM47LXrFDswKjJyN54QBnbhW//w1Vw3zL1QAaNHN0dCcb\n",
       "avHNl2KTFdRWGc7AI3nLMv6LwIq4s7Ml7bN1BSbtqExtTcKaV9FIFXSLQ4pZedeDZWSO06ZT0I2P\n",
       "WQWPAcLdu6EDqMfsZEV0THbZxvoVtlELayy43bDGydhWOsBgBbT8Bc/g8YSMnTIec0tRJZUk5352\n",
       "2WXqdEWGig8MSu3RKtjj2LVCb4JOHZyyugiD5Ma7D92eTyGaJSZpI+Jr///g+XN44HkACuy8kift\n",
       "wcoizMZUB9vT3sEMWCb2PVlz3AMnV2gj+NeMKXKjQsm4SmpfOOHMM3eXMnKG+9nn5kymYyuzdyJN\n",
       "tf/YW3ok7KqTdgFze6d/xvRmiba8X18RJ9+jiAAnHbyNNPLeEMlI46JQ+pfxzvNYTeGNoTiLz91/\n",
       "JQLXIqmMahbRTl/i/hEdBV02weYG8if1i/GwcalCR6uHJeiDKcGaniCPKSsllYcDmxCGTDm9VRTs\n",
       "9U+Cyhgy7F4laXZ5E6S34FD8pWecCtI88CNf1BuztSCrUaIz9SOFqP4+WsMaodqaK7XVr4YPsCFx\n",
       "LtdkIgDpFajcge0F5nPeDVtZTyb5sJGgE8oV3dL00oA34QAAAlkBn0pqQ38AACC16LdYwm7pAwAm\n",
       "k+cik7sNcOJYkPR8bvhu8/V0grkDkfkeOSOu+WYB9mBPEnSKs5RJdYLYFpgkjESFDw3mFZT6TCJt\n",
       "z/NCMpKG5EoyhS4AJngttbcpAADxwQsrh0vf9EWxFE/S4e0eqyAUdrZOWClDucPWt/cDqouSEZDK\n",
       "SARgUcsnAOob7EzojalBHat3KjM3Gawvmm01E4ZOPCcNlCi7JV++JjUXDTw4G5J0r2BQ27GToqV2\n",
       "3WWILZUbpOaChryvfykE1Kz1ElZICjFESqJWS7T9m/muSppjzKn0SYJCIoUVYaj8/84Qv21txRzG\n",
       "LmPdkmY6OX+k8sYrjJFvMV7XxzKeZrEjvRYxrJKPv/6x5bWy3rzfqSQNe/UMdSdXEe2Wyd2Q/xKU\n",
       "B10FLfJ08Cyq5X+Ss5p2StyitNjDOOa14LWYWKQ7xQpGUUP3gowVYEH/WTaq0XXzre4UV6bbwtqL\n",
       "T9+bBdHt3WLhonwzFAXjXaTgmzKWCkMlAvpPR9Puw6YMbXo53G+aGBcoswcR80H/mbr1BWuDVat7\n",
       "YeIc5rhHr0NW0d1+r8Rxg6dd5uAqQouBVJil+QYzrlM/HO5qrviRcfniYlWMue5vryDvz6ZySEzh\n",
       "KZ8REsZ0KHdosTFuB3u7XgiuSUTis4u6/0lE1LcrswghKY1FwMdTqes/hzyMH+gDhInTOW/ApAA3\n",
       "yn7fpkL1fMP+IONrw04rNMIMPp4iJc6XQlbrV/QTcZTjPdMfxh6ghwNmyJ63spg1WiYKZmSpVHes\n",
       "Y6KPQCdi06aCAHpAAAACrkGbTEnhDyZTAgh//qpVAAAMVQ+AApN5yVI7BUk066kg/llqRTr0Ccyr\n",
       "OSqq7w2FH+Q8fFyw31T4GjZSCpy2nJEPnCgqzHRaNLwJMU/9+wuQL7XpX4/TQSkTtftCcx1oYimf\n",
       "B/v4zXeYZr6tOQdizMSPRItJtuhY9S33JsDCngZAgEdfu5g0SDxSQAqig+L92iyBAxCUGt1Zk2zO\n",
       "ZEMkq+xRbxqcnTK2AqAWK/6YF5/qGC3ZM7/YXD4L3f5TV0ImmgJszdEo/uzusMokSu/EbSdymnyO\n",
       "lRNXwdnzP4nWXAcf/dLz+owVsa4QreGuHUetU3MhKpFcCP2ROH0fkZx27XNlADnF030wxLF2ppcN\n",
       "/sXB4s5fy4M1UWnbBtNw9O6LIbWbTE4ZdLiWPHI09i861Px0YW+TvyhTuSI5kNN+4OwNropXIZQC\n",
       "E4TmYCSUW6BcUpYAWvMsUW/a4a/+l7PP/dAuWN3GOnyVQfwzdI6MTy+U2Sb36eG/mqg5IISe8M5e\n",
       "ecEgWxXknB9PozA6IvBTXIek9oLhAE2JsPO45qYM2FYlTcmdWwWqKYYd2r7AQWnsqN7xYucqkjwA\n",
       "eolzXqgxgGVKS2rwQpT38b6dekLakCE24mlFkMNFPe0RkjZQk+ee6PxDKlCgiQk0X64EQ4u1PV3R\n",
       "ocf6JiuuqPcS8B9Gsgk3Tr6iiUWvnLZz5a3oKaAWOw88n0xwz5FIXOwp1Rw/6iDtk574Yv/+3Ynl\n",
       "JK/Tx4KfE6VbAp+yrU+MjP2Kernwnwd4UShe2oizz9bT8i/zVaEchJg0S7N6q+76jJug6bZ6gnu1\n",
       "NgyVNWeBNTQa3IEtiUlmvrcrm6vunBDRkivtdc9Nf1P3wHctdwngPAFG+PHi/2a0jDkwhvm/9gef\n",
       "QdMyIdvd5eHMksJgFJ9OLoZ8AAAA/EGbbknhDyZTBRE8P//+qZYAADBe6Ucz9QTbNu3797gGAAOv\n",
       "JUxphA6h1k4nJ/CubAKdRyh2oWyAsJRjPH/gtzRaheLh8JmMBrfk5ASwH6czA/MD8pDHwMpPdWdQ\n",
       "LEE+nFf0yGft8GaO4BzCVki/AW3yRTc+VR0rZlPmbSCIYy955sKLMZvAYXJ2sdj4Dw6xrxMCUz4B\n",
       "YvhBFwAAAwAngAA0YNpMtE6GmdwVlyAPgMueJysK9an1OTRx3Z4rreVtIF13+XcH/1B64OXow3Q1\n",
       "Fb/yJ9u7A0N34YUvcc2HQ/7Gdql22/rcZJRf/66UV1OEYjYFvy3SS5TA4sAfMQAAAbMBn41qQ38A\n",
       "ACK1LNl/IOAK2iut4OUXDeUlVof9L+uZwxPUrXngFugycm/AaFd0o+1tUxVtAqS9dMuyCMiSZ5VK\n",
       "5vHl8fKb0J7k+eo9cYU3/a1TI8iPnsmVyzcpHJpssc8OBzqPDYsi/vno1iqd5y6qxe4p2HTrJZwg\n",
       "ou6+pLsSN6r1DbY5ge0Kg2htFJmopIXMTGjUwm+yqkj1uHWy5uj3eIyd+XOx9tHQkHVLC7Op6bkI\n",
       "OHdTeIIBfb2uKxiLUTmoiBi02U0l+EzNQ8gEUb1HFB58jau6NuSqgo+DToqcp4SYtuEWD12h7iQu\n",
       "oZxBriUNS1ufDQd9D5g8zHdTyKCkhfz1ibvdOVlPQySS33oNxpuOLr0GjCw17177LwGFlK6VfiYc\n",
       "fvcaTzp605hBTPynwEp7lkybz9oIfI2SbUbqaZVM5Fp2lZWVh0yNFew3voOLKftvrRReiArLjjJQ\n",
       "IbZj8dibSxqj5Bg3EEVODWw1X7SeyIh9q4sKJx2dUrD2RMxK/3bKXufoYbQf0v9sPebiqAK12B2l\n",
       "Kca57LEQdcKVEaMbKrs5xHIJm37VKGKUxUSADPkAAAEoQZuPSeEPJlMCH//+qZYAABZLWqFaBt6h\n",
       "6h070ADtJXsMEuR+Uq2ujwz2NPyBkLa2A9Z2oltBMi8yHLS7LuLCRIvFRCPkGjGFgF1T6KG/t7Ul\n",
       "C99KZTMqOF7TQTw2n4RXBgouM+rJQMVsEByvmUQzGLZLH/Xg8rp/sBit3YktBTVkC3FU6U0Ko50c\n",
       "kk3WLWPX6UllP6VpO30cqQ3FWI3h9COurcEbSb+kDOvxqYCOtpfbQJ9rhup9DiVkl5n4HEAqGS9N\n",
       "Fx9m0VWyojU4S8zzy+eaCPMXzMiupNQ0lv8xSqMZxbY+mJv3vPuzl0+bDrNmnu1iwJUPKrdshVic\n",
       "phY7DvgsSUZ6yWGGSCegNdGF8QCjq0o6cPbzXjJgMoh1cAGrlB/iGM8QBbUAAAIiQZuwSeEPJlMC\n",
       "H//+qZYAADGe6VkQHGYbaAAunYM4kwUch8qvE9c8G+2L//hrgz6P5ezw04JrP0it1jxb5k3iMS/m\n",
       "d+LjXWblniUYdWegqK11BUDL/7/fRdE9XCyqSz7kka9BzHsUsi8avPFihftilDl+zUGDP+eOS4wk\n",
       "fCCvgw+VfTyQ7DN3sXqUZADWRZQyk6V+BE+oZHqqm3dZWVBf+xUnRO4w25Pj7YU9cKDLFNMHoJFx\n",
       "8JxhEpqlOgVc0i67zzrE0KvNvlIHkLd7YpPS0tT2UtGpo1bCf3w9jSanryIyr+2sMfj1fzfJWj2w\n",
       "oJvH4GhRoYmlHfbmLgLRneBHF9YZEirnuNw875drQBn3p5KdqJ1F67KaYW+F7amDTEAAAAMAAGmA\n",
       "AAIGALARjkBBQMF+ibqgMW0Qsrq773pXHs6rNCctUAG0c/c5YenMTuCzAJcpABD8S6lm+XIqliXp\n",
       "SCfNPSY9w9Vf7g86aKVyL0sTL02CYpVvOKi7/8sT/zsCb/yZWJvatni2Otm6KpbLFqKkZQsPvuZK\n",
       "gi4N24/6Rwpi5/lapxNbsCCB6EaAKodqe9hBCT1oMVXRR2++yfRL2GuODvmCBbDNH78r1qZ0SeVl\n",
       "m2Q1o4qMbk84a6/QLZnCOF127TctrIGMwOZoXlms0aBdtgP/ERAKNFQ9XDRRstL7Iu35gi2kEEYH\n",
       "BXGJCg02z4JPswRIEYrWBIpwYfRPQpKuAAACXEGb0UnhDyZTAh///qmWAAAsrGxAt3gBLKHr1N5u\n",
       "b0nZ9wyoNg8fYoyme0H6fTpefO/fMLVkKfEfSBjru5wf9hwxsHMph2wdy9qioi3A2FggmnOrmWGc\n",
       "qDGeBNDqWznNmyTPGxTsT33fWEyLhdvshQIlF+i28C29RxuXQ8YXHufQPhUp3ZBawrK9GIf8UEOV\n",
       "G3J08Mbm732nNQi3I5zYXZD02uYB81+VyYIXMnFKTWK3IFYAXH87FV6XNGWNiR6X0iXCw6S87naH\n",
       "AGAh1FpeMgjBsGf19AxKvqGN1UwUtQTMqbsVN3KFTHbPwqru3xnvto5xsQN7iLfzG2jRi5IAAAMB\n",
       "5LaRY6899inHwXwKmFVWMLwkE0Ji7Keg8C+5xUBcMaS40MWjhFNXDHHa0/oa8qMHKzyjUWaxTnnu\n",
       "3UsHrVcWX03LrEBPaAUXHmwdYNcMyIgNryB1Mf7lzgkBW3UKq3fUAlZt8Gzj9TyI6LggII5AarT1\n",
       "nlSo/YbxkiolqpX55OX8mpKnNcOHzjvAAA8tPuAjVIw0c9n1I2AAK4Buq7xkaWQQLzX0IOPOGWgM\n",
       "Et10JcA5pRW+P5wujht7gGMtDTKThFUxttVgADeepYW/9zNLWD6nRiZ1IFYFjon0nTWlO54FDxt+\n",
       "l1hnOvC08iN7ECq8O3/X09+iSqr07fAMxMxtjZdAXTShoGFUDnNXROuRkXDAJFlQadlkT18JYeox\n",
       "njhn/nh90H4BvByAihl8BVZOlTuBpQcosPWoYmws0HrzjZqYep31N+TQYW6NdoX+vBg+erJVZP33\n",
       "cGvUBbQAAAJfQZvySeEPJlMCH//+qZYAAC8c88ibclQ3zvtCIAL688nfM1Utz+rCLUYTK8W7a7sq\n",
       "Dyjc6ABnHA3kl2YxJ2a7SsL4eVnDCiELmRVpGx9Bh+EYId8eUwPabEYVE0TP6OYvtz60DvG6Kss8\n",
       "umsNFLxB3C6P8wMIAq87yO5RHxMlR90772iE3DZu/85CA115BgtEeAZ3ffcJr1KI9daF45hrTXwt\n",
       "NOOf3ChAcXjU/6eni2Dtb3xxeJX8qnw4sKFk4xDYJcvZl0TodtpzbnMy8yaL1WPZYTCxWcg5iogI\n",
       "AXfyjeTr8TPOJV8OckJU7PcwJTmTylIadT1zcs67DcLGZ7lZfs/c0KBt7lhDlG/PkaHavN7nzaxA\n",
       "NFF6RzylP6009oqi90HA91JJdzZWvqOjT3lwmGmt22FeLzydxOU1Aa09qlIbJpoIh+TDG3wAeBEx\n",
       "9E8CTUFrP0hdKAWqnyrfijSO9c9/D8432mrhXbcC0krVqp6yQ4ubLlHhhsh7YELPs4mw7yBYVb0w\n",
       "WWdWwq+g9NFgR4NgtzHao5c6r2LqSxL1v/eb7L2y6QsB/vUBZlLt3nsEtcVD22rCxHXxxb/180Rp\n",
       "TwELr97Y/rzPpMND0RpEF1ROGE1Rmd/narI6DtxXpNA3eUnAlU0/Sne7WxENuyZRMa7NZNN5mT0+\n",
       "DdSmZhxOGZxlPc1BMCL8wUtZwSxyF+EtP/lfqwtJOnxe/dBmucwhR5nOips+fodRloRH2fdj26yP\n",
       "cZz/rBX5KMLdJ11vxBMU0gK1ovJldCjsACQqv7jnGhmlX2+mrR1LO9pn4R7FnQAAAq5BmhNJ4Q8m\n",
       "UwIf//6plgAALvNDDGn5dkoGABl3aqHKDX1LPno7d+z8iGdN4z2kf39QcfR0yOzu8YM96O0RvpqD\n",
       "Pab9b6cS8kn6NiHnSFTSxRVyhrSqX2864iCy6oFp4VB2QaqpeFH3898WuLUh77Y4U1HLG3uR8R8w\n",
       "J32xHXP09IvDVkJsIf9vL3/9wgZbgFzpOhPzHB3/B+x93j7csT7PDjRntiX5+FUU1oKLbIaqHS1z\n",
       "gBWrGlKNr+LjngMRf7REaZ+Kyt3bDLknZnHD3EAS3CLqM+JDzojJ+21ebu3t3XjFd79F5HsKD1Z7\n",
       "d/0lUaXmwfLgo9LOOM0QnbigcO1ejSsICZNfjqL2JZGI0ggjNsulH3d4rNgfjLnG0h0L0/6kYyYE\n",
       "vqLab5HnNhloYx2T2cbphCiu88ABQTvrG5jEyvzbwe5xXrmcDJ8OeWRn/ySlkaAOPKr+lCQKQqwd\n",
       "1j86x7mfdaXGeRWPxeBxUYP8FkUDLGhFSvgRRrsBiEUuNafoMk0+uZASjREB8gvwcEHNwOTiydgp\n",
       "XPDnlmIyKNzCraYQM05DhT+Pj7HS8TJijeT2yeXr20f/Om6af304PGExjWlukuK1Z/3yqD0ceKDL\n",
       "qosoFlVTtHTCxiLD6p2RYbsZdKwUMeKEIWZZIJOw0kAL9Vk/h8o0jJUeLpPvrdgJhPopeucqVtGx\n",
       "DUjIrl6uuXFcv0nC3W+/86eazli+3GSzH0vRZAhx/E4/zzqrmK2WYe6siR8WM9J5GCZfpHb5+MAR\n",
       "oNkmp0jSEDNe0kj4YJyIbQRaiYvE6vz6TcuS+CBuM4kHsJycVc9khnw3+Y/CWeAL567CIW/8APhv\n",
       "8gpqByWBSjzwXrW7XW10eiTxgcdQyViHcB8mEDaeRlIptk32TGeR8wmIy5yZAQQH+2gNmAAAAl9B\n",
       "mjRJ4Q8mUwIIf/6qVQAADGbS/uDhOgA5tHxtWot00L3lTTg5j818VHmnj2UtqWqH/YE5YCRkItw/\n",
       "ugpTYBp6wIFFvnnmd8M8+nl06GmNRuH1WnBfvKwbkc6OfJL+TnV1Od3550US9Ej7geyK3TQwS7U4\n",
       "4PGmQ4dJvnebvYwxyGOTWmLDQKUWuAd17c/eyO56ZFwYR2bSayf0Hs0TkaUisZrgR16wKGFBDN/o\n",
       "8cuZPCwl4qtbpxlM8AeqGGdSWg0WMZzsZtTdW/loGgAutvcNLv6tkolP6BPpAHIZtwa7HLhuj7cS\n",
       "4F8fAmbA5DfcrzMISlzAC7YZZM2l3iBMQa97IODR+CdJ8TKyvMdYcr9uNWv2QcrvdFLn/FnhU0GA\n",
       "z9PLarVGhYrb6ODbR1zIKNIrlN2P+Vpd8o2z8FVMsYo3+T236U7LfgKbUxVmMbwAHV2VMkDkPy1B\n",
       "kUP8KwxyUuJLplFqZ3JP5vb+YLztfw9Jofthwz0FQWzmudFxOJbmwGTlK7dJUgbskGMaAQLaLFLC\n",
       "y6F3n2/NispnShn4Z3V4iyZarNnt5VyK+Oy9PniCoaD/79A00/vOBVwT/cFdCX/6UP/+P00r+PIr\n",
       "OCe3Ogbo8lu3flQB4Vh/ZNdBF0j9gpiFlbHMwkWQFyFef4nldxbYlI77U5G/VXa2o9A0xcSGqVza\n",
       "cxF3ZsZdcl/5tXZ0ZEczhsbnY9vqWi87sc+tYs385RaRv/zdc3MyaAAFLcobUUtksw3K3Y5ir5Jn\n",
       "t/7moTRHMsvWyqElRQJ/4tmxD06VnkitIRlASn+c03oH++9eAAABE0GaVknhDyZTBRE8P//+qZYA\n",
       "ADBcX73wqE4sMRTbUJRpBU1PzgAJeoA9MQuOOBi0FMC7QfQejl6WUDS6YUBGz1V+IkWC15X7Lz99\n",
       "0jIOFlmRBVLMiyoaJPFYcUrPnixubOUJDNyFIkQayP/503fmUSqNpH3LCImCZRd+cnOfcjm2Zg/4\n",
       "gWSo2q0eT1carOGvxx+WA5syH8d3ZpDI1FeOQsAARoPqxgVU7csg2/NagJ+l78CIOTiYZPmIBb+A\n",
       "VbuG59CVmbfLQhg7Mtjf4zvgloUksT7a8BxVGe+2XS5ctMDjtWoqbaCqMGr7V7TMXBjd7AF66msC\n",
       "Mc3LXKpgHrdCNYXS+cpAOd3sG0nUYDTRq19iALaBAAABWgGedWpDfwAAIbGSkYb6QaS6f0X6pOLR\n",
       "B4EAF2F2WUxo1q0l7U1cfHdjhYs4qdWtB+TQwnnOpXueORDghNVNiPYsO6xH7qaKdPbsqQZVTa5B\n",
       "VxQNKPexDkhMg7CNhhYvTM541uYcL8tyFZeY8J1/BXutKIijMiPR5/9HxdRxr7Ev4azp++WbGO6C\n",
       "gZkYZAsc/LM+uUGNwYOLPjy0K+m7qII/w/qLdkld4O/HIY+NK+Lqozu53m1hZeh0HpZLJfBqhmNa\n",
       "duUmuK9Lk7tUe/yMh+5m+JVHIjgaQdsFzpG5VIDv6FA1nLQtXVvFto857wNzoBTZDONbcWJlIQNP\n",
       "A9LsdEBxTeGhz8kc3le4cnP4t+Xwn6xbYP/bwliERwY/nTaMESRlVbUd57vONw6Z/UiOm+GU9eYs\n",
       "6pe46v/JAJNDCqK2o/V3BXG9Fw1IaIRIP3yoVrNUr0T/P+KAEvAAAAG/QZp3SeEPJlMCH//+qZYA\n",
       "ACk9jhwBrEJfLfHt+rFNAadlF06Ez4KlDH8Fc/wFEaG6RPaNatabkbe6V+tXdW11grb9rApbnmT1\n",
       "K4BUFY4TYkFooPp4GVNzsFMOyiRnZA2CpTjmAzDBY5TiiZWSDA14eWkFEwcDcLITriHOq7fofXNi\n",
       "i3KPdipqZqXRbGuAluORf3vlHjWrBJuQpTfKHaqQjdfMaVq3AsIdcZHx8w9j8yK2UqqhOrv6si2b\n",
       "EJyP0vuW8Vs6BwNkbLtijDcdiLLj+0hx/9+HmPRxRFXSwqdG0bSi3fM8Cbis8JYlImmjSvlZiwFW\n",
       "686nRIAB2So5AdDxQEtHGFMCIhCIyWl26c0Q0ySfUbXOHcCwRk/fBj9aBekByE/Qv5EzNXYSmFbj\n",
       "kagiH8DsVMG0OI57ZTSMNBtqA4wGJ4o3gF7q2h9XwgX5fDV9HndyC3Hc7Yol4jE+ANyY+AuTNfVY\n",
       "AyY9sSzqw9kmBcNF63DmdAJALfnetlWlfYjsOzS3AuoAEsGQZytzFVvXR+RdmOk8WoqJc9hPKZF1\n",
       "C3gm8DB+IWXGq/s5rqHwsQPVU27JAfGcUV8bkXLyF1TBAAACikGamEnhDyZTAh///qmWAAAs3C34\n",
       "J/AANwh8pmhGMyRgQZPXkEc7Wwzlap4j98GSGQMUK6OiOuxtmDm3ciLfSF0RXOtV9UHNmR6gbMhM\n",
       "6kdpY+dLIlEsNUhzclyaAVFZT9r1Bv1jE/xouDljYeYEdn0UL9PXM9U/+P+nz16PXDQRgH4tWYBK\n",
       "sPmReKlFBlVeoWJ9clRp3xpno8hBSUZpmacFkznM3GMbIB6uSegBi1CdsxZeJsvOVcMxUK7gKoOu\n",
       "I+SdjguZPWtk7t8DyUvdA+dJJxpkKPxvnD4t4eGxr/TMC/Pg0ir57wrYcjZcU9HM/QVCesX5qSju\n",
       "/OJnYDUHh1tydqTq7P1IN3RKOhyxHvfQ4mS8UhAB6EWCl/cnf2oBO2vTqEiRxBRN+L7+kKftloWo\n",
       "08CvA2LtvLprnqswv1ljcD3pM2pw9tEAAB7KodGlKlZy8NFH+j2Dml9ja6KpWYzcFkM/oRWjFcgy\n",
       "gMnO2ofS7SmtGINs20T1D2DBpI3PoIuRFfaEGG5APfxjyAQoJsH1oKJ4J7GEh2ZLbbDVbh/E9tek\n",
       "WqJQASBff/PlF4HjS/eWlzO1FbvZp6H7/pNEJpEAs/SNU2NWl1AIG/+QuTXp4LHtdBEgcQY7zCwp\n",
       "BbyxXx6cGif73i5JLklXaLqWx+iXUzQ9J8Yfjr07KakJ34sLnLgtG357kOr9tUTYHAxuAEa9iZ+l\n",
       "nbvoPpz0iWM+t4me4w7XS2nOn2JaCgLTg26dxB6FpS6IGK7wss/9D+lSGyd+E1YPgll0jrTrflXj\n",
       "tUlDYoDxkDDicE1v3Cf7AX5yvKrqrk4TMS5/pmxvp8k49uKhwB71n8dtnV9eJfGOxZYZWigY2QIT\n",
       "sH8ZAAACfUGauUnhDyZTAh///qmWAAAtu5+H0UAEPEqpxtONzP2pMBOu65UzPpn3xcf+cqFyfHkY\n",
       "Zz8eBFqfOwVohsin7XqD/45r2jbl6a0vTLKzhYd7lKp8CblZCNdQ4B1jLvYRxp7P+eE50Iuj2H/d\n",
       "VAuEjFvAJX9cLol0vSBSGRBQJE9M1kbb9cQ9iEO5HxhqUIoE3kD4+fEVp1VpoaTAcwiaQf47sDwB\n",
       "aHRexARkdPdp/6kPw3hPvyKGneX6HUb2aDP7aMhw36ZFVXVN8TzipMflT2vMf5RVhyXsKf4LeXBF\n",
       "4rxd7y+2QGwlvscpJWQcWess7W1jvlrCZtEwokVjwJjbMcMoAFnkPIFhf7nND/ak6md731Q3LhF9\n",
       "nGZrjkh6Uo51pWIiAwuXyP0S4+OcnygsB+kTNkh5VQwnKWpPY1f7HL8MAHUNnb5UPOB6VGeSxa7w\n",
       "GuwhsUN2U/Z55lj2iEcx/+xeX2/grYskyoyqitz7xuA9MHBD1LB+uLAOu4DMXhM+pWnzzKAQtxKr\n",
       "jDn6E6CRwWPNOl1rNvXO2bipsUMXRf925GGHaX3bX7KbKa5al9ZWUyUHqNm+yer+uaQA8GsL/gpP\n",
       "Dz776UTfksGHC72lBGx14KgIpaHvYydvZyi/3qLyLeX7DyfrN7uwOEX9VsNA9Pj2ERVnlBeLp3IN\n",
       "0NxwvcFijdhJ8U+vmPGr/4tr2NFNOcpmRQWp5SYrfPd4oG0Qk+eV4HSMSDJ5V6dudhD20bGt2ga/\n",
       "u6Z6pzindGjREoTa+j9mFMEtzFPoLrCqsgOo/Cr8N8gzQatkFq19uz3pM49fJB1vYb8XHh7ZYo/k\n",
       "virSnB8cFby3tVDHznPPykAAAAKmQZraSeEPJlMCH//+qZYAAC7sVjO5rwAbKRycuhxlcR1sUPgN\n",
       "KX7pIwz0h4c3U5v7fQJQEcX3N5anHKl33cuNy+zuHvUXX1azA8pUg9SdcmSdD6Rl4JAJfsGClopq\n",
       "aTWqCCOs5PnqLLEG+xlw52Eyy6HiVnF8zaYlTtLRY9tbp44y1Kpquq3OJkae5Jl20b2TDu6Jj/Vv\n",
       "xA37VUl8Gn5/jLJdMOdlKYExIRTsHy5U2LYEmQBl6hlqO4bT7kyM51U20n8E2mvItsjQz7FFwFpx\n",
       "TM5sRqJC0eW6RT9wJDkZqRQrxROrkVZVipxWoWE1JIlBNV+v4BsbotT6Ao7+6txUjx2TwnkaLk6s\n",
       "tPedniaiJ22ZWux4D64X+eaE9iARoLn6jiX1FV96QA1adW796gIn3+MXGZmd+vIyvaU933md1689\n",
       "9rnp6WijZzB+/6+76R+wZo5FO13m6RHeh3EVVQRLQRZqbOjL9rjd/z5NGzcVr9AlmUjfbAfV7r+w\n",
       "AUZN3qiXtr8ZjZzjEAegHYiSbS5Y484xh+tdkiNYSrreCGmAEkxCr959R+4plkptShBfGlGbYVxl\n",
       "0Z8MCfEq9Mf2wvUoWK6VvoaI9k7nDhOz9v0ntAj+00WFDUK8qGjtU9KUHKDaGNPpFk403ecaZ1A3\n",
       "/KEimZ6savwdb8XEiQjuPmiqpdF37Lf2S6v041R4kDHH8jRdI4ZYftn6wKEh8Foe3epy9QogCfUS\n",
       "efz8LX1AAGaCbwv+hbLPNcUcSuvGP5UfhrztYBt/IBsrvM4zHyI2JZWoLMC/FJ6+GxLC1sqsw0eG\n",
       "cFXWzwLSkiJA3zX1O8n6bYe0KQr9LYh6wbJA+BliSeX7/wXEvqRru0PtxHd9I/BZap2Qy3MyfTuB\n",
       "CFM5YFC2mmCNPtbDngtpAAACVkGa+0nhDyZTAh///qmWAAAwEZ9FVXdgA2q6UD6Cgx3Gv/+Qkb6Z\n",
       "W87Y74e0CwFATJJSHJ+mE4czvV/it8siFgGN0wiLmHjv8BntDhyQd1cu7E4OrniL29oBp2hxrK+1\n",
       "sbbQSvy4R9fFTiO01LHCzTGZBRkOzodNuToL47k/d2GeXHZY1NTDtwIQbzzSJDAyeODhqWjG7cMd\n",
       "alwVD+71cPPaqLiM/6MAEWIGeQaN/I290g6wjmgimyKhzzH9Eqrua0PvXmVIOkyBIn8zeoQzkXXh\n",
       "F0p03gR+lVPcEBYR3H9CfTQQASCErdaZtgMADhE87JT0Dd9XhGoR1sqEgV9YUolSZGipUI9lsr19\n",
       "/tLFNphb63FAChQ8qLpJByuArcvHxSTfk3i3HFZbgqw4uQfQ145312WzdJGbATgOe6j8GDS+F2++\n",
       "WlOXpvgchzBXABPwRcAIAdnRfOgR6VVlBjZBTz7xwxP8mIJYWEJuVENBfO38fZdrU8Q7VgJeeu1X\n",
       "ZqBgi6nkad20ba8Mc+JRK/NgG1sjls+vz1leeY2/eej52l5MZ6a6kzVlZ3jGxP5RLPEYwVEtojkb\n",
       "7h4evqOC9JOcUWLotyf/aEapf2XjoLsniKWBf80dHm71qOWi0FrpQF79dd+mHolHFOe1Ktkb5yzj\n",
       "MBUtLeYYoKBTkcijsoYEeIf7Ywc6wRXOFozADXuN8TssSXEEdwIXm7Da6yP2US5OmO2lUDaEusH4\n",
       "/m9XBD4rF0w1xkFWT2F6Qi5psIUyLcY0N478o0pVxLoQZxbQHr+NdlRKFBMcAz4AAACRQZsdSeEP\n",
       "JlMFETw3//6nhAAAX/2U/Bcyja62Gw1VABzR0fH0izY9FvCYaDeAwL2Jj9/k9YVb0BfzcKQGpnqB\n",
       "1eRHqVFgqBEx4eOzpVkj9JgD6DuAOjzARflE92AAAyPwRAL9JQC3j0GfXYvDMMf7JgH66aEj6/Xj\n",
       "j+5O1Q/IBqZVAs8aLUxE0+7FnonQDvAOWQAAATsBnzxqQ38AACGxkpsG13R3x/VzIAOWqrIc3+zp\n",
       "zh44jzRUjAxA1e+jZhOrQECtKL4GGnwQMuAF5nsoMF7HP2AGOYbO6LbrHJo8RdQOv4peHO1j7J4D\n",
       "ojqKwzlyBzW9ri2vY4YTTybDv/c+Fo0BMGWMEkw4Tmrs0esjHumMEv/vG5W7bAJiLI04/0G7QKXf\n",
       "aoqjXL0ZV+qJ5r+DPh1Y8V8jyxES2Ebt1JJTNq1O/zlcKCPek6nbcPgFR3X585myc9PnLfNQdaMi\n",
       "BudGtqwzb/ANAw9vIl4Bazgyhol207z3AHUApeLqd58nYm4Oe8Kab7Z5WUoN6TXPQC7REMa43EX7\n",
       "7Sa4Ib/P8rRXHt5G1J5WcacHdKA5S7IH4jp5ithAeZKgRmS/Q9lDfYptM09QaArb/np5ukSZCEiA\n",
       "HpEAAAQgbW9vdgAAAGxtdmhkAAAAAAAAAAAAAAAAAAAD6AAAC7gAAQAAAQAAAAAAAAAAAAAAAAEA\n",
       "AAAAAAAAAAAAAAAAAAABAAAAAAAAAAAAAAAAAABAAAAAAAAAAAAAAAAAAAAAAAAAAAAAAAAAAAAA\n",
       "AAAAAgAAA0p0cmFrAAAAXHRraGQAAAADAAAAAAAAAAAAAAABAAAAAAAAC7gAAAAAAAAAAAAAAAAA\n",
       "AAAAAAEAAAAAAAAAAAAAAAAAAAABAAAAAAAAAAAAAAAAAABAAAAAAfQAAAH0AAAAAAAkZWR0cwAA\n",
       "ABxlbHN0AAAAAAAAAAEAAAu4AAAIAAABAAAAAALCbWRpYQAAACBtZGhkAAAAAAAAAAAAAAAAAAAo\n",
       "AAAAeABVxAAAAAAALWhkbHIAAAAAAAAAAHZpZGUAAAAAAAAAAAAAAABWaWRlb0hhbmRsZXIAAAAC\n",
       "bW1pbmYAAAAUdm1oZAAAAAEAAAAAAAAAAAAAACRkaW5mAAAAHGRyZWYAAAAAAAAAAQAAAAx1cmwg\n",
       "AAAAAQAAAi1zdGJsAAAAtXN0c2QAAAAAAAAAAQAAAKVhdmMxAAAAAAAAAAEAAAAAAAAAAAAAAAAA\n",
       "AAAAAfQB9ABIAAAASAAAAAAAAAABAAAAAAAAAAAAAAAAAAAAAAAAAAAAAAAAAAAAAAAAAAAAGP//\n",
       "AAAAM2F2Y0MBZAAW/+EAGmdkABas2UCAEHnnhAAAAwAEAAADAFA8WLZYAQAGaOvjyyLAAAAAHHV1\n",
       "aWRraEDyXyRPxbo5pRvPAyPzAAAAAAAAABhzdHRzAAAAAAAAAAEAAAAeAAAEAAAAABRzdHNzAAAA\n",
       "AAAAAAEAAAABAAAAiGN0dHMAAAAAAAAADwAAAAYAAAgAAAAAAQAADAAAAAABAAAEAAAAAAIAAAgA\n",
       "AAAAAQAADAAAAAABAAAEAAAAAAEAAAgAAAAAAQAADAAAAAABAAAEAAAAAAYAAAgAAAAAAQAADAAA\n",
       "AAABAAAEAAAAAAUAAAgAAAAAAQAADAAAAAABAAAEAAAAABxzdHNjAAAAAAAAAAEAAAABAAAAHgAA\n",
       "AAEAAACMc3RzegAAAAAAAAAAAAAAHgAAEp0AAAHTAAACYAAAAmcAAAJvAAACdwAAAQoAAAF3AAAB\n",
       "pQAAAkMAAAJnAAACXQAAArIAAAEAAAABtwAAASwAAAImAAACYAAAAmMAAAKyAAACYwAAARcAAAFe\n",
       "AAABwwAAAo4AAAKBAAACqgAAAloAAACVAAABPwAAABRzdGNvAAAAAAAAAAEAAAAsAAAAYnVkdGEA\n",
       "AABabWV0YQAAAAAAAAAhaGRscgAAAAAAAAAAbWRpcmFwcGwAAAAAAAAAAAAAAAAtaWxzdAAAACWp\n",
       "dG9vAAAAHWRhdGEAAAABAAAAAExhdmY1Ny44My4xMDA=\n",
       "\">\n",
       "  Your browser does not support the video tag.\n",
       "</video>"
      ],
      "text/plain": [
       "<IPython.core.display.HTML object>"
      ]
     },
     "execution_count": 27,
     "metadata": {},
     "output_type": "execute_result"
    }
   ],
   "source": [
    "K_list = [get_camera_intrinsics() for i in range(30)]\n",
    "cube_list = [get_cube(rotation_angles=[0, angle, 0], with_normals=True) for angle in np.linspace(0, 360, 30)]\n",
    "anim = get_animation(K_list, cube_list, title=\"Rotation of Cube\")\n",
    "HTML(anim.to_html5_video())"
   ]
  },
  {
   "cell_type": "markdown",
   "metadata": {
    "id": "l8vuo3Hca65k"
   },
   "source": [
    "Next, we can analyze the effect of changing the focal lenghs. Let's start with the focal length in x-direction."
   ]
  },
  {
   "cell_type": "code",
   "execution_count": 28,
   "metadata": {
    "colab": {
     "base_uri": "https://localhost:8080/",
     "height": 380
    },
    "id": "y_pDazN6nF7V",
    "outputId": "a0465b2b-bbd7-42f3-9171-1e2e2837cabd"
   },
   "outputs": [
    {
     "data": {
      "text/html": [
       "<video width=\"500\" height=\"500\" controls autoplay loop>\n",
       "  <source type=\"video/mp4\" src=\"data:video/mp4;base64,AAAAHGZ0eXBNNFYgAAACAGlzb21pc28yYXZjMQAAAAhmcmVlAABRcG1kYXQAAAKvBgX//6vcRem9\n",
       "5tlIt5Ys2CDZI+7veDI2NCAtIGNvcmUgMTUyIHIyODU0IGU5YTU5MDMgLSBILjI2NC9NUEVHLTQg\n",
       "QVZDIGNvZGVjIC0gQ29weWxlZnQgMjAwMy0yMDE3IC0gaHR0cDovL3d3dy52aWRlb2xhbi5vcmcv\n",
       "eDI2NC5odG1sIC0gb3B0aW9uczogY2FiYWM9MSByZWY9MyBkZWJsb2NrPTE6MDowIGFuYWx5c2U9\n",
       "MHgzOjB4MTEzIG1lPWhleCBzdWJtZT03IHBzeT0xIHBzeV9yZD0xLjAwOjAuMDAgbWl4ZWRfcmVm\n",
       "PTEgbWVfcmFuZ2U9MTYgY2hyb21hX21lPTEgdHJlbGxpcz0xIDh4OGRjdD0xIGNxbT0wIGRlYWR6\n",
       "b25lPTIxLDExIGZhc3RfcHNraXA9MSBjaHJvbWFfcXBfb2Zmc2V0PS0yIHRocmVhZHM9MTYgbG9v\n",
       "a2FoZWFkX3RocmVhZHM9MiBzbGljZWRfdGhyZWFkcz0wIG5yPTAgZGVjaW1hdGU9MSBpbnRlcmxh\n",
       "Y2VkPTAgYmx1cmF5X2NvbXBhdD0wIGNvbnN0cmFpbmVkX2ludHJhPTAgYmZyYW1lcz0zIGJfcHly\n",
       "YW1pZD0yIGJfYWRhcHQ9MSBiX2JpYXM9MCBkaXJlY3Q9MSB3ZWlnaHRiPTEgb3Blbl9nb3A9MCB3\n",
       "ZWlnaHRwPTIga2V5aW50PTI1MCBrZXlpbnRfbWluPTEwIHNjZW5lY3V0PTQwIGludHJhX3JlZnJl\n",
       "c2g9MCByY19sb29rYWhlYWQ9NDAgcmM9Y3JmIG1idHJlZT0xIGNyZj0yMy4wIHFjb21wPTAuNjAg\n",
       "cXBtaW49MCBxcG1heD02OSBxcHN0ZXA9NCBpcF9yYXRpbz0xLjQwIGFxPTE6MS4wMACAAAAXHmWI\n",
       "hAAQ//73gb8yy18iuslx+ed9KWH5lRJ1cYBnW7MGdpcz14NJ15P4jS+vuAWnjqZ9Irl2gVq+gw0g\n",
       "jaPhwa+1ePyIUOCr2sIadpuPGxAUgAEXrxIgE88YgZNJ8k0Y16BIOPFLRilKSQbgm3RhAVW50kdg\n",
       "eQ1Q4ZWgHIXWqWvLSkK4vFBl2pLoKBMjVA/+kxD6yTVxfwxmF8QgOY/AI7ekjpY2/V4HvVXBaAos\n",
       "mO/lZlBfUeLJZvMl3DygX7QDYb8YAt6bZ/ymBNBV/rvwjbVfXTvz7EejoCTtuYv4uphE1q1+rJ3T\n",
       "4iThhy7b79iqn5lgFd08RNTfJbNp0Uiqrmxj4e279rUo1LALp7mJY9TylwLs5AlrRLkkACiQa0oN\n",
       "9+Kxbq1ylyWGkDFAC1rSCuAqiN9AVXChq9L4F5aeu437kw7NhsC3X0qggZvdNfG5f2uFuMA/avYD\n",
       "sOuCmdqrw0uipmzloht/AIAor9SHDsv15RyjlVFu6gxwNGezHJmnYkSiN2qVM1MvuoqTe6XmTwRv\n",
       "DvdmzZ33jzvqh1GBe6ZaJifigEq+imWuRUD5oYRYFE+bSBZT0tf7xThetreFcR9nXOs6Ym+SyQ8e\n",
       "lmcZhM+CoWHrwwVrqWB89Xcyw1H4ZC6KYvd5X3Pb/fynuzueIwnsH2BWid0jsP//mn2wgpmTUvxJ\n",
       "YaDnVYbzAFiYJp1RTyj+AbWOsi4TcxON6Nt6kthnxR7mdmbS0hRzARjnZoRpoe54SwEDz93tPquF\n",
       "Ju0M7sTnGUrAH1n1p9XfcS/tQ86OgOFtTy0VWQ7hh7o1FEv7Aq5A73DUD7QCqOOtcl+4TOx5vgZv\n",
       "MoogVBN6g8AKTRRtL2GEhQRE5pFbtt5felQEKDudRVxRWe1OzCk5l8e9ZFwm+GBOiYDF5UlUXH+O\n",
       "NFl5jTRK382NXvrTHqUxzYAVQGYTSNOLHiqhKdbR7rqrLCOtA9EvfaqKm5lN2Y1fLFkhBshHCjc4\n",
       "pGsy6fDqjR1l14A//hVVJMIPFRnvakVjBmDjb4g6uMhQfPej65mFAtncJGrguRbfH95MNyxUlX47\n",
       "CnValWQqsiHt+feL0fbAmuHhIB7oV9dBkuN5XhLhmAt0pXzsA8vaL3SI/0idWmgEDAJn42qBTc0O\n",
       "0OTio/qeL44P+S6ifMl4k2zyoPPRjfxoo34lrF+6M9yfXPX0lyvCjDPJgvN4eEcc7C0ZDX9mQpsQ\n",
       "wUJmOvzWyJe/7S7Jigc4v3HprL4kV7xBd0zz7lOuMwhT3bJdH49Ga0eMw10jgZEgJxTl69hQTUHB\n",
       "AKnFjPM7h0Vx32tPo2htWgTehPQnn6gJbqgh3VUwn2DCbWmKpD7FElSt5ZM8/W+K3dXqgLRWGu/q\n",
       "vqbTZ6nk2xq+WHRqZnVZBBtwx+L+Csuw4IgYanLS/A4k57MM1gqU09AqJufVdYrDgrNvrqBJNnPg\n",
       "WateFWNaXpOfBzS+AACRe6tMqnJrLx4/LCIK+ArDjWASzWrf3DRDV4RXAnNuflNWITzojsVuIspk\n",
       "s9YzyF/lthjzILP8rH9YmQ0EcbioT9e5KTwRK3NMgHtEUel85cZaOYilo7I3kCUoGAHLKur1OeQ9\n",
       "jnghpopNfF6l7jc7GCrlX/WfSHiNUbkVBjJlt60dBiCzZ9p/Bkol30Vlkk27Ka6Tygipgn+av0CA\n",
       "htrVsdcMMk870vS3Km50ReRkX+5yP2bk86qrM+emma5eDGiZzixOp0kk5b/B2rEYGZ9f0y9KuyAp\n",
       "lk+aTP9CjfgjiMeSL8ZJHMBft84k1Eu2iCprlo4MUg6sDhgqKiq4XWTV95hqt3O31+qRiB9xCRmp\n",
       "Vnr0JSV+56AseE4oQ+ggkb77QWMHJPgZEpmtYj6/je4gFGw2YwRAd+rzqGzM5XQWI6XbQljeZXR/\n",
       "Yf3lbnA24+fk/oQSUUD1ZugME6jACPrR9FoqSvWwfPY2qzfEFDsXRUcPADJl6HGoa4d4hsECC/Fz\n",
       "nd7ai5E+7BOQQSfWCEVck9yYF9MysdjRt6mFkfYje3jtMUdyR+eaAZtrRfCC7IPwCM8Y81afYa2y\n",
       "kLfP1fLd7/tOOiU0vgwSIRrL57cJt2C4piba5MrJG88QZd3M0UiliQ6weVMehnSU1aWFWDV7e+Ti\n",
       "2sGHYKcdv0T9hj8O1xxlUPDWrX9RXzxkag53WqjC8Y+YobAvTOm1askL5iruD8kMNfdCsqXeIqzb\n",
       "EaOzyvysvp66yknHREIYrDJoVZwbqrG/DqBaa7WAHwcAT22d9SihuXHUkxGIkEiU3G55iDuo7g4a\n",
       "9roDruoTYNrsXZvj/1p23IqOjr8alQon5RfktJ9Rdowz6oVLwnSBwzs89HXS6XEH//uqhRjmMdeJ\n",
       "xDlcS2ZUnghiIGG9MsiQG3dIoMQf+JZZYTk8prl2L/wE1cg5QSqU86qdjDFiPX/tweRWpnoXOOU4\n",
       "BefteWyXSAJv4drHKNCWXB0j1efnIGmO+q3ad08KUXObZx9pvCaMwRFXF1SoKc7j6fBj7eqpjjMw\n",
       "FjG9ppJdLGCHnY/gLQDTbQfT3FpLzAbHQHWtGGkiWkXBlqHW3Gn0O+kurpA5e6H5kc954NnVItge\n",
       "qAgou93FZsMSIsPjtj1WNvw2l8PB0KbovBnjTmF4tJ2k5OZGFCgP8CaRaDccEJ9XHhmXEO2AAUYc\n",
       "ksvJVRZ79EFwbekxEYcJ7lremVbEHqhGXIVQbsPFbbk+Rs2RWhDO0AiXekrWaSBWdE1/yZqBK1ig\n",
       "uCXqN4K1xhi0aFtIbQLTUTlnRqkiYo4ewDtR0H0MlOMqMOvKoagp5jpAlwJQU1ks6Gsqv49frm6U\n",
       "vwZ7JB62kG+m4uyVls0omyy6hEK90szCWD7hMBRgkDlKJIzuysZo6SUpmC22aSVcRR2NgvfVShnO\n",
       "sLilBH4kvBo4oQ6bz5SUoWPh7s1Qx1/+caH/kJXQiRSygP9g7bBwfraUizZ6g9nFP4oNBIZbwPvi\n",
       "W/FFPUo3YNHEclToggIDfcg/WhKfJrngx8IMBNQQ1IdBRIZTKN3XKjRpxLkk82zkyy7JeCN1BR0F\n",
       "l0U5VeL2p1ygpJgiOxCYVKCYby4J78JhSRhVGA5xmGKL/KPLIxk8GMM9iDISjVQ16yr8n/bnhHib\n",
       "fTRyNN60ceYHn4QjmBpi7RidO/X4H+gIXWX9Qz/Hsk2oSfllL3ma3a8sPySLyFgwiDp54NCulWEt\n",
       "Euf3IZf2g+cTwAIeUkLy3hHpR3OmFXkKesfDke5+Jr2JSGkmd/jlyG3idjTOW2IUqYEYEoacoyg/\n",
       "U1VQmOKt1DW/CTNnUCq74RWiu5oqUhVDlYMktK1JvVR1G9v+PeWF1Nn6goJP+PoBdyZ6dbB13xFx\n",
       "H5AomCbbzJw2vvNCQwT1CrAIlNXrS9di45JJyKbcV/Zhb+ewty/rrCUMWlpZQqmDGaiEKHfjds2w\n",
       "qxSjhHSK4tLgLneorozf/L3GSWbtt/u3PJsBqVJD53S/ysBExRQYMeFz0AALJs2JDsuIvcEaV72A\n",
       "6myfwrlSSe5ORHU7FOiy18zTLvM39snBi2zVQiKw1Uz3egAAAwGaySBpGf/+HvvFZsVu1zksUcaU\n",
       "E3vvvzJ6pBGazkHcGwPAayAACafA/mibVDlIH3v1QmU0vLaPjs3CXmafADHfVdFW0/M1gSetkZ81\n",
       "oUf/T0AXKX8pG9KXuEMJGoG341HExQ80fGKv84oUudNkk9vCZm4lJSJ38Z26G4I+Z85h9JViFRl0\n",
       "VBO0CYCcwaP9XwmWq25Xk0jndK9dyYxhtU1wWwR2iacLAnjO88rectCyJtP4jexu5vyyiZ+8QPiU\n",
       "7H0DGgm37qvMAvgJrSFayktJ6x/EQG0FKVINHr2lQp5/6JWFRJLcta+RG+mngAyxOPRS5jgSLsav\n",
       "ZaK5ANsUlyLOkdFO49Z05qgByZBRTwAgPf6TBfzVN8265yuR89ZyPXnoYmLLJRW6XT/XiNDP+MVx\n",
       "O1eXlhmopVvEyJCmKJJaqEEFY/ysRP1Dz8GUfRVtQhm4/l9u/VR+JKoBTrlNNu9h4hrJ9GQnDvH0\n",
       "uQQEKcP0TcgYazKRC7TZYsmYphKqNfqHMRAOxg3SKznyqmO4tEbBeCkd2/rv02e+L4mrR2+Eeeza\n",
       "PYQ/z7uv6o6XSS1hHGw+XtH4VIzNlS21coXCuxeF9Qpr0GUZjPQmHTpA4eusXl7NFFs6aiBknN/p\n",
       "Lt15MF0OVCBuP6bc2YpVm1hGqVeEicX+1V/gdzK//DRsDJRApBvbiQqYM2j8diMyJqgq4GoW+b5k\n",
       "viNJC9TWyFBEY2gdmq5wD9dtGbN3NX6e0I4CUlZi0zMxc7Z1M82mBnvDoWqRp2W+QQDnGFEs3ecJ\n",
       "MsXndro4RXzN9Ow45PKnKhczqi0RCkpnFDlItbsv9/7QgTgGi6Ve4oF03SDTxgeEJBO+RBwiKPP2\n",
       "Pe9oKmzNo1s+STracuJeSYFySbS2nRTlsXxBPf4H3+radoyM8DAtMH5CLFGUPukHAZKuiAIm3Yps\n",
       "z/vEvrHpu1jNspNWMuU8oOix0QA2rv2IlY8d7I2C5oG3KBvvneXkwtKXf8Z6OoMX42McBGGpnSUg\n",
       "oquGt3hlpPKrT6+j55J6whN2wdMuFBS553ylFSIBTSVp9ABcuWP+TjbOFXF9nj0mXX/ocCxng4ZB\n",
       "FXQ7GiE+FORQ1VP5MYDi4QhKsZZOz1OqbB0vdZn6h9Qfr3fPzquk7bejCCu5PtyKE23Hv32KQr98\n",
       "pcqwbX5zlYVEyi4G00ONvNkHzifZZwuoMDDCjWdF+yEBmloyhfBqb/gpgGfUFZDtGTCCS/2Ocaqr\n",
       "r+y5nl8UmgmPEPXJF94lI/oFZqzTaSxWX0llQFQQdZaSg3fyDWLF5gMd12Z75PFxYj2Q8uwu1yry\n",
       "H23FQxsCY5yHMNsWF/R+NUKSmrYt9L+ngFCKbheFpnjZJoKbXjPLKBn4JnRPP6FrthKVBwHmAZAO\n",
       "LX8VYvt3oaXfGVRKfwHgAVRdxd9gLcTqqkoe1rov99zy8WevSYpEc3I/mOrp6fSsZaj+vyL9xMX8\n",
       "GObGHzLXciS1c6z3s/jUz0AxSzSYfuCxPpAggq+5r6ll7bbq6WjgAyz6mEL4A78aVVfGoA/ZNF3/\n",
       "rovW1Nj7QMrp3dNHlzI9hqTu8I4zpgKm9giTfFl3Iq3H+keb4PbtcenQGNGBMKmqUxdE2eD+N6MO\n",
       "OV+Ku8QSFrjJtucKr3TcpKnjmlQcUEnN1JiqKgBAWcg2EWnz81uqPlSmV7IGx5Ea8FSBVf3yjnD2\n",
       "PJ4sxIsn8nGjJS+D6Xn5V8lm60cJwm2/XLSR1GhPRi9XI78jRycWeAtwZ1OkzoN48MSoSH3bV4nl\n",
       "1YKXCuvfU2eHQzr4HHSg0xLtbhITI+s45xRj+5TeTXyBDnrTfJ6myqtRn4fBb61aswgWAAFP8x+E\n",
       "/KcdWLyQoD9ZMLGbFxMpxqpEEMoUENgJY74n6VHWoRjfzDS56UseQehPD+Su2SdV21fGsFwSpl8J\n",
       "qE5MmQAuSk4mlWKkT46/8jn+eUSH/1i2VbV+QTfC8GthqejCLF8iy2X/8HG4gRjcDLhF25nsbQ4V\n",
       "vEleu3IDvSSSOIUGS+FPq5k6I1aN2kZuVG8K+vupbQVKS589JxwPYFHSTKKD48PWCotEHQrcQyJU\n",
       "QZwzGR0Ndrb/j/eCUoX71M2PB0+iT+C4EHXhAgT7Q68iYDMoF3b7gWt4At2iDDbuv6jEdKyooeeG\n",
       "/F/tev5zR0mnUTNKZbOFt3gERVZthCZoHdu4nYbxUAJ8M8sSCUxPeidL3YVZZ9qvTTmnEutoWJni\n",
       "ObDVrEUWvGH2nPesp2inijp0RPhS2nUm/u5P7ROaBJv6sO0OdKLjhUMG2NvUo6j1wpwsbeRUGLLe\n",
       "4mol2PJyPL7h3bZd3KaG68I9sxhZuyJV5gB/ZSCACforQAn1SkHvXGSmv6cYXSO0yGP9sf1m/w2U\n",
       "9pQQiXoV/ACPy/lWU4u6fFyKKKPKk/QvTkkn24YtsZhjsVFcfL5DSEE+QXmkOEModl+K/FGWjU+V\n",
       "dhAjtQD0w2gdXqAR25HG3wwrpbcc3OZR9qvwRcw3/MvK4lpAa5VtgJsXlIBu1s9QtXfFGj9SAZ9L\n",
       "NqGRmtDUPtcjp+273bU23XzCpTKc+7lB0KBBn9EQOZ6vrb2c32ICIwlxLbZNGhHQbI3c9YjVjxJL\n",
       "cxjtAtmldlbwnmgj44UgOcq+43QZ4GgbLMEpFzrY9l0ABXL94nUBx6bUzTxl8RwsCL3MnJHFCwdJ\n",
       "ZN9B6m2bLcWr8Pvd9JAxFSmCXAfYRMm+Kd7ifsN2dYD1jipS+OsjE9b6Xo0StiVniHN1uJmv0o0t\n",
       "mfnpERMrEe4QpVqOv7KehVAenK09lrriqzTB8k5p88IUXbGOc0RnT3dd+qg/PlpIFry1Wp/5bRix\n",
       "cOWnvtUfRcgJs4eyKdEJInXfyZz4bcM3u9oMamoLYiMe1SaGYzeD5dYH15SsU5vfekiTpIUlzRsG\n",
       "qXKCnmR/4x2XFTlL/32EwK/HonbI/EaskNfNSk9F3yDrl5aFAgM50LUVxI8franp1pkWYN1Ffv2b\n",
       "/qnODJmpmn6D9N6JEMVP4A18rJ17oPN3d1+6ywoeUFIlKg2UbO+flISI/d34SY+UAKfAjI7GgtIF\n",
       "t2q2ZdHHhI1slzoKuNUpvFX62CMzKWoypG8rBIIVd8/Q6ltiw0bA5uiL22LgDpn4xj7rb7XMTdD0\n",
       "uzRZPcUJhdpYI5JNV96rEtNnOTrnQ6DgK/18L9Xt3gB+v5UtIKNbma6iOKbOUvC71YJuKMl5//Zk\n",
       "abb7TH5oXPFcTwkSCOBsBxgAk9SYYGRj6mKDWZOaWdgrrShotCIjKeUcuG+Kbdel57MBzSMOi/xZ\n",
       "eqXP+NGvenxcIkUplFCkZnELiIslzMrOI/7u0eTIFA5nVL1mQGCWQli1jtf1qvVFY8+JwV1WtxoS\n",
       "Otez4fq+jdkWuKnuyzjRR8/6tv0cDgC63KHQoEb4+DHyLfrc2zZJaaa0gVndKT1drAEg0Flgin6R\n",
       "5nHpVCGZ3lCt5fVFeGHlPZAusFOdFkJAoz67GROWBHR2/9a4bo8AiGDnymfb4+/h3JETbXEa4e+p\n",
       "H6asygP1VQfl3Vx/0eXzNVeUbGH+L+G7In4R9XlyI/60G5Lv9tvVnW0ncZlu8qTsvmGSuup74ujm\n",
       "eOC08Uls5J1UJH9eMIC3PCukEqej8GlvuK3+mb+YnT8HbPeVmiBj+5mbBJXiy+SxRY12yhsPiMFV\n",
       "bA6IxjE822vZzRPYigVIsqEwFiQVvOwA/G77abBTl2vryB12dcwE4GLkjUtpp9/h48w6GhvxDB/+\n",
       "+Vv4nW8OjLb2wfYlFJIsyw3Edf2Qy1SUycVYA1L7Gb5KbeQIgA/A+5ThAUnW8h5aGGldy3FxSak6\n",
       "2N21WMnytw+pBmHj1cx8nMp7qiWw0PASpE+hhKMdYIkd1wRDdBf0v1OqsMODhSudCNLyb9Bw8npX\n",
       "5fzIXt+RCBlOePw99zcbkkec/DbfWsLUXj+Bk7QHczuI0ZK6ajWFKjy5m78kXT6Y59TwGraFQHVR\n",
       "3aunjrW+2wJ9mK34qAgSPy3nT9uvVO1TB1jUd+/HsvBK2a3fZPhCATatAXakjdzh80piSmh/IyyE\n",
       "/oeGlOKlyrHpx4/e5FSaAexIm7Cua7yiZgPyMqYfCJcneyvqFx2bkEe9mouNTG4GRrRNXtpgtCJJ\n",
       "hhkI16du5rj8zHsL0/rYlWFxoQpwLPYzK2FMm9s0JLRyCvos02/e0xlwmbUdzZ0ZG33vmC335/39\n",
       "yp2Pj5A8QXmud8C21M4j7fKXwKp6tFZOSfso85saNYFxMISpMllfDqpN9nqn84nV08617gsJY3/f\n",
       "ki3KOD6ccDp5yr0GOZHQ9V0Nb52xnNeu3CUBIjHD5IMmNjxR3Q9DAABSQAEtAAACGkGaIWxBD/6o\n",
       "9IfQAE1+fA1c70tEwx21Omyrf616HIzYYsNRG1DNm9BY8bUfAe+NyM3qcMPTUzEfhCwGJt7jVQ2G\n",
       "jbBO6+jiXK26WjlafAIm7XWSS3Svjg9QKaP0rigfIhQA5rZ5ksDg7dYWCG6ufff4n4Wgryd7y90f\n",
       "yiRG+UDLArRc7lz0J+iNf+kScBIXC1BoQfkUKsMHUmzq6j9Ss+/KccMY/VJW0BohYBOlb4m8aj8s\n",
       "ALjvf+dtGWL7xBaiAAKH+XbDzOHKTt3/ouaJ/+LZBP2wQmQYvy4rx46g44HpQuMliu6xKe8Bly1s\n",
       "kv2IUu+plnjldgftvgGOOd1yY4i2oVrxmP38NxzRjnCjxvSSUpeiwVAg+IEpALMJRqFZhOUcMEB7\n",
       "h+5gzWXjOvHpAlWmKDhCXy/W2oe13ChPUNecc73hDhfzONCogoGDtTHZaK40DpAzfn1WeLRWZulz\n",
       "Bt8VPFNzY0sFSXbmXMAnkc2pUmHpMEljyEQa2jA5GmixZsCVxVjtKfiXPd4Pw26zS7ZFNq2Q/i2D\n",
       "h1KUZ0cxod6al0uNbjUd0e3G3ecPlJrN+rcjuX54edqfHpfsb4OLsWHz86uKvA3BajugKKa0xpp7\n",
       "fthZSDGkBLCQmO4azEAR7ygEM2v93ms5IIVF9yCwXUU8326/G1lqatuLCa5aDrg7T47tgO75HYBU\n",
       "3+ma6ZbCHr6iaPNeymDjPuAAAAHUQZpCPCGTKYQQ//6qVQAAC7c0dPoAAjemxG4LBDoRa5CA+qcv\n",
       "APit7VObVJCYztiqT6utqe4J12ntifuQO0tBnOuAG8QK0FlPNgr6DajgA3bODPGurDcTqkw8fwWr\n",
       "Tkto2xQhvxurI8t3lIiiw6RgXpimNaFE633uSt+WSXFf/4c5HQ2W0O+TNUpOCqZZMqnSyT0tXoQf\n",
       "IqSkuKNbtWTsyWinh/rMu4Be4G4AqSa1O7QVi65T0p+Pgy/nQKwq7bruMeKS9ucxgi/SseO5KeoP\n",
       "Fz/cJoNbJXIF0nV2uN7rsntz6WhJ3NlmlItW/1EMams8pH4NDOVU3d9jAGvuFnW/N6i+h4tNaZwH\n",
       "2UGyxmpxRjPwALgsM593wWQKvisEmeOiKq1ALX+4BLk+frptTIwa9FxMzyx502NoT3GP2jqK1g3t\n",
       "gYtoj8EoYo6Zbl8nhA8JocW+5u6X14bjKJlibQhVee1MFOla6HbbGa7tO1EmoAkuJ/mT15y8eIn3\n",
       "O0JrjZdnhgshjEX4gI+R9e9QRF8hLylNUMqi+o7bNEQ5OA+WjEgE6wQft10ADEyMRCdjV+8GP3oq\n",
       "fNB2CFaLuKLt+eImx81eQCX4ETAesADB0jUeX3iDqvTBAAADFkGaZUnhDyZTAgh//qpVAAALunwh\n",
       "617gAiVFENs3xxIyKbJRUkIlA9qmK4fkzXPXEnqQ3cgaA4URZzhWL3KcO7co1F9KKpu+6DJGK25M\n",
       "VCTAJlfa/RucF9P+KcWATjPMuEzNOVasgmdKdGRq/1x1BjLI7MPoHYdT3XWj8tZVljF32M7Mvc4l\n",
       "uGM7kJ5QcyEvnkIETfBssKSYXQO0axBLkVVbOKeozYURQoSSYOSB4D28/w6cVGSz+Xzg8yjt3ivj\n",
       "B3o6O6awy/gat0fEPQQJVW8uZrSRvtf1L7uFWzB8WCMSZAkvUCrjZikfdXEXYZihCM/pym31eW59\n",
       "+tf0pd431wI/3/0zGSN5UXZmECB1CIqQ7rpMS+wC/KENsaMK0I+9chWD1waUb7uQfPaDBaVIj4Ec\n",
       "GBRnlYxjiKz2UW47L+snvO3iffv7vl6r3PIaZHmLZ/qmdd1Izi743cIfJpTkKkndvgtdUHhW1ilA\n",
       "YJ/GgB4hDfXIjxy6upyp5wrnqohU8INeZPZHXXQGmHxrGXwwOboLOwVmdVhk1FS05+SeGLYaQ4SY\n",
       "1RH7+n2V+sf/ei+MRX3RTpTLWrxE8itnWVrykKWakdVpIY4T7fqp96vePd7pAZytw3Eth6C774jD\n",
       "GqyqiWxKzBB5LmUc8e2E1tjOCAIOLTz7yvqhkTzqNHVVdiHOvI7/YzIMX7EUC/8Aip3+PnfbOCiJ\n",
       "CqLXPGp9nZdsQzcs9c1tvI3JVf9RtC0JX6mV92sYsLuYGGa7kU+cVruELsqxwCFmgfZcFQ157iaT\n",
       "SQBM273KU64Ir+/27TRQGaohi4mp99s0S2ht5HIdwFRLo5GZn/c4m4+W90DxUYKVBgnWVRiBUAgq\n",
       "DLOn39gyzWIlYQE/2BpJ5TQw9fuBVQn5HxfeWX5XlM3BT3cFJwnfZGL+oY4sCBiTpPy1ozMVo17g\n",
       "Wo+DstWHmr/+VP+a4PbgBaybvmhJG3vRbQkgp6JUUnSdUmKVXDWSCvraEoqSGndf7j+irPhmJHF9\n",
       "iiGhmcKbOYaQsWWkd+O//idHM6RvpOVKkg/PEbAAAAFXQZ6DRRE8N/8AAB+m38H3Dq5FdiQArzth\n",
       "i5lL6mz+SNcIoqrow2T39WfQcpgspLvLt0GySppzaJHnFkyidarQyT8dpHCq/6Gy2AFGrPSf1WN/\n",
       "AZOv3NEnz3MVG1YxSiJd/g5yq86/GlGpHCeYSmo9fVypSAXeozEPnba4NCO2ICI/R3X7AJLRQeEn\n",
       "OPc1zdfpXvAYKd1Bk6cNKYv9LpGXdZUFUrw3rRFflURt+ffAWKPAHN9ttJiJqHOmL0fN+mgyyCl3\n",
       "vADQRsSMswNf0BjhUqk3WakcynTZknPPG3RccR6a7R121qcsnOXwsXO8mZTpC6VSuawbLQV7r0Lu\n",
       "v9iFO5x8fEgS8a9Dl3bz0U70CHSm3WXUDjLaDAcy+BT8DSlfp0wL6EGyIM0u3yxQZ59xjVpJmE+s\n",
       "OHygi7WVZVcDGOzDRK0+ifk2qVUH9/sJwWNI3hVVrURMwQAAAOkBnqRqQ38AACC5EzaNw4j5Llby\n",
       "CbZ/9hWlUjL5sd6zckNVB8D8Su14CbUCEpAyeLlYNuB4HMjKFXFY3jVYzdrQk0oz+vVkSUDhi8Qs\n",
       "lRubEDQkm3VopoYIgKjb9Cc5l46kb3en/Nnsgz4Ju9jTv1uyqFVxMJBjzqbQnytupABJwkrTmqZI\n",
       "cumi3EYdEHtVvfd//MMOUiFlW1jsChC/+jWmvexis2dD4zpd1SzXy7rcIwXbCyPZ3uusOvkUVb4S\n",
       "f4sYLjpuelMi9XdHlrwwQyTMrnR9FpY2J1LHJaTEF4XrhL6+R6jCBUjegQAAAihBmqZJqEFomUwI\n",
       "I//+tSqAAAYCao+5GsXDlDqZbPIkGBwC/AOw4k6leN8RtONPVVRSNLA1uUX6ppYN96R5lzm1I6zT\n",
       "zQexDb8OzYeC4e6dgW5MQ7Amn65wM5HCpHi+aKuwbtKH+MfX83DFDhi3dqvC3zjmbWJL8msGf132\n",
       "hnBdp/bkOcWL9tatyl1RQ98R9p0CG/nJUqAoPnv/x7Dwg126Pfrjr3S8tO1ADpYE3Z0D7+cDwzmJ\n",
       "lJe4FSnS4t0Jh/Vji+Tj4lpggnvynUbOIxq8sYW6ZFco1IWmUxjhCwa5JL3zEv/L5zugpbSkiGB/\n",
       "bAOBDwC1UZo3wy407j3LsU0ynfesj2Wt9CU65Mq7V2/IS1ACmMeA88JMwl06sZxlbCIZY5XcFann\n",
       "NLbym+gUsrkh80B1Z6LGvmAWEfTzmzWg/r3H/dfbSHdQNyap7ewPmjdfTeRNdXxPSpSX1Svo0fHy\n",
       "+BiMOQFUvhVLnWOE7N9VVVvr3KORmWvdS6WJkZZANi+bfwMaHWQwG3Iv/IVYFO3IVV3Lo8UkVC6B\n",
       "3LggInf2fykiw9Af78Dawes1JHaEidlbPk/3EebivrvwKlD3vU9SBzhAgbKt3fROkwQoN6VgXQ5S\n",
       "3Kj3GoNfjBS06kL2DrNA/t9Ycb8oAYksTDZu4rdK/qHH7+TvfSe5Rn/p2LbpRmzhK7E1cHNhCspq\n",
       "avXgmz13hlw6+77riRRxuGlx84n5qDL55x54JeEAAAQtQZrKSeEKUmUwIIf//qpVAAAMBKTRoABP\n",
       "+T0YrmC8jdBnrYIlaNh4jnt93hVdW0e6mBbHHrEgQGU5zlOvtgozh/J6VhkB8RyHs2zStlnxs39j\n",
       "XPIuGDLrN1So9Rh0LtvSzJeJN+RI636aMPqLYdaJvs+5vMcE50+FG1CDzrtp62D137nnL9x/KAN3\n",
       "m1MtBe5zzsuth8sFBnxX+oPRpS3NXgT775Ezj26IcReTSqIT/P0O+GKbVy4rA7xKTcFfmIKNWAeS\n",
       "Ksxn38O+6OonYELVkoct3AHTV55soF8XRKxvJKqAwQ5phb4fdhv9LaobIDlCOpRNGrjkRTlDsxGC\n",
       "PbWufzaOJIWK1+cRYrjxgQ8grt++tH4ErTmKVA9/g+ETj750bLZ8BFMdwsCvaYcrDxACCNOeDjgJ\n",
       "sFQfXEYhV62Ag+GZDanibpb5DR9KtYKtmXUjecyY0gHJw7eFzed55XE90gg4XAZRJ80THcw+bRfg\n",
       "pnrB41KBiR3QtHBA3U9y7Zwt8myGnVSa2NunxrR5LWiNmg2WUByLEBfxu8NIPymSXqgpu8Emf5zg\n",
       "cd86RgOIJpF5LUUYt3JsOWRSAlhaherDyuqI285tZEqHD5JEfK5lHGVcWdut7FSzTvAJXjue0Ro4\n",
       "BAHDXhcdehsS1YoE0SMpEGyrGExBpBbmwpyi6B5CgGa4izgrApg6U/KulF23k4CDH/yHiC/v2fPv\n",
       "2yFMM72iojkmlh1W2jIi5Ek9Xe/r0tywQyLZK6zhVONW/GDBWjVQgcxod+fi0BQNzAQx/AxzlucY\n",
       "JE0CnN1iN8qwPJmPV3aI+folPaWr6FlYbDHhx2wC2nKlw1AwKklo6llq6qff/92YoLDL0XBK9r4h\n",
       "Gv6oELz3F0HH26xmIIwx2eI8UtjIgHa1LPi2vKThPrFd3KjKBNLnUxVSokY/78i2M0N21y5LHUC/\n",
       "KiaDz1Nng533wzVJstNUgtiuCxfrEySkVpttI4SZz81U5DP9SYpdNCrx3Xd9nWLC9N8cJc+Q/PZ9\n",
       "Nm/Hb0v29S3ErNfO4DNBJjjQzJkdJ5rMK7zNOJlLB2DhKsc0G1oG5I6om/P9sj7NeQQ8PjLo3LoM\n",
       "97Is9E4CgL3Fh2JoQqTA/yalkk3bx3eDTw9DN0o2MqUxcrR2v0gFUKAsCMTLSFYB38Jp75yq/ND8\n",
       "YzTfF38VFRWs7uu0C1z1b98b6KB1cUa6BOqeD2wixntF4h51R22bpnnqYNUjRvXaODcDMF6Z76bT\n",
       "71s0n2gDhFgRbVQkQC6t6ke+fqND2NKZ3400xVhBQnL2dFUImtsR0tnCzH9zV82E+5s0YC/iaUYF\n",
       "qG/oIDDEeMg02h9vBhGXgWJPlxqavlAMJBg0Dd7K27iZUgtJy4SEw0ynupGdWkt6AnQNvZ0kM+Yl\n",
       "VV9ByGmQEh3yIcQof+hKGACYUQAAAb1BnuhFNEw7/wAQ2ACx/drpwLj+wqWp0I4bAtlcMpojwJLt\n",
       "Qjo2DNbS9GSFwaEt7lMoAFaA/skcbk65QNyhFuYx8EkejOE9tt2JIrD+fyYlQUWfkmrpwvEcM+pA\n",
       "q9+Jm9fvEO6mERtpdUvDqoK+5eXo2EEVZUYOiNJ+8KCPJmc+Yg+DvRmEzLBjYNFA1ejNREVV9twJ\n",
       "/tCB+csJbIBAcw2NwbGX9xx9r1KyAkcq4PCJO/wvNGYnBdFQWqJSqSRtFetc8zjj2ALAIwOcXnaj\n",
       "H6Jjih+f9OIopiXhp6V8MYTOR9rUsDmYJbyhsCKcBAIMj3GOJ50W92/51+1AUNNBlYENriQNsvte\n",
       "wQXOtP9bR5cAbbWN4SAXZHpwfQL+XHUrXxyoURDy5SXu1XF91/HRYFPKZxLSuyDrTut0L7NTduqW\n",
       "teV2kK2ZqBWHAXRdLfelgIJAPPgDTuV0w/MsOcsa31bt7JuOwXjNy9fdx0Ljxn6w9j5uRoV33n2Q\n",
       "SvQAlrCMapODNF8OjIOMyR1dIxMw8z2fh7tgzxxjThye1+SE5De3ALcSytsozXdra00ZPjXDNf6/\n",
       "TDVYiYrpP5FzgDFgAAABFwGfB3RDfwAYfq/nnDP6FoZxHnFmUoAP4ZA4V+5+ggUmaqpPmGSsC0bx\n",
       "f2D2sqanWYXmWG0AlNB0lyr37UVdJyIytJPjDJTciDwbrcIoVW5PaVvz6Pq4VZmT1MWAWyzfW6jQ\n",
       "OReXgrkMEePw28ps4jeU/42XhHbfNyl0LGN3vFMExiMeQkt61+iwT5Ybkqh6ckcJcY5toJe2lfF2\n",
       "F0Me6RWS3/ArTN6rQ9G5qi2+SbcJ6qthlXOEhRlY/C2v3XaAKCyMOhXpmt25yJB+JxZLIqHhr8Re\n",
       "E2+B9mbdue7l3duPlLQzNFZrn+jGxvpNrLugz5wW2Nqzwrbgv3uJxNVFGJUXpXoimYs0+FHomlJ8\n",
       "W/69/aNP1wpxwAAAAPUBnwlqQ38AGILsJyVo1PkZi8vG2fkat4h50uWJ8c2y4qOge6h7NjhHZFRz\n",
       "+SSn2Nk4BpzbGI+csXmuTDgjs9h1MaWvn8ZJ3tOYiz4tgTXPpUa+ma6ROmSYX/71xWCl5M/WSeYk\n",
       "D9hnZWgFewANeCtw7TFUsU0C+9IIWO/DEYAGKOS9phf4vhfu2VuKhYuU932O0ZxhplPT+OUKjAtV\n",
       "ft+4rCEQxHFrgDUKI9FFtqcpExoGkDJAU9oBLm34r3tT9sP+MRoO0vPQXTUiIbnQHZTRngfamnwz\n",
       "ZVInaBzO2DJpLLgdIT+vyE3VJqEUF/UJDEGnT3UPSQAAA0dBmwxJqEFomUwU8Ef//rUqgAAGAzBK\n",
       "GwBGUtD3xIIWIz1zAeexbr5s2nrMor/ooPiZ2Om2n6ezw1x/WHQcSfTPNa/K/8FEbC3hApscsoF4\n",
       "GXsraxwEAjF6MfmVCj4Qp30o4Lqec2n83MoI8IoCQmOPpntfCqjkhALg2SxzqNi0DIj+asWjBJFc\n",
       "B572W4Z0LiO4WfAqDSyf7Cq9RuRwF7NuUH3yEj9i5tPHLfkJniT1sjoUU3vzIker0JpJKa+aphe8\n",
       "RHUZ5v5+JDxVrN15dBk783cJTS5PZlduvKoOYH3tL3J7aABO2g7R4R0Dk4M1KtddJL8/SM37/2VO\n",
       "OgNfs1NbD5AAuRlmUxtJ5w79DKCRIc8SGgHKoR5Le9DZQxgittC3I0IJ0PRiYC4dC4Yrx7KCA8Si\n",
       "9nBzja/1SlodkP0zYv9pXTesOTjU/kzgtYojrphhccS/t+M61tnfFxeyAIYUMOwt8R0ZGI1GGhC7\n",
       "gKZX9JGWUTlTe3GSk/gU6kZTeaIn/xCU277tJ6J1/8f8Yahpe67/mHPuoS/8iPKIzo4Iu+iYMCop\n",
       "H3jRdRSywXXRrqcpbkGQFBq1Gj5mdnk5eIv2KvGTXi/zz5Rr3c4xCXt0KpyIvnSGNT7xtggNCdYH\n",
       "MMb8SB0nGqkrX5Uo3JtiVI7P3mQ2pEmPIAaboExKKQpO0UnZGf/hd/LHE9He81WYIYDmsnzAh/71\n",
       "bya2+1oFvAc3t5HstY0Ma7LRsAMokAeTmjdcvXuL0GhIpwlQA/FUW8UPOrvACM53JsLvCBzjecKU\n",
       "zVaP5xLvuSr4IknaPiK/3zNZNFvCXvYEX6AluZ7rAIQ6bNr/58lQd518z7hJdJ4O4In1Xhj1MY8T\n",
       "qd87mwhUK8lFKGdDPmp4y3p8L4C6uwBErYOzYUC4KyLF1bIPUcYJNewBiFRws40+QUha5g3Eh1Rr\n",
       "PszXCorK+7bkXsZP+WkJvbFXqVZPuhFXS6+ehwE9zzPQLsPbWjsCOW1IoL2KYzIRbnKU/czHLgsw\n",
       "pBhQLAhgdsHNG9vyt9UZBj92xnrF0M2im9g4HQury2aXU1Jrr4DM0aMFC/iI0SiCjUeC5h/Ro+5c\n",
       "JlRWc7J7dUcWgBx9mM8WfwlxwAAAAPQBnytqQ38AGIU1iebwmHhYcsxK1MiQAw9FieciKBqzYdLP\n",
       "Glq3nxdpNHDNq3+ojj+PfGt4Bi3UUF/zLz0EviEsVQzEEdDR+ZvOqGPz7dK2JBLZrkFEMGeT3mLM\n",
       "UD1NQczXSoBN+pZtg9KC54AIQohnx9upc3/fQMGEh8gPKoDd6BaZnptsgfX6kMayldZ6vlqV+Xno\n",
       "Xq6CINRwkp7K08crf8BJfT8OqxjWvSV73YAmZkVJoSZtth5M/RocWLXfYzBGXWiee+j1E5aANBL7\n",
       "OmXZ68bx4IkX/+czxmZhjfJb/GcfmdZ8WGy49+zEc/IosvbV8tnTAAAEi0GbMEnhClJlMCCH//6q\n",
       "VQAADFocln7wAZjGO1IRy3V4wswT1dQuJrM2KI4HAW2SYWqaKDYQvFhX9akJemBnFle1spt21Plb\n",
       "Ms1n93ZOBen5RtwvKaT41VxZXsD0tuW6PEAV9E0rttroIYGE302k/irTgdGfeTTAB5U3DgJNNJR5\n",
       "M0K5kfjvIQt4WtavUwAzb+5KqbbBqhuLYYRNhb2zqjWE0EtV5MkA2yxP2ocX0T2OFYFGxzDR+pZA\n",
       "YsC/HQnxXFAYfqi/Yoelm2j6AfO1wmPLgNiAphdW0uHjfoXcfECVKL6bquUfP0o249nzlR+GjX7E\n",
       "ldMg1R3DKbvnH4PIeAHkW95AG8khJgvMK9YMmgUd2KxTD+3OSOn+d6W7L/RF1Jw+cHuXUFN5viFS\n",
       "rqYKVy/ycSKg4APlZv1HjwD5MS2ZWrSLN9zw44/ggt6O2BRD3UCplNKHVFncqkjzpnhG4lCQrjc0\n",
       "kmD1dtd4Bj9bjceGorWuerZT1ElRybxcPXc5q14zRvIoxo7JTtdQiupQqPSUW+o+xNwX3HGI7iCe\n",
       "PoS16hxrk/kadySrO/cqHsfxY3R/kHDJZS7pMB4ROlFFJ/J3RNv/vhuOpZ9f8UyigesAdoVCLLUV\n",
       "evSmWMB6yglXEhwaY0kLj0i6PMGQSLvLryNqD4vpcTXjljdGgDuPC5EsWynS+hUwrgQkX+dEGrnP\n",
       "74M9G13gBHz7sK1v0MVHaAwG7gmATS0U3cYLzjcYmf2mB9I9ptJ7gQjgXoQTu/WMiwuMtvWG/qlx\n",
       "rpldW5TZOP7SHtKe2uiumWsm8M8u4ywk2D/uGii+SXBRvIJBMltvcF01Z53VCqkZSHG6VbDUQyrJ\n",
       "vIV+gUW0NWjLFJkdDEOx7gOIeT0pHCCOgFuZxCqRIevw0yiqIfAs9yPSOd/85aaHUl+TAFvEvXBI\n",
       "fPieeI2sosaXZ2dHwwf3rZV7JXv2fCIO6FXyW7QBkk8N/vK7/+fcEIbpL4VS03llujOWCdCGACnC\n",
       "v1EqYE5tXC1SiviOtSIpNgOV6MN6/T1kw+tQkgM6B0iRufKiuU8hub7v0UoUmKd0jpJwGx7NSrXs\n",
       "vUw5QPKML6GyaVdk9feo1oJ/qQWxJvAOy/UDeu7ePP9RlSPQhHug5cjRA0vlFXMsNk6GUKbNKRk4\n",
       "Lka0eBzwAAw2LTQi+7suBbpdmD8Lj8Jf3P38AMBFJtX5zFGIc+MvSyVH2VJ7qwq1Kwwl5Jo0YaFs\n",
       "gPCZE17yWZ67Bx6lki270tvI22Qo4CQuRvpJUgkmlpAgZnr5TJbNglJ9BY6bueu7GTwu8V8Y9Wjv\n",
       "4woLdssG2TcVpErtWOXChcbMhSPloTSt2s6nNOs6JLPNG51I3EseSIiCJ4OPYP5gFvpO1KH9gYVk\n",
       "L+ZlBveTFbT6CZ4zUjamdDwIJ99oOyj9P6xKwDkPxZftdr9KT18y4a3+SZ5S+2uMZJ3yvfQh0zoD\n",
       "l1k68y8R67KwNCb+8Lkj2ivf//5CYtGJS1xxzefP2oieaPG4TWkrMUZF3ra3jzvW319dXHpc0BE0\n",
       "xR4kYOfgoGLBAAABVEGfTkU0TDv/ABEJtIH/Qs14xXgrPjrY0bUncH6pMEbowoZBxt7V2zaJMwho\n",
       "OgjqldD+It1J9TdpFlDzOoP2V07wTOaYI+HRV1+Gm/1H3ox7TXdiurE0+VZicJzF3S8Jp1TeT60G\n",
       "Y0o4wKNEIyHR2WyjKCWaQnhkvslPrPLpZJm9X7WN15zIdLQ4j4SZ5pvCjLLaklv3wEjUr5pWxFgf\n",
       "YdtL9R56FGBUZyl3Lu67tooR2EvptxWruWlFbBnbuZb7LprGmUJkF9xs30eKXt4ny0I+Ek/OqdWb\n",
       "49c9AAVcj2KoYbELu7nnwR/H/UvBWEoe0YzltxvcTGRiRtoRwc+7gsozS1+uwVUt6bHt3Y57cRxx\n",
       "dWmA7CILnJcuWn7qmsO7yFQ8HJKLdBBdoMJYQePz8Wl3og6FRESN3vPwRfZQRWlReZJUWtMADpbj\n",
       "//l+l7E51EgmF+kAAAECAZ9tdEN/ABh+r+emQvV5YjBvB3juLrmwphuBSejscYHDL2i4MpsK8EGA\n",
       "DI7mujblVPJmpV9ZXxahHkGZGWffCazhE+8/bgsNRxJB3D7ZuoIl4c7wVtlWg1+GeERe1mAoNWbT\n",
       "cr5u2+xmPPHNqo1cQeRbcxYuInyTej3EzyKyiUhf1GDZsONP9FCBk6P0kNsBgYiqxg27vHkY1brl\n",
       "xQ6CTRcbx1yaNcm1rDd++MVjnvg8wllJO7lpahmvAxlF90fiaTAQgQrGoOJAqc691nYmGNp9gObF\n",
       "GfMW9ssB1YNvx3RZo0sbltH2bggc7/eIyhiZBlhI6YGp+qqZrqe9FBDvKUU1AAABCwGfb2pDfwAY\n",
       "guwnNa0GUogYN4Ov6bNuPCkcMGxgSM5x7BVRxf8RhzSueKBHbTAPsar7uuLa31DD+8GxXKUKZaEv\n",
       "BFJaV56ppQmXScwVK99fdjANRE0U2Jzl4HirgvuAJWjP4B/xPKvj7A+xUMn8ENCoylb8XQAhe+YV\n",
       "XrvonBnGthksyXkbLD6SPhOcTGwyCrKOJ+DOcRh7o4OnTIfEFJhcKxus4b+nzqiLie0L3t3ysqxS\n",
       "AztfWqSeGQbgK9CMYCtw9y44w6GHCBMe1xPnBEVJapteLPjrwyl/twFd+aZ2BrsRSE00p3FSty0L\n",
       "bfOdMVlqvr7MjSNHKk4dLgt++ippqYHvWMftwucK2AAAAwRBm3JJqEFomUwU8EP//qpVAAAMVJ9v\n",
       "gAFBgAzqBeaVxQU1aBXnRrWdKftnHEb7qDm+IqokcNOtiuQ3qNrHOxVBJsp4s3e9pUcqomXifbMC\n",
       "YXLDu77iWYWe9o6p25KVKKpyOi2AE5QXkTVczPR6O8lXnLzn5CSCneI5W3ROH+3kevkovB80L5O/\n",
       "3IS7X1gM0Z8jJ3Jpi1egQb676X093bYeDlzWc6jBMvynHNOfFnlOSWQvWeOcg3vZtNwWBa1kCZS/\n",
       "PbiLZlIK7btjV6vSwC3f4xqv75SwsMUyJsW+FwhI9LUZ6ZefgCsUL5VZBojgHeNaMTDWCBm75RZ2\n",
       "uwEcPDKzc4zGC4b0CY4pZ8/sw8H61MK6JlLfZuPWYhNdI4QgsQf6vZCpEuUbyBC3o6a/cUWpB0HI\n",
       "Ig/HUHxnqNE7pz88rNjG83obJ68G/RH4BThAMe8VURrLn+H/3RDdkoGrueHsGapKSMoYf+Iln0lA\n",
       "wjWU+AoOrOMuzGnHVS0FMLYhMpqSVXbzK0RnmC9HeEJTj1RBA8YShHk/8z7zUO4PNWy9S86XYIcV\n",
       "HTQDXTzrgvk863chtobi3RIOg7JN4b7ywKWHr/bfPzDpzMYBHXdh4uPVFRRh1I1+YXy+a6TzjZ1v\n",
       "m0v/4cu7WNh0JblK21+J876k0N7uzAhNTsg4xWdNOW6hC7WZ1f9m7raGOgu+I0g964k33pAvlJO9\n",
       "xhATYAwhoszQHob/GgUNipCM0VM63vlNbAA47fFQcF2enJR1cS7pHD/rQKE/ncROA75GlGX1FuzE\n",
       "v2V1CphORA0eRO7quL0uUTIv6GazbLLvTZWtRXuFcr2279pOsGvjB06OWUVD9aSLnXlJM2fElr74\n",
       "Qpc+Yd56P6pCI3qRc09qvF/gyn+D5a3AT3epkWmwR3QwNIQE2H/2yCT0XOePwudV93WCxBRXkkbs\n",
       "p4nS3iic2GguvlBhGRdDMGGcZNhWMFIVzHWRkyzs0ywoD64QDUlzMAJnAhluRCBERAGG1fgx65vZ\n",
       "Fz9Cya9TdqFIAAABFAGfkWpDfwAYhTWJ7BggylEE8vCYrZZWoKhZc0lDn2f0eoRfwttnWZM5g70N\n",
       "VUMhiMAqNg/vsSclHeNbtaJIJaz2TllXx0y66oePC2/RdV8QHBM2bHS8oqNkPxbnVN+GhHRc5AIA\n",
       "Su42TTZImplkU+rjQbmTkU6wnmcpSF+O2zD6q0cbs0Tbr3LiVQwE0XnfjX/GzufBbkraHWaoZY6C\n",
       "iQEGaK77TeuKx3HeehQ90L4PzKXVhRTDjI5M3aucVp5ANK/Yk9uyY/KWTZ9LVvGwButbNxJUVZNl\n",
       "SAymJzfRkBTuYiqZF35yrfOUFPiQMk39fWss0QvtdIqhOumgIQJhzfQa7nfXDvU3axOrtrVsj+Yb\n",
       "sCFf4QAAAyhBm5RJ4QpSZTBSwQ/+qlUACET+Blk1AYb773KOLdeFPlf3keu8oCvSJjBf8DwneR1s\n",
       "jO6VU4VMRWSafz12V0NW7y72a8VOdUohO2SKa5dbSvRevAlfNyuPuxtXWO03Hz4zaNKrI4x7BZar\n",
       "F8ffW7/t7U4YsqxxMW4mXz0xqW7VUjfjbdGYP0ys/aHpe0UCe3aEvGWglfIiIpF7A6J6zcb0NSkK\n",
       "Hg1xR3VTkIF0sMuEP3WyvI5Non+o/Cv8XYTz4TXJI49OjXOpmWJTqvHigPYdqF5BgWQdy/rw07Qj\n",
       "Ui5XybMgIr7YEfhOjAq7pu2qEFRdQu73bVdnYywKPQGAh3/DD/v5h3NkEq6abJr9982BdRLxHG96\n",
       "b09Gd/Pd7eE5htjZr+iBmdymsp8tOvhRfvdTgKEh1FvCk5NFKundXEhj3h7asZTBVMrJu++1xo7e\n",
       "zTymE3IvReNgcssKhXYpZXR2u6zc73JzPmmn/Rq6we52IB6u1dE4/uNShi54OU6IRbJWgdfRv1Q4\n",
       "uQpco4SmkO28H0B7sbbyZRN9okvBuQb4BlKmvpr8SOWX0BQh7ASfMho3w94vC1VBMgphucRcFOkD\n",
       "wC0WCk97IYmfeNu0jKqOdd+7PNMFis7l6ouTSb1yP2m8F0cu3eb4nHkv/Avd8gPIilueJ04gplHM\n",
       "nIWUDENuQ5na3sUJ5jc3mcXs/v7UjzRykgxsxhPlyH76HBijRgO78VX86chJHKS54dzeQ6+NgscA\n",
       "pwHqYuGR+L3Pct0+hPJmAImTnbl4RpmwAqmWyb1Nb6munx5RiURr971RXSFyMbE7pUdFZTdt5UWi\n",
       "3lolMIS4YHBRsiGMRsrCTVb3TeBUYovPDRrImZdTcyT4jK6QFVC7ovBDLHYdxrdEIPjV84SwIErm\n",
       "rZP3D9t1PLPo61lxhBTbXJMQ1RuppAV59+8n3A4Oa3zIO22oDx71Gd9jhJBq0MFcSE+H8c6Ae8zX\n",
       "wwo9yxEvvNhoVsT5LLmHZHylt7yrUsXmWoMvYqVBmiiY8Rqglljo/tE2hvdNVNoXoLN07dXludsU\n",
       "zdpF3d8gizsa4IGHYaMS6AErAAABGwGfs2pDfwAAI7XxOfyOO+V8vNzzKXMdkPRAA2lrY3s768uf\n",
       "+ygU2qOm/d1IG2G5B5qcXarzarWZWZrLT1uk+0/a16kOA3tHfTPBuLtjoCzj3OeFP3nMbisfKwe0\n",
       "JuQsX2uPCMw9bUVRs24YfUzNRO9gRQuUaX3WAEQgECQanq16JUUU7bZMn/Pc3PoHABQ+1gfl4zwV\n",
       "Asu8O2H6zmTlZnYngqnzZPm2fduFmqYY4cK8zpWBGd/Cfw4m8wlcubYz38hLAp2EO8r64kEv/jXn\n",
       "BhS0x5FQ17O3W/amwQG0LqiN8zJxWkL65zXC5ba1/grab5liD826fUYVYQmFrGEqztsVqvf5OL0F\n",
       "sMkzjNW338PI/f9Ebp+lw3VgScAAAAR1QZu4SeEOiZTAgh/+qlUAAAykp2HgAKQih/mh2Lt++hOF\n",
       "DuVSi6fFVIXoNp0UM1V/k19m1raUeLThr74TVFv3sIQ19OEKw2n+QV/qlQI4ptK0cQFdGVnGmyWi\n",
       "Qbv8qQ4G8vFUq3GoRFoe77TOhvuwRQw+rdVnbNuRzhx4/9OMVi8CDREs3ebznqsXvUG/GwOa4KCs\n",
       "D7IXElgDBEkwb4KpSPfjduUZAAnkir7/StUdNwCtR+UenKtBkkq2vbSgSgquQVhYCRsHRW9iooKC\n",
       "UdkysyLXDqlomxW+gq7Bs9M9aHv1nHe1wxEqe8Q11bSG0OnBsqJ7jHPZn/XxcfzogfItHb9bx3aT\n",
       "yZK8XbY1j6vN/FPu+wxLm8JxDd5G7cR8UdOVKGjnU4CpnyrpcHWefyU3z2q1ondzJxylydN+hj/c\n",
       "J4K0sG3x3BheBY9h+l24aqueaMidX/NFGK3xrqSI5iMp3WYWrnSfypAwe6r49YsGdf4hL9ySDXS3\n",
       "TgCbo+BKENhb9yvOoAEv4aZMGCfN775DcPXC403BwkJADVJFoutO2gS03n+xmPSjt1IjhFtXfCnH\n",
       "uYitUXP/AgS8kaVqmp1xRnx9bMfdiiCtKGon6FbzcFZBR7dbcziOPFCwczU0Bq7agNBszY0s6FKV\n",
       "kCvKOH1weNm/AYqczlsqxUlk002/U4oKnLTidQ/xSdNSms3tqVmpaM7Wa0RAq3jh3uJ/LtLbiUvP\n",
       "28CPXJOWZVrJ8elLpdvjxcoFvS5fWJ24XJRO7Qeyngmy/WpB8cXGDgJ5qIMw1DGkB131yDjjg1+c\n",
       "kDnR755JrivjerXGC9XY53OqqTNmEJKzE+pTKKOYQWxBzSOR2fpylkWZiXChMYDvqracCTKvLY5d\n",
       "il6++IeAuX1S0dZ1jK3nAzYME6Ug+vh9RWBWVTELHC54Nu8VCtLkm5/pH00K5it5fpInMdzBssf5\n",
       "HMb3kc7ZyCOpM8I8V3rA4ogsODf9OyH5ehHyASZgXqPxAzP2SMtqiac+66kGAD4eABl0pgk6uNmt\n",
       "wg9hJVzCvxzGYcjOvjjvdyUuB7rYe5XUzQvZ0Gza2V6LRH3qQZ1L5zMxTuvW92kFNbFhJ6P0Z/KL\n",
       "nc5CBg3ZWsDCVqtjDEtmw4YRkrjtMNU3uU8IWK1LNaCMlQHCkWpTgM7gciIDzO8SkkYbtWToSW9Q\n",
       "JSKkks9x6+IUd36tona1YhsnhbIWXCRbiboaaFa1B8+59ZLsGoXURGuI/OFQLKNORZM+iFTaVJB0\n",
       "1bJEVdGdA8KlJwPn2NEsSxjtsyL4m15Y7RFDvOd2YI3E6RPS3qBB86PXsOn2gnQ43561QARJzdGj\n",
       "QThagzLF1XgJejy2jeOJsioDqAXmP/pkOZ+CJH6pCfDywKn04RtH+pMv3qckVi8uKDSQNmPoULDL\n",
       "q9HaVUIwoBt5RopjWly6rzMjlj7n5aDBAyy/uNbveo9Ewnz/pe8ooZbbGhZqGs6RuGQm8CAusmdu\n",
       "LW9NhfrfFXwrx2mdBnF9JuERC+L82whiYQAAAXBBn9ZFFTw7/wAQ2ACyABcmL3vuhOfkM3tATkIa\n",
       "FfftZfKV0UhwwtOMIWIysMCQJFqb5McQYiy+19xLYZ7yLZRW4yjEh095sEUzZII7kNzWWABCSMx4\n",
       "mfymfRhgqutowARVY8yeBBc1csBRTBi31gz8O01C2QY+QzQySPlfcI0czp7XmrSctW8NNotzEti2\n",
       "JCyHrdfpTEs5QPhjntDGXQqxwkOa27ZtvbuRbBNV5nXrV8b2ixxTqIIj/PVkN6Uc0Vvr8KLU2Xvc\n",
       "+UVVM3g4ODBkowFmUoSIDX92zkMitlDK83DSnYwDEcHofj9VtNQr3u3Mrw8Fc9vjKC23xDa7bI97\n",
       "Rxr+ujKsy7eSQ8+sDBsMWmR+3wDtZtawssSXS3WfO7DMFL09ilN5PHr11+zdPkgEUY5NozG8u2xR\n",
       "x/VH2VjJb1kzHuUrcgiFR3V6IwTLHTWVoYsUT9/iF3vc9d9dw/8VOHpeRF2q94NJiek9RhUBOwAA\n",
       "AQwBn/V0Q38AGH6v57m0Erna6ht8oLFUkNpegnZiJuTzBDlBaj+ukQRxrOFbZQjqiYXMDJnpRdao\n",
       "rHVKh9lkWPfrylr9DxYzEMVFPwJQmIaCZ3TKtUw0cOlScdYaZQTCxznX6aAFfGMIWXvay+ZtN65t\n",
       "m1MzJp8nn/i7WFgtSyZLwGHjcHg0Eb6F2ZFwwQaE116ijeb3Q9ASoUewjO5TO7vnEh7qLooVqSSa\n",
       "mqF2yXTZN16CMPp7QcZpau+ZCaJ/OBso82U4i1vCE4U0j0ydAQmXy9QYsN2kEXfB54kezCVEiQcA\n",
       "7PElj2x7Ajvn/gmSi4v/txdKpDaHt991Qb87Redl9/2qRGphde2frAd1AAAA8AGf92pDfwAYguwn\n",
       "PnmAnrdsXGYIyijABtBs/Pm8kBzSW2kiHyYsc6Opb/83mDpdvRs85obLAisxOmSW9vwr2JjxvO04\n",
       "V3RUo33rNQ/bXk4riTQwKEI+uSgT4/XQ0cKCb0pypo69NzPS91gvDKN+pnikTPT5tLqVw2zzxlKY\n",
       "v76oPxvMB0s95ah5TEMbHNG9AJs87CLakLv63taxpYT8UydfHAkSZUSbsx4aN+lMSP3G0PtEMnIY\n",
       "3oqZrUc78i4tCsIJjONs5tpvTneOZX85fp5sdjTEua/Osojqx2YMtThqDVX/jVwxwf6DOwBGqs+k\n",
       "gQAAAldBm/pJqEFomUwU8P/+qZYAADFRa8meey7IhBnt7MiKvQAcU0Q1fjf862pjiybkIEHojoJB\n",
       "L+YX207VVyL/BstDIxTWAeDG8blCUpcF2WiLc6vF1ssuiXCb3AyIjnohmeOTb7BS/FX70ddP03Tr\n",
       "U/KyywUZEBardpy16+DsDhafLP6NEuUS0FBYgGOE7KJltLWfCie6GVk3HeszF8GcxzjmUyeU+ze0\n",
       "UyVtBR8DtIZPP7u4fg0rgwgds+pEorgAQE4naIZ6/ITvKDEU78DmyKa32h0/kAfCEco35TpNfCim\n",
       "TUYQNhRXXOtodTsWeSr/1TchcuS/aKdlU7DWvnBILajP98ryQ8FCsbWE145FlgjEX7ck5FMGl5jS\n",
       "10ftb/5/6yPKD4DN8gGYfV+NN9wL7GAKVBUcaMgL/G8MYDTS3ca762sjhGy901oF+issciwhzowD\n",
       "rMkCkUAV2pB2P3TxNv0dBiksExuUSNEdBdGoDOUnSKvDfGuLLsaJ7/Um6XvmEHc2s1TF28ZzzJNK\n",
       "6ZuOHZqBuL2PqbNiN0a2rpSJwsiFcMmYFswDO5eUmIeJcrB+tyAUswSqKsKQ9/Z9AgmH9l6jMh3U\n",
       "3ZhDbJT12WfoeUzoXh5CgjvvYQIkYZGW2ZWoR9oA9Uik3C1H/PrdZ4JKYEOdR3jePMMr0e7bj4ZR\n",
       "qmvSKktppI5zHtArfY4Ye4mKCimZzOxtG70pNHEbLsKUf1uHyTDH9gnv5+iNwEGThyDtqX+0XPBH\n",
       "rFkC7Bt+XuKpR9b1k2uH6f9MVt6oRvnCMGK3olYABZ8eYwAAAQwBnhlqQ38AGIU1ifFGxdEgHZMk\n",
       "oGV95VkGdUZJ7h/ev3s6g8SblyXn0nmrmVsnAZRR8Dft2nxQUIyPiLCLOQ3Wm/3Tdzl6KrcUWfD9\n",
       "vki04zO2EaLhzPkr4E/akzMgFbxr/BsK2yztHZm5HHyrgAQn6A7q47d+kHmmSlaYsiBHxPnmrEDE\n",
       "5Is00AzVBJB3McB6Df+qL01epzqV7mqguToEGVKvjMxs+TRfWDGAe2/va++htmTvyIqE66/6J/bV\n",
       "C33sAdB0pJRBmoIRNRtNrMguc1kdpEPRidkaxxLqaEm2bN+ZlN9PRX46M1jzJtrzkvsIJDDmHc1z\n",
       "0qbgRJiJ+NkOlzviiOWZdb0FDMWBAAAB4UGaHUnhClJlMCG//qeEAABiAC7PiT8xNrVF3pv2hz6K\n",
       "rZyil5xwEADtLYu0SNWi75pfJ2iAtuoCTb3KvgVh8zWCpnoGTvt8L0cgk2CZfSTx6froJ6O2vV9k\n",
       "Pz3JECm8Jy+mrwPsM5NqhDBYG/U2ZhvsmM+yjPP4h9LE8eEkI4PlCFTEhaxCQG/DhMtAZ8KGO3N3\n",
       "eCiKAvvXumXAUFPQlLLsuxlUdJiR8ExWdOITffd0tlObO6XQZ023lPvDak6iTfHZnQBCn/wVlmld\n",
       "hVPXAAm7//OnS1h+teuVwQANvaylBpWhGd5yoUFzIlvX2yW33312FSM7UmKtP9DKmbko+l63Hv2e\n",
       "v5Nhok7Pm0zi8sn4lGRrolIcayJgJzA4V61TCjIPxBm1FyCzr16qOOVW24ysOV//66U5WUL2X3aK\n",
       "tE3c4XLZx1eCUrfmS8B9dZ7P743cAp7KjadC/V28QuRIXDZiF7+OyKSPoLEUFEuvvc0vmM69ipDZ\n",
       "+VdLgHIDfCkinxyuTpBFbRJQWAzL6E34W+mwtqQqC3UaKZaYAmIS+OvTUJqWRJQwG6/5xj/cSbwy\n",
       "pUe5XTDLc/nxVDMfRpdIMxnRu4Cqwx7pEQ18+9aHN8TXKjjXvesKf8jki+Epn1rNHeoAAAEcQZ47\n",
       "RTRMN/8AGIQjCdHpbwNKouJbX4Z3/p7JdJCBvTLLwTDo5pAX6TbgMUdVi46TzhPU4jRmvg4+WD5i\n",
       "j3xW4dW/0QVtPVYUn9cCkDF84WfqegBLVAAAAwAB70LuZ/bt8gi0z/+nkOgaJNrNbO2E9PS/w8FI\n",
       "2yKcjxiC8s+5ps7J2zjLZRwhpSRCYEOl83X62krgbpMjcO/aF6F4B9KkPkW9jbQKrCY5+DI8Uxmy\n",
       "hMPFU6clc8r4+Mmi/dOK3uZXB/utoYZdXMm5xt1czM0XaTY4Lj3uhhc97s4PNGn6xo8/IvRIw8xs\n",
       "w32Z7PqNNnzN5p9v/6bzAGGCzcouVBd35RBrVjyurPWIoqI6imLXrGTO18LQvY/gxZwx9SEAAAD6\n",
       "AZ5cakN/ABiC7CdHeZ0Z8xIkiuodh60oW+vlTRPvtGnMVxsHZgq951VrW5SN2fveIAS7HL+fiXui\n",
       "w1uRSdv+Mj0/cabf9dEPD7kBCj55EH9vf6AiuUrBhXSzW2HLueOiAJ79R6vgsaei6kNtuSkutn97\n",
       "L1J+Z56C6CyEedJkE1cIPBpPLE51AAADAAalF6DbDaxQNOjzcdyJzbw2v59anNl6KrVmMzPiKdXd\n",
       "bckM1itSscggaB5BDALn2GeD9ckoFSYMrjDLqqNXHIt6hpj1yQum6ditUn5UzqGvtf51vrq1twIy\n",
       "wNTRbYTC5S5ZonTs3uEArRSFLqZDwQAABHhtb292AAAAbG12aGQAAAAAAAAAAAAAAAAAAAPoAAAL\n",
       "uAABAAABAAAAAAAAAAAAAAAAAQAAAAAAAAAAAAAAAAAAAAEAAAAAAAAAAAAAAAAAAEAAAAAAAAAA\n",
       "AAAAAAAAAAAAAAAAAAAAAAAAAAAAAAACAAADonRyYWsAAABcdGtoZAAAAAMAAAAAAAAAAAAAAAEA\n",
       "AAAAAAALuAAAAAAAAAAAAAAAAAAAAAAAAQAAAAAAAAAAAAAAAAAAAAEAAAAAAAAAAAAAAAAAAEAA\n",
       "AAAB9AAAAfQAAAAAACRlZHRzAAAAHGVsc3QAAAAAAAAAAQAAC7gAAAgAAAEAAAAAAxptZGlhAAAA\n",
       "IG1kaGQAAAAAAAAAAAAAAAAAACgAAAB4AFXEAAAAAAAtaGRscgAAAAAAAAAAdmlkZQAAAAAAAAAA\n",
       "AAAAAFZpZGVvSGFuZGxlcgAAAALFbWluZgAAABR2bWhkAAAAAQAAAAAAAAAAAAAAJGRpbmYAAAAc\n",
       "ZHJlZgAAAAAAAAABAAAADHVybCAAAAABAAAChXN0YmwAAAC1c3RzZAAAAAAAAAABAAAApWF2YzEA\n",
       "AAAAAAAAAQAAAAAAAAAAAAAAAAAAAAAB9AH0AEgAAABIAAAAAAAAAAEAAAAAAAAAAAAAAAAAAAAA\n",
       "AAAAAAAAAAAAAAAAAAAAAAAY//8AAAAzYXZjQwFkABb/4QAaZ2QAFqzZQIAQeeeEAAADAAQAAAMA\n",
       "UDxYtlgBAAZo6+PLIsAAAAAcdXVpZGtoQPJfJE/FujmlG88DI/MAAAAAAAAAGHN0dHMAAAAAAAAA\n",
       "AQAAAB4AAAQAAAAAFHN0c3MAAAAAAAAAAQAAAAEAAADgY3R0cwAAAAAAAAAaAAAAAwAACAAAAAAB\n",
       "AAAQAAAAAAIAAAQAAAAAAQAACAAAAAABAAAUAAAAAAEAAAgAAAAAAQAAAAAAAAABAAAEAAAAAAEA\n",
       "AAwAAAAAAQAABAAAAAABAAAUAAAAAAEAAAgAAAAAAQAAAAAAAAABAAAEAAAAAAEAAAwAAAAAAQAA\n",
       "BAAAAAABAAAMAAAAAAEAAAQAAAAAAQAAFAAAAAABAAAIAAAAAAEAAAAAAAAAAQAABAAAAAABAAAM\n",
       "AAAAAAEAAAQAAAAAAQAAEAAAAAACAAAEAAAAABxzdHNjAAAAAAAAAAEAAAABAAAAHgAAAAEAAACM\n",
       "c3RzegAAAAAAAAAAAAAAHgAAGdUAAAIeAAAB2AAAAxoAAAFbAAAA7QAAAiwAAAQxAAABwQAAARsA\n",
       "AAD5AAADSwAAAPgAAASPAAABWAAAAQYAAAEPAAADCAAAARgAAAMsAAABHwAABHkAAAF0AAABEAAA\n",
       "APQAAAJbAAABEAAAAeUAAAEgAAAA/gAAABRzdGNvAAAAAAAAAAEAAAAsAAAAYnVkdGEAAABabWV0\n",
       "YQAAAAAAAAAhaGRscgAAAAAAAAAAbWRpcmFwcGwAAAAAAAAAAAAAAAAtaWxzdAAAACWpdG9vAAAA\n",
       "HWRhdGEAAAABAAAAAExhdmY1Ny44My4xMDA=\n",
       "\">\n",
       "  Your browser does not support the video tag.\n",
       "</video>"
      ],
      "text/plain": [
       "<IPython.core.display.HTML object>"
      ]
     },
     "execution_count": 28,
     "metadata": {},
     "output_type": "execute_result"
    }
   ],
   "source": [
    "K_list = [get_camera_intrinsics(fx=f) for f in np.linspace(10, 150, 30)]\n",
    "cube_list = [get_cube(rotation_angles=(0, 30, 50), with_normals=True) for i in range(30)]\n",
    "anim = get_animation(K_list, cube_list, title=\"Change of focal length along the x-axis.\")\n",
    "HTML(anim.to_html5_video())"
   ]
  },
  {
   "attachments": {},
   "cell_type": "markdown",
   "metadata": {
    "id": "2gFBpMpRbOuO"
   },
   "source": [
    "### d) + e)\n",
    "\n",
    "Create a visualization where you change both focal lengths similarly to the previous example. Further, create a visualization where you translate the cube along the y-axis between the values [-2, 2].\n",
    "\n",
    "*Hint 1*: ˙uoᴉʇɔunɟ ǝqnɔ‾ʇǝƃ ǝɥʇ ɟo ʇuǝɯnƃɹɐ ɹǝʇuǝɔ ǝɥʇ ǝʇɐlndᴉuɐɯ 'ǝqnɔ ǝɥʇ ƃuᴉʇɐlsuɐɹʇ ɹoℲ"
   ]
  },
  {
   "cell_type": "code",
   "execution_count": null,
   "metadata": {
    "colab": {
     "base_uri": "https://localhost:8080/",
     "height": 380
    },
    "id": "so1640-uhRFi",
    "outputId": "7739d469-f35f-407b-983d-18a112429c4a"
   },
   "outputs": [],
   "source": [
    "###########################\n",
    "#### Exercise Function ####\n",
    "###########################\n",
    "# Insert your code here"
   ]
  },
  {
   "cell_type": "code",
   "execution_count": null,
   "metadata": {
    "colab": {
     "base_uri": "https://localhost:8080/",
     "height": 380
    },
    "id": "mpLB6NkAbc1G",
    "outputId": "36a24417-bb1e-4ed8-8911-3a13b4363335"
   },
   "outputs": [],
   "source": [
    "###########################\n",
    "#### Exercise Function ####\n",
    "###########################\n",
    "# Insert your code here"
   ]
  },
  {
   "attachments": {},
   "cell_type": "markdown",
   "metadata": {
    "id": "BX_SchwogJZl"
   },
   "source": [
    "### f) Dolly Zoom Effect\n",
    "\n",
    "Great! As you are now familiar with manipulating the focal lengths as well as translating the object, we can now even create the Dolly Zoom effect! For this, linearly change the focal lengths between 10 and 150 while also translating the cube along the z-axis between 0.9 and 5."
   ]
  },
  {
   "cell_type": "code",
   "execution_count": null,
   "metadata": {
    "colab": {
     "base_uri": "https://localhost:8080/",
     "height": 380
    },
    "id": "HsdgrP7Obq5I",
    "outputId": "bc954c75-afa0-403a-c6e8-74f253eacc8b"
   },
   "outputs": [],
   "source": [
    "###########################\n",
    "#### Exercise Function ####\n",
    "###########################\n",
    "# Insert your code here"
   ]
  },
  {
   "cell_type": "markdown",
   "metadata": {
    "id": "gU0snL6JhMV9"
   },
   "source": [
    "Great! If you implemented it correctly, the size of the cube should not change while the perspective distortion changes (this effect has also been used in movies, check out https://en.wikipedia.org/wiki/Dolly_zoom for more information)."
   ]
  },
  {
   "attachments": {},
   "cell_type": "markdown",
   "metadata": {
    "id": "rGB30pLsjkD4"
   },
   "source": [
    "## 2.2 Comparison of Perspective and Orthographic Projection\n",
    "\n",
    "We have now seen the effect of a perspective transformation. Let's contrast this against an orthographic projection in the following!\n",
    "\n",
    "### a)\n",
    "\n",
    "Complete the function `get_orthographic_projection` which maps an input point in camera space `x_c` to 2D pixel coordinates `x_s`."
   ]
  },
  {
   "cell_type": "code",
   "execution_count": null,
   "metadata": {
    "id": "Af6HqlExj_V4"
   },
   "outputs": [],
   "source": [
    "###########################\n",
    "#### Exercise Function ####\n",
    "###########################\n",
    "def get_orthographic_projection(x_c):\n",
    "    ''' Projects the 3D point in camera space x_c to 2D pixel coordinates using an orthographic projection.\n",
    "    \n",
    "    Args:\n",
    "        x_c (array): 3D point in camera space\n",
    "    '''\n",
    "    assert(x_c.shape == (3,))\n",
    "\n",
    "    # Insert your code here\n",
    "\n",
    "    assert(x_s.shape == (2,))\n",
    "    return x_s"
   ]
  },
  {
   "cell_type": "markdown",
   "metadata": {},
   "source": [
    "Here, we provide a helper function to project the entire cube using the `get_orthographic_projection` function."
   ]
  },
  {
   "cell_type": "code",
   "execution_count": null,
   "metadata": {},
   "outputs": [],
   "source": [
    "def project_cube_orthographic(cube):\n",
    "    ''' Projects the cube using an orthographic projection.\n",
    "    \n",
    "    Args:\n",
    "        cube (array): cube\n",
    "    '''\n",
    "    s = cube.shape\n",
    "    assert(s[-1] == 3)\n",
    "    cube = cube.reshape(-1, 3)\n",
    "    projected_cube = np.stack([get_orthographic_projection(p) for p in cube])\n",
    "    projected_cube = projected_cube.reshape(*s[:-1], 2)\n",
    "    return projected_cube"
   ]
  },
  {
   "cell_type": "markdown",
   "metadata": {
    "id": "v9Aekr59k4yg"
   },
   "source": [
    "Now, let's have a look how the cube from earlier looks like when we project it via the orthographic projection. (To obtain a similar-sized cube, we need to increase its scale to account for the missing scale factor; instead, we could also use a scaled orthographic projection, but we choose this approach for simplicity.)"
   ]
  },
  {
   "cell_type": "code",
   "execution_count": null,
   "metadata": {
    "colab": {
     "base_uri": "https://localhost:8080/",
     "height": 370
    },
    "id": "HwQtgvfuk_NN",
    "outputId": "3a574466-0740-434d-b3a4-c42b87f559a7"
   },
   "outputs": [],
   "source": [
    "cube, normals = get_cube(center=(60., 60., 100), rotation_angles=[30, 50, 0], scale=60., with_normals=True)\n",
    "colors = get_face_colors(normals)\n",
    "mask = get_face_mask(cube, normals)\n",
    "projected_cube = project_cube_orthographic(cube)\n",
    "plot_projected_cube(projected_cube, figtitle=\"Orthographic-Projected Cube with Shading\", colors=colors, face_mask=mask)"
   ]
  },
  {
   "attachments": {},
   "cell_type": "markdown",
   "metadata": {
    "id": "v9kBWVs9pu7y"
   },
   "source": [
    "### b)\n",
    "\n",
    "How would you describe your result? Compare it against the visualization of the dolly zoom. When does the perspective projection look most similar to the orthographic projection?\n",
    "\n",
    "To confirm your analysis, plot a cube with center `(0, 0, 150)` and the same rotation angles `(30, 50, 0)` which you project with a camera matrix with focal lengths of `10000`."
   ]
  },
  {
   "cell_type": "code",
   "execution_count": null,
   "metadata": {
    "colab": {
     "base_uri": "https://localhost:8080/",
     "height": 370
    },
    "id": "IUrQnLrMrsMp",
    "outputId": "3aee749f-2cdf-47d9-927b-559dbeaf0516"
   },
   "outputs": [],
   "source": [
    "###########################\n",
    "#### Exercise Function ####\n",
    "###########################\n",
    "# Insert your code here"
   ]
  },
  {
   "attachments": {},
   "cell_type": "markdown",
   "metadata": {},
   "source": [
    "## 2.3 Panorama Stitching using DLT\n",
    "\n",
    "In the second part of the exercise, we have a look at homographies and how they can be used to stitch together photos!"
   ]
  },
  {
   "cell_type": "markdown",
   "metadata": {},
   "source": [
    "Let's first import the two images we want to stich together and the pre-computed point pairs."
   ]
  },
  {
   "cell_type": "code",
   "execution_count": null,
   "metadata": {},
   "outputs": [],
   "source": [
    "# Load images\n",
    "img1 = cv2.cvtColor(cv2.imread('./image-1.jpg'), cv2.COLOR_BGR2RGB)\n",
    "img2 = cv2.cvtColor(cv2.imread('./image-2.jpg'), cv2.COLOR_BGR2RGB)\n",
    "\n",
    "# Load matching points\n",
    "npz_file = np.load('./panorama_points.npz')\n",
    "points_source = npz_file['points_source']\n",
    "points_target = npz_file['points_target']"
   ]
  },
  {
   "cell_type": "markdown",
   "metadata": {},
   "source": [
    "Let's have a look at the two images"
   ]
  },
  {
   "cell_type": "code",
   "execution_count": null,
   "metadata": {},
   "outputs": [],
   "source": [
    "# Let's visualize the images\n",
    "f = plt.figure(figsize=(15, 5))\n",
    "ax1 = f.add_subplot(121)\n",
    "ax2 = f.add_subplot(122)\n",
    "ax1.imshow(img1)\n",
    "ax2.imshow(img2)"
   ]
  },
  {
   "cell_type": "markdown",
   "metadata": {},
   "source": [
    "Let's also have a look at some correspondence pairs! For this, the `draw_matches` function is provided."
   ]
  },
  {
   "cell_type": "code",
   "execution_count": null,
   "metadata": {},
   "outputs": [],
   "source": [
    "###########################\n",
    "##### Helper Function #####\n",
    "###########################\n",
    "def draw_matches(img1, points_source, img2, points_target):\n",
    "    ''' Returns an image with matches drawn onto the images.\n",
    "    '''\n",
    "    r, c = img1.shape[:2]\n",
    "    r1, c1 = img2.shape[:2]\n",
    "\n",
    "    output_img = np.zeros((max([r, r1]), c + c1, 3), dtype='uint8')\n",
    "    output_img[:r, :c, :] = np.dstack([img1])\n",
    "    output_img[:r1, c:c + c1, :] = np.dstack([img2])\n",
    "\n",
    "    for p1, p2 in zip(points_source, points_target):\n",
    "        (x1, y1) = p1[:2]\n",
    "        (x2, y2) = p2[:2]\n",
    "\n",
    "        cv2.circle(output_img, (int(x1), int(y1)), 10, (0, 255, 255), 10)\n",
    "        cv2.circle(output_img, (int(x2) + c, int(y2)), 10, (0, 255, 255), 10)\n",
    "\n",
    "        cv2.line(output_img, (int(x1), int(y1)), (int(x2) + c, int(y2)), (0, 255, 255), 5)\n",
    "\n",
    "    return output_img"
   ]
  },
  {
   "cell_type": "code",
   "execution_count": null,
   "metadata": {},
   "outputs": [],
   "source": [
    "f = plt.figure(figsize=(20, 10))\n",
    "vis = draw_matches(img1, points_source[:5], img2, points_target[:5])\n",
    "plt.imshow(vis)"
   ]
  },
  {
   "attachments": {},
   "cell_type": "markdown",
   "metadata": {},
   "source": [
    "### a)\n",
    "\n",
    "After looking at the correspondences, let's stitch the images together! In order to stich together the images, we need a function to return the 2x9 \"A_i\" matrix discussed in the lecture for a given 2D correspondence pair `xi_vector` and `xi_prime_vector` (these are 3D homogeneous vectors)."
   ]
  },
  {
   "cell_type": "code",
   "execution_count": null,
   "metadata": {},
   "outputs": [],
   "source": [
    "###########################\n",
    "#### Exercise Function ####\n",
    "###########################\n",
    "def get_Ai(xi_vector, xi_prime_vector):\n",
    "    ''' Returns the A_i matrix discussed in the lecture for input vectors.\n",
    "    \n",
    "    Args:\n",
    "        xi_vector (array): the x_i vector in homogeneous coordinates\n",
    "        xi_vector_prime (array): the x_i_prime vector in homogeneous coordinates\n",
    "    '''\n",
    "    assert(xi_vector.shape == (3,) and xi_prime_vector.shape == (3,))\n",
    "\n",
    "    # Insert your code here\n",
    "    \n",
    "    assert(Ai.shape == (2, 9))\n",
    "    return Ai"
   ]
  },
  {
   "attachments": {},
   "cell_type": "markdown",
   "metadata": {},
   "source": [
    "### b)\n",
    "\n",
    "Using `get_Ai`, write a function `get_A` which returns the A matrix of size 2Nx9."
   ]
  },
  {
   "cell_type": "code",
   "execution_count": null,
   "metadata": {},
   "outputs": [],
   "source": [
    "###########################\n",
    "#### Exercise Function ####\n",
    "###########################\n",
    "def get_A(points_source, points_target):\n",
    "    ''' Returns the A matrix discussed in the lecture.\n",
    "    \n",
    "    Args:\n",
    "        points_source (array): 3D homogeneous points from source image\n",
    "        points_target (array): 3D homogeneous points from target image\n",
    "    '''\n",
    "    N = points_source.shape[0]\n",
    "\n",
    "    # Insert your code here\n",
    "    \n",
    "    assert(A.shape == (2*N, 9))\n",
    "    return A"
   ]
  },
  {
   "attachments": {},
   "cell_type": "markdown",
   "metadata": {},
   "source": [
    "### c)\n",
    "\n",
    "Next, implement the function `get_homography` which returns the homography H for point corrspondence pairs. You should obtain H by performing the Direct Linear Transformation (DLT) algorithm (consisting of 3 steps).\n",
    "\n",
    "*Hint 1*: ˙uoᴉʇɔunɟ ∀ʇǝƃ ǝɥʇ ƃuᴉsn xᴉɹʇɐɯ ∀ ǝɥʇ uᴉɐʇqo ʇsɹᴉɟ\n",
    "\n",
    "*Hint 2*: ˙(pʌs˙ƃlɐuᴉl˙du ƃuᴉsn ƃǝ) ∀ uo pΛS ɯɹoɟɹǝd 'ʇxǝu\n",
    "\n",
    "*Hint 3*: ˙xᴉɹʇɐɯ Λ pǝsodsuɐɹʇ ǝɥʇ ɟo ǝnlɐʌ ʇsɐl ǝɥʇ ʇɔǝlǝs 'ʎllɐuᴉɟ"
   ]
  },
  {
   "cell_type": "code",
   "execution_count": null,
   "metadata": {},
   "outputs": [],
   "source": [
    "###########################\n",
    "#### Exercise Function ####\n",
    "###########################\n",
    "def get_homography(points_source, points_target):\n",
    "    ''' Returns the homography H.\n",
    "    \n",
    "    Args:\n",
    "        points_source (array): 3D homogeneous points from source image\n",
    "        points_target (array): 3D homogeneous points from target image        \n",
    "    '''\n",
    "\n",
    "    # Insert your code here\n",
    "\n",
    "    assert(H.shape == (3, 3))\n",
    "    return H"
   ]
  },
  {
   "cell_type": "markdown",
   "metadata": {},
   "source": [
    "We need a function which takes in the two images and the calculated homography and it returns the stiched image in a format which we can display easy with matplotlib. This function is provided in the following."
   ]
  },
  {
   "cell_type": "code",
   "execution_count": null,
   "metadata": {},
   "outputs": [],
   "source": [
    "###########################\n",
    "##### Helper Function #####\n",
    "###########################\n",
    "def stich_images(img1, img2, H):\n",
    "    ''' Stitches together the images via given homography H.\n",
    "\n",
    "    Args:\n",
    "        img1 (array): image 1\n",
    "        img2 (array): image 2\n",
    "        H (array): homography\n",
    "    '''\n",
    "\n",
    "    rows1, cols1 = img1.shape[:2]\n",
    "    rows2, cols2 = img2.shape[:2]\n",
    "\n",
    "    list_of_points_1 = np.float32([[0,0], [0, rows1],[cols1, rows1], [cols1, 0]]).reshape(-1, 1, 2)\n",
    "    temp_points = np.float32([[0,0], [0,rows2], [cols2,rows2], [cols2,0]]).reshape(-1,1,2)\n",
    "\n",
    "    list_of_points_2 = cv2.perspectiveTransform(temp_points, H)\n",
    "    list_of_points = np.concatenate((list_of_points_1,list_of_points_2), axis=0)\n",
    "\n",
    "    [x_min, y_min] = np.int32(list_of_points.min(axis=0).ravel() - 0.5)\n",
    "    [x_max, y_max] = np.int32(list_of_points.max(axis=0).ravel() + 0.5)\n",
    "\n",
    "    translation_dist = [-x_min,-y_min]\n",
    "\n",
    "    H_translation = np.array([[1, 0, translation_dist[0]], [0, 1, translation_dist[1]], [0, 0, 1]])\n",
    "\n",
    "    output_img = cv2.warpPerspective(img2, H_translation.dot(H), (x_max-x_min, y_max-y_min))\n",
    "    output_img[translation_dist[1]:rows1+translation_dist[1], translation_dist[0]:cols1+translation_dist[0]] = img1\n",
    "\n",
    "    return output_img"
   ]
  },
  {
   "cell_type": "markdown",
   "metadata": {},
   "source": [
    "Finally, we can have a look at our panorama! "
   ]
  },
  {
   "cell_type": "code",
   "execution_count": null,
   "metadata": {},
   "outputs": [],
   "source": [
    "H = get_homography(points_target, points_source)\n",
    "stiched_image = stich_images(img1, img2, H)\n",
    "fig = plt.figure(figsize=(15, 10))\n",
    "fig.suptitle(\"Stiched Panorama\")\n",
    "plt.imshow(stiched_image)"
   ]
  },
  {
   "attachments": {},
   "cell_type": "markdown",
   "metadata": {},
   "source": [
    "### d)\n",
    "\n",
    "Now, it's your turn: Create your own panorama! Go out and take two photos with your smartphone or camera and save them to your computer. Make sure that you only change the angle of the phone/camera, not the position! Save them to the lecture exercise folder and cange the file paths for `img1` and `img2` below to your own images!"
   ]
  },
  {
   "cell_type": "code",
   "execution_count": null,
   "metadata": {},
   "outputs": [],
   "source": [
    "###########################\n",
    "#### Exercise Function ####\n",
    "###########################\n",
    "# Load images\n",
    "img1 = cv2.cvtColor(cv2.imread('./path/to/your/image-1'), cv2.COLOR_BGR2RGB)\n",
    "img2 = cv2.cvtColor(cv2.imread('./path/to/your/image-2'), cv2.COLOR_BGR2RGB)\n",
    "# Let's visualize the images\n",
    "f = plt.figure(figsize=(15, 5))\n",
    "ax1 = f.add_subplot(121)\n",
    "ax2 = f.add_subplot(122)\n",
    "ax1.imshow(img1)\n",
    "ax2.imshow(img2)"
   ]
  },
  {
   "cell_type": "markdown",
   "metadata": {},
   "source": [
    "For obtaining the homography, we need correspondence pairs. In the following we provide a function for this based on feature matching."
   ]
  },
  {
   "cell_type": "code",
   "execution_count": null,
   "metadata": {},
   "outputs": [],
   "source": [
    "###########################\n",
    "##### Helper Function #####\n",
    "###########################\n",
    "def get_keypoints(img1, img2):\n",
    "    orb = cv2.ORB_create(nfeatures=2000)\n",
    "\n",
    "    keypoints1, descriptors1 = orb.detectAndCompute(img1, None)\n",
    "    keypoints2, descriptors2 = orb.detectAndCompute(img2, None)\n",
    "    bf = cv2.BFMatcher_create(cv2.NORM_HAMMING)\n",
    "\n",
    "    # Find matching points\n",
    "    matches = bf.knnMatch(descriptors1, descriptors2, k=2)\n",
    "    good = []\n",
    "    for m, n in matches:\n",
    "        if m.distance < 0.5 * n.distance:\n",
    "            good.append(m)\n",
    "    p_source = np.float32([ keypoints1[good_match.queryIdx].pt for good_match in good ]).reshape(-1,2)\n",
    "    p_target = np.float32([ keypoints2[good_match.trainIdx].pt for good_match in good ]).reshape(-1,2)\n",
    "    N = p_source.shape[0]\n",
    "    p_source = np.concatenate([p_source, np.ones((N, 1))], axis=-1)\n",
    "    p_target = np.concatenate([p_target, np.ones((N, 1))], axis=-1)\n",
    "    return p_source, p_target"
   ]
  },
  {
   "cell_type": "markdown",
   "metadata": {},
   "source": [
    "Let's have a look at your own panorama!"
   ]
  },
  {
   "cell_type": "code",
   "execution_count": null,
   "metadata": {},
   "outputs": [],
   "source": [
    "p_source, p_target = get_keypoints(img1, img2)\n",
    "H = get_homography(p_target, p_source)\n",
    "stiched_image = stich_images(img1, img2, H)\n",
    "fig = plt.figure(figsize=(15, 10))\n",
    "fig.suptitle(\"Stiched Panorama\")\n",
    "plt.imshow(stiched_image)"
   ]
  },
  {
   "cell_type": "markdown",
   "metadata": {},
   "source": [
    "Great job! You now gained hands-on experience in the fields of image formation and panorama stitching!"
   ]
  }
 ],
 "metadata": {
  "colab": {
   "collapsed_sections": [],
   "name": "lecture_cv_projection2.ipynb",
   "provenance": []
  },
  "kernelspec": {
   "display_name": "Python 3",
   "language": "python",
   "name": "python3"
  },
  "language_info": {
   "codemirror_mode": {
    "name": "ipython",
    "version": 3
   },
   "file_extension": ".py",
   "mimetype": "text/x-python",
   "name": "python",
   "nbconvert_exporter": "python",
   "pygments_lexer": "ipython3",
   "version": "3.8.8"
  }
 },
 "nbformat": 4,
 "nbformat_minor": 1
}
