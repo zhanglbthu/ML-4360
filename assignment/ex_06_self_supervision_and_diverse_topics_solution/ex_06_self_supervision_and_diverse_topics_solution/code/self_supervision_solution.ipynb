{
 "cells": [
  {
   "cell_type": "markdown",
   "metadata": {
    "id": "0yBtNVqBQsuX"
   },
   "source": [
    "# Computer Vision Lecture - Exercise 6 - Self-Supervision\n",
    "In this exercise, we will implement the Barlow Twins approach discussed in Lecture 11. We will learn self-supervised representations (with no labels!) on the CIFAR-10 dataset, and then use these representations to build a k-Nearest Neighbor classifier with very few labeled training samples.\n",
    "\n",
    "This notebook guides you through the relevant steps. When you see helper functions, you don't need to do anything - they are already implemented. The functions you need to implement are indicated as Exercise Function. For this exercise, there are **four exercise functions** in total. When you are done, you can explore the approach in more detail if you like, by re-training the model with different augmentations and hyper-parameters.\n",
    "\n",
    "Good luck!\n",
    "\n",
    "*Remark*: If you encounter \"IOPub message rate exceeded\" while downloading the datasets, you can launch the notebook with the following extra flag:\n",
    "`jupyter-notebook --NotebookApp.iopub_data_rate_limit=1.0e10`\n",
    "\n",
    "Note that this is a one-time warning that may happen only the first time you execute the notebook. It is not an error with the dataset download, and will not appear again once the data is downloaded. "
   ]
  },
  {
   "cell_type": "markdown",
   "metadata": {
    "id": "TAF5mRfdT5EF"
   },
   "source": [
    "## Preliminaries\n",
    "Let's import the required libaries and datasets."
   ]
  },
  {
   "cell_type": "code",
   "execution_count": null,
   "metadata": {
    "id": "r9CpnEyzQnbs"
   },
   "outputs": [],
   "source": [
    "import random\n",
    "import numpy as np\n",
    "import matplotlib.pyplot as plt\n",
    "from PIL import Image\n",
    "\n",
    "import torch\n",
    "import torch.nn as nn\n",
    "import torch.nn.functional as F\n",
    "from torchvision import models, transforms, datasets"
   ]
  },
  {
   "cell_type": "markdown",
   "metadata": {
    "id": "5C1GFSiIj_v_"
   },
   "source": [
    "First, we download the [CIFAR-10 Dataset](https://www.cs.toronto.edu/~kriz/cifar.html) and visualize some of its images."
   ]
  },
  {
   "cell_type": "code",
   "execution_count": null,
   "metadata": {
    "id": "0IWx9znwp4x9"
   },
   "outputs": [],
   "source": [
    "train_set = datasets.CIFAR10(root='./data', train=True, download=True)\n",
    "val_set = datasets.CIFAR10(root='./data', train=False)\n",
    "print(f\"Total training examples: {len(train_set)}\")\n",
    "print(f\"Total validation examples: {len(val_set)}\")\n",
    "\n",
    "plt.figure(figsize=(10, 10))\n",
    "for n in range(25):\n",
    "    ax = plt.subplot(5, 5, n + 1)\n",
    "    plt.imshow(np.asarray(train_set[n][0]).astype(\"int\"))\n",
    "    plt.axis(\"off\")\n",
    "plt.show()"
   ]
  },
  {
   "cell_type": "markdown",
   "metadata": {
    "id": "3MPjCREknT8m"
   },
   "source": [
    "## k-NN classifier for CIFAR-10\n",
    "\n",
    "We now have our dataset. Let's start by trying to program a k-Nearest Neighbors (k-NN) classifier that directly uses the image pixels as features. k-NN classifiers are commonly used to evaluate the quality of a representation in self-supervised learning models. In particular, we will build our k-NN classifier using 1000 training images and 1000 testing images from the CIFAR-10 dataset. Note that the full size of the CIFAR-10 training set is 50000 images, so the k-NN classifiers we use in this exercise use only **2% of the available labels in the dataset**. Let's sub-sample our training and validation datasets for the k-NN classifier."
   ]
  },
  {
   "cell_type": "code",
   "execution_count": null,
   "metadata": {},
   "outputs": [],
   "source": [
    "NUM_SAMPLES = 1000\n",
    "\n",
    "# 1000 random (image, label) pairs from train set\n",
    "train_indices = random.sample(range(len(train_set)), k=NUM_SAMPLES)\n",
    "train_subset = train_set.data[train_indices]\n",
    "train_subset_labels = np.array(train_set.targets)[train_indices]\n",
    "\n",
    "# 1000 random (image, label) pairs from validation set\n",
    "val_indices = random.sample(range(len(val_set)), k=NUM_SAMPLES)\n",
    "val_subset = val_set.data[val_indices]\n",
    "val_subset_labels = np.array(val_set.targets)[val_indices]"
   ]
  },
  {
   "cell_type": "markdown",
   "metadata": {},
   "source": [
    "### k-NN prediction\n",
    "The steps that we now have to take are:\n",
    "\n",
    "1. For each validation sample, obtain the L1 distance to every training sample.\n",
    "2. Filter the k training samples with the lowest L1 distance to each validation sample.\n",
    "3. Check the labels of these k filtered training samples, and use a majority vote for classification\n",
    "\n",
    "Implement the k-NN prediction function below."
   ]
  },
  {
   "cell_type": "code",
   "execution_count": null,
   "metadata": {},
   "outputs": [],
   "source": [
    "###########################\n",
    "#### Exercise Function ####\n",
    "###########################\n",
    "def predict_knn(sample, train_data, train_labels, k):\n",
    "    '''\n",
    "    returns the predicted label for a specific validation sample\n",
    "    \n",
    "    :param sample: single example from validation set\n",
    "    :param train_data: full training set as a single array\n",
    "    :param train_labels: full set of training labels and a single array\n",
    "    :param k: number of nearest neighbors used for k-NN voting\n",
    "    '''\n",
    "    data = train_data.reshape(NUM_SAMPLES, -1)\n",
    "    label_count = np.zeros(10)\n",
    "    dist = np.sum(np.abs(sample.flatten() - data),axis=1)\n",
    "    idx = np.argpartition(dist,k)\n",
    "    min_ind = idx[:k]\n",
    "    for x in min_ind:\n",
    "        label_count[train_labels[x]] +=1\n",
    "    return np.argmax(label_count)"
   ]
  },
  {
   "cell_type": "markdown",
   "metadata": {},
   "source": [
    "We will now compute the classification accuracy for the 3 different settings of k (7, 13, and 19)."
   ]
  },
  {
   "cell_type": "code",
   "execution_count": null,
   "metadata": {},
   "outputs": [],
   "source": [
    "predictions_7 = []\n",
    "predictions_13 = []\n",
    "predictions_19 = []\n",
    "for sample in val_subset:\n",
    "    predictions_7.append(predict_knn(sample, train_subset, train_subset_labels, k=7))\n",
    "    predictions_13.append(predict_knn(sample, train_subset, train_subset_labels, k=13))\n",
    "    predictions_19.append(predict_knn(sample, train_subset, train_subset_labels, k=19))"
   ]
  },
  {
   "cell_type": "code",
   "execution_count": null,
   "metadata": {},
   "outputs": [],
   "source": [
    "matches_7 = (np.array(predictions_7) == val_subset_labels)\n",
    "accuracy_7 = np.sum(matches_7)/NUM_SAMPLES * 100\n",
    "print(f\"k-NN accuracy (k=7): {accuracy_7}%\")\n",
    "\n",
    "matches_13 = (np.array(predictions_13) == val_subset_labels)\n",
    "accuracy_13 = np.sum(matches_13)/NUM_SAMPLES * 100\n",
    "print(f\"k-NN accuracy (k=13): {accuracy_13}%\")\n",
    "\n",
    "matches_19 = (np.array(predictions_19) == val_subset_labels)\n",
    "accuracy_19 = np.sum(matches_19)/NUM_SAMPLES * 100\n",
    "print(f\"k-NN accuracy (k=19): {accuracy_19}%\")"
   ]
  },
  {
   "cell_type": "markdown",
   "metadata": {},
   "source": [
    "## Representation learning with Barlow Twins\n",
    "\n",
    "We see that the k-NN classifier's accuracy is better than random guessing (which would give 10%). However, there is still room for improvement. Rather than classifying the RGB image pixels, we are now going to learn self-supervised representations for the CIFAR-10 images, without any of the training labels! Using the k-NN classifier on top of these self-supervised representations, we hope to boost the classifier's performance.\n",
    "\n",
    "Barlow Twins is a contrastive learning approach that requires various kinds of **data augmentation**. We provide these for you through the following helper function. If you are interested, feel free to experiment with the hyper-parameters of this transform in order to get better results."
   ]
  },
  {
   "cell_type": "code",
   "execution_count": null,
   "metadata": {
    "id": "MuSihB2Ek3f3"
   },
   "outputs": [],
   "source": [
    "###########################\n",
    "##### Helper Function #####\n",
    "###########################\n",
    "def get_transform():\n",
    "    '''\n",
    "    returns a transform that randomly crops, flips, jitters color or drops color from the input\n",
    "    '''\n",
    "    return transforms.Compose([\n",
    "                transforms.RandomResizedCrop(32, scale=[0.75, 1.0], \n",
    "                                            interpolation=Image.BICUBIC),\n",
    "                transforms.RandomHorizontalFlip(p=0.5),\n",
    "                transforms.RandomApply(\n",
    "                    [transforms.ColorJitter(brightness=0.4, contrast=0.4,\n",
    "                                            saturation=0.2, hue=0.1)],\n",
    "                    p=0.9\n",
    "                ),\n",
    "                transforms.RandomGrayscale(p=0.3),\n",
    "            ])"
   ]
  },
  {
   "cell_type": "markdown",
   "metadata": {},
   "source": [
    "### Augmented Data\n",
    "\n",
    "Let's generate two versions of this transform (t1 and t2) and visualize some training images with the transforms applied. The self-supervised learning objective will require the network to match features coming from such transformed pairs. With the visualizations, we can ensure that these pairs indeed come from the same image, and observe the differences between the pair as a result of our augmentation choice. "
   ]
  },
  {
   "cell_type": "code",
   "execution_count": null,
   "metadata": {
    "colab": {
     "base_uri": "https://localhost:8080/",
     "height": 479
    },
    "id": "5LVXbrial9_x",
    "outputId": "2b880629-edfb-426a-8d8b-cbbc06cc92f3"
   },
   "outputs": [],
   "source": [
    "t1 = get_transform()\n",
    "t2 = get_transform()\n",
    "\n",
    "plt.figure(figsize=(8, 4))\n",
    "for n in range(8):\n",
    "    im_t1 = t1(train_set[n][0])\n",
    "    plt.subplot(2, 4, n + 1)\n",
    "    plt.imshow(np.asarray(im_t1).astype(\"int\"))\n",
    "    plt.axis(\"off\")\n",
    "plt.show()\n",
    "\n",
    "plt.figure(figsize=(8, 4))\n",
    "for n in range(8):\n",
    "    im_t2 = t2(train_set[n][0])\n",
    "    plt.subplot(2, 4, n + 1)\n",
    "    plt.imshow(np.asarray(im_t2).astype(\"int\"))\n",
    "    plt.axis(\"off\")\n",
    "plt.show()"
   ]
  },
  {
   "cell_type": "markdown",
   "metadata": {},
   "source": [
    "### Barlow Twins loss\n",
    "\n",
    "The main crux of Barlow Twins lies in the way the authors formulate the loss function. Here's the overall pseudocode for Barlow Twins (taken from the [paper](https://arxiv.org/abs/2103.03230)). \n",
    "\n",
    "![](https://i.ibb.co/bJLRjzx/image.png)\n",
    "\n",
    "You will now be implementing this loss function. If you feel stuck, please look through Section 2 the original paper, which provides additional mathematical details. We recommend that you first write a pytorch function to extract a flattened (1-dimensional) view of the off-diagonal elements of a square matrix, which will later be useful in implementing the complete loss function."
   ]
  },
  {
   "cell_type": "code",
   "execution_count": null,
   "metadata": {},
   "outputs": [],
   "source": [
    "###########################\n",
    "#### Exercise Function ####\n",
    "###########################\n",
    "def off_diagonal(x):\n",
    "    '''\n",
    "    returns a flattened view of the off-diagonal elements of a square matrix x\n",
    "    '''\n",
    "    n, m = x.shape\n",
    "    assert n == m\n",
    "    \n",
    "    def flatten(t):\n",
    "        return t.reshape(t.shape[0], -1)\n",
    "\n",
    "    return x.flatten()[:-1].view(n - 1, n + 1)[:, 1:].flatten()"
   ]
  },
  {
   "cell_type": "code",
   "execution_count": null,
   "metadata": {},
   "outputs": [],
   "source": [
    "###########################\n",
    "#### Exercise Function ####\n",
    "###########################\n",
    "def barlow_loss(z1, z2, bn, lambd):\n",
    "    '''\n",
    "    return the barlow twins loss function for a pair of features. Makes use of the off_diagonal function.\n",
    "    \n",
    "    :param z1: first input feature\n",
    "    :param z2: second input feature\n",
    "    :param bn: nn.BatchNorm1d layer applied to z1 and z2\n",
    "    :param lambd: trade-off hyper-parameter lambda\n",
    "    '''\n",
    "    # empirical cross-correlation matrix\n",
    "    c = torch.mm(bn(z1).T, bn(z2))\n",
    "    c.div_(z1.shape[0])\n",
    "\n",
    "    on_diag = torch.diagonal(c).add_(-1).pow_(2).sum()\n",
    "    off_diag = off_diagonal(c).pow_(2).sum()\n",
    "    return (on_diag + lambd * off_diag)"
   ]
  },
  {
   "cell_type": "markdown",
   "metadata": {},
   "source": [
    "### Projector\n",
    "\n",
    "Next, we will implement the neural networks used for representation learning. Barlow Twins uses 2 networks, and encoder and a projector. For the encoder, we provide a ResNet-18 model from the torchvision library, while you are required to implement the projector MLP yourself. The projector is a 2-layer neural network. The first layer has 512 input units and 256 output units, and the second layer has 256 input units and 128 output units. Don't forget the ReLU non-linearity between layers!"
   ]
  },
  {
   "cell_type": "code",
   "execution_count": null,
   "metadata": {},
   "outputs": [],
   "source": [
    "###########################\n",
    "#### Exercise Function ####\n",
    "###########################\n",
    "class Projector(nn.Module):\n",
    "    '''\n",
    "    2-layer neural network (512 -> 256), (256 -> 128), ReLU non-linearity\n",
    "    '''\n",
    "    def __init__(self):\n",
    "        super().__init__()\n",
    "        self.fc1 = nn.Linear(512, 256)\n",
    "        self.fc2 = nn.Linear(256, 128)\n",
    "\n",
    "    def forward(self, x):\n",
    "        x = F.relu(self.fc1(x))\n",
    "        x = self.fc2(x)\n",
    "        return x"
   ]
  },
  {
   "attachments": {
    "image.png": {
     "image/png": "[encoded data removed]"
    }
   },
   "cell_type": "markdown",
   "metadata": {},
   "source": [
    "### Full model\n",
    "\n",
    "Finally, we will put together all the modules implemented so far into a wrapper for our Barlow Twins network. The network structure is shown in the figure below.\n",
    "![image.png](attachment:image.png)"
   ]
  },
  {
   "cell_type": "code",
   "execution_count": null,
   "metadata": {},
   "outputs": [],
   "source": [
    "###########################\n",
    "##### Helper Function #####\n",
    "###########################\n",
    "class BarlowTwins(nn.Module):\n",
    "    '''\n",
    "    Full Barlow Twins model with encoder, projector and loss\n",
    "    '''\n",
    "    def __init__(self, encoder, projector, lambd):\n",
    "        '''\n",
    "        :param encoder: encoder network\n",
    "        :param projector: projector network\n",
    "        :param lambd: tradeoff function (hyper-parameter)\n",
    "        '''\n",
    "        super().__init__()\n",
    "        self.encoder = encoder\n",
    "        self.projector = projector\n",
    "        self.lambd = lambd     \n",
    "\n",
    "        # normalization layer for the representations z1 and z2\n",
    "        self.bn = nn.BatchNorm1d(128, affine=False)\n",
    "\n",
    "    def forward(self, y1, y2):\n",
    "        z1 = self.encoder(y1)\n",
    "        z2 = self.encoder(y2)\n",
    "        z1 = self.projector(z1)\n",
    "        z2 = self.projector(z2)\n",
    "\n",
    "        return barlow_loss(z1, z2, self.bn, self.lambd)"
   ]
  },
  {
   "cell_type": "markdown",
   "metadata": {},
   "source": [
    "The following transform performs the pair of augmentations on the input data of the model."
   ]
  },
  {
   "cell_type": "code",
   "execution_count": null,
   "metadata": {},
   "outputs": [],
   "source": [
    "###########################\n",
    "##### Helper Function #####\n",
    "###########################\n",
    "cifar_train_mean = [125.30691805, 122.95039414, 113.86538318]\n",
    "cifar_train_std = [62.99321928, 62.08870764, 66.70489964]\n",
    "\n",
    "class Transform:\n",
    "    def __init__(self, t1, t2):\n",
    "        '''\n",
    "        :param t1: Transforms to be applied to first input\n",
    "        :param t2: Transforms to be applied to second input\n",
    "        '''\n",
    "        self.t1 = transforms.Compose([\n",
    "                t1,\n",
    "                transforms.ToTensor(),\n",
    "                transforms.Normalize(mean=cifar_train_mean, std=cifar_train_std)\n",
    "            ])\n",
    "        self.t2 = transforms.Compose([\n",
    "                t2,\n",
    "                transforms.ToTensor(),\n",
    "                transforms.Normalize(mean=cifar_train_mean, std=cifar_train_std)\n",
    "            ])\n",
    "\n",
    "    def __call__(self, x):\n",
    "        y1 = self.t1(x)\n",
    "        y2 = self.t2(x)\n",
    "        return y1, y2"
   ]
  },
  {
   "cell_type": "markdown",
   "metadata": {},
   "source": [
    "### Training\n",
    "\n",
    "With all the components complete, we are now ready to start our self-supervised training! In the next cell, the four constants at the top are the training hyper-parameters. Depending on your resource avaliability, you may be able to increase the number of epochs for better final results. The default configuration of 10 epochs should take less than 10 minutes to finish training on a GPU."
   ]
  },
  {
   "cell_type": "code",
   "execution_count": null,
   "metadata": {},
   "outputs": [],
   "source": [
    "# Hyper-parameters\n",
    "EPOCHS = 10\n",
    "LR = 0.001\n",
    "BATCH = 256\n",
    "LAMBDA = 5e-3\n",
    "\n",
    "# Initialize encoder, projector and full model\n",
    "encoder = models.resnet18(pretrained=False)\n",
    "encoder.fc = nn.Identity() # removes the 1000-dimensional classification layer\n",
    "projector = Projector()\n",
    "twins = BarlowTwins(encoder, projector, LAMBDA).cuda()\n",
    "\n",
    "# Dataset and optimizer\n",
    "dataset = datasets.CIFAR10(root='./data', train=True, transform=Transform(t1, t2))\n",
    "loader = torch.utils.data.DataLoader(dataset,\n",
    "                                        batch_size=BATCH,\n",
    "                                        num_workers=4, # For some students, this cell took >1h to run. But when they used num_workers=0 it worked\n",
    "                                        shuffle=True)\n",
    "optimizer = torch.optim.Adam(twins.parameters(), lr=LR)\n",
    "\n",
    "# Training loop\n",
    "for epoch in range(EPOCHS):\n",
    "    for batch_idx, ((x1,x2), _) in enumerate(loader):\n",
    "        loss = twins(x1.cuda(), x2.cuda())\n",
    "        optimizer.zero_grad()\n",
    "        loss.backward()\n",
    "        optimizer.step()\n",
    "    print(f\"Epoch: {epoch + 1}, Loss: {float(loss)}\")"
   ]
  },
  {
   "cell_type": "markdown",
   "metadata": {},
   "source": [
    "## k-NN with self-supervised features\n",
    "\n",
    "We will now use our trained ResNet-18 encoder to extract features for the k-NN classifier."
   ]
  },
  {
   "cell_type": "code",
   "execution_count": null,
   "metadata": {},
   "outputs": [],
   "source": [
    "# Dataloaders for extracting self-supervised features\n",
    "test_transform = transforms.Compose([\n",
    "                transforms.ToTensor(),\n",
    "                transforms.Normalize(mean=cifar_train_mean, std=cifar_train_std)\n",
    "            ])\n",
    "\n",
    "train_set = datasets.CIFAR10(root='./data', train=True, transform=test_transform)\n",
    "val_set = datasets.CIFAR10(root='./data', train=False, transform=test_transform)\n",
    "\n",
    "train_subset_torch = torch.utils.data.Subset(train_set, train_indices)\n",
    "val_subset_torch = torch.utils.data.Subset(val_set, val_indices)\n",
    "\n",
    "train_loader = torch.utils.data.DataLoader(train_subset_torch,\n",
    "                                        batch_size=NUM_SAMPLES,\n",
    "                                        shuffle=False)\n",
    "val_loader = torch.utils.data.DataLoader(val_subset_torch,\n",
    "                                        batch_size=NUM_SAMPLES,\n",
    "                                        shuffle=False)\n",
    "\n",
    "# Extract features with the trained encoder\n",
    "# We use a single batch of size 1000\n",
    "for batch in train_loader:\n",
    "    train_features = encoder(batch[0].cuda()).data.cpu().numpy()\n",
    "\n",
    "for batch in val_loader:\n",
    "    val_features = encoder(batch[0].cuda()).data.cpu().numpy()"
   ]
  },
  {
   "cell_type": "markdown",
   "metadata": {},
   "source": [
    "### Final Prediction\n",
    "\n",
    "Now that we run our k-NN classifier on top of the learned features rather than the raw image pixels, we expect a boost in classification accuracy."
   ]
  },
  {
   "cell_type": "code",
   "execution_count": null,
   "metadata": {},
   "outputs": [],
   "source": [
    "predictions_7 = []\n",
    "predictions_13 = []\n",
    "predictions_19 = []\n",
    "for sample in val_features:\n",
    "    predictions_7.append(predict_knn(sample, train_features, train_subset_labels, k=7))\n",
    "    predictions_13.append(predict_knn(sample, train_features, train_subset_labels, k=13))\n",
    "    predictions_19.append(predict_knn(sample, train_features, train_subset_labels, k=19))"
   ]
  },
  {
   "cell_type": "code",
   "execution_count": null,
   "metadata": {},
   "outputs": [],
   "source": [
    "matches_7 = (np.array(predictions_7) == val_subset_labels)\n",
    "accuracy_7 = np.sum(matches_7)/NUM_SAMPLES * 100\n",
    "print(f\"k-NN accuracy (k=7): {accuracy_7}%\")\n",
    "\n",
    "matches_13 = (np.array(predictions_13) == val_subset_labels)\n",
    "accuracy_13 = np.sum(matches_13)/NUM_SAMPLES * 100\n",
    "print(f\"k-NN accuracy (k=13): {accuracy_13}%\")\n",
    "\n",
    "matches_19 = (np.array(predictions_19) == val_subset_labels)\n",
    "accuracy_19 = np.sum(matches_19)/NUM_SAMPLES * 100\n",
    "print(f\"k-NN accuracy (k=19): {accuracy_19}%\")"
   ]
  },
  {
   "cell_type": "markdown",
   "metadata": {},
   "source": [
    "Congratulations! You have now implemented a state-of-the-art method for self-supervised learning, and with that completed the final exercise of this computer vision course. We hope you enjoyed the exercises. Good luck for your exams!"
   ]
  }
 ],
 "metadata": {
  "colab": {
   "collapsed_sections": [],
   "name": "recognition_solution.ipynb",
   "provenance": []
  },
  "kernelspec": {
   "display_name": "Python 3.8.10 64-bit",
   "language": "python",
   "name": "python3"
  },
  "language_info": {
   "codemirror_mode": {
    "name": "ipython",
    "version": 3
   },
   "file_extension": ".py",
   "mimetype": "text/x-python",
   "name": "python",
   "nbconvert_exporter": "python",
   "pygments_lexer": "ipython3",
   "version": "3.8.10"
  },
  "vscode": {
   "interpreter": {
    "hash": "916dbcbb3f70747c44a77c7bcd40155683ae19c65e1c03b4aa3499c5328201f1"
   }
  }
 },
 "nbformat": 4,
 "nbformat_minor": 1
}
